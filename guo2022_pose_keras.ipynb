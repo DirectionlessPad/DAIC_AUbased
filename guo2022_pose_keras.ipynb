{
    "cells": [
        {
            "cell_type": "code",
            "execution_count": 413,
            "metadata": {},
            "outputs": [],
            "source": [
                "from pathlib import Path\n",
                "import pandas as pd\n",
                "from imblearn.over_sampling import RandomOverSampler\n",
                "from keras.models import load_model\n",
                "from keras.callbacks import ModelCheckpoint\n",
                "from keras.layers import BatchNormalization, Dense, Input, Conv1D, Add, ELU, Flatten, MaxPooling1D\n",
                "from keras.layers import GlobalAveragePooling1D, Softmax, Concatenate, Reshape, Multiply, ReLU, Dropout\n",
                "from keras.optimizers import SGD\n",
                "from keras import activations\n",
                "from keras import Model\n",
                "from keras.initializers import HeNormal\n",
                "from sklearn.metrics import confusion_matrix, ConfusionMatrixDisplay\n",
                "from load_dataset import load_original_daic, load_labels\n",
                "import matplotlib.pyplot as plt\n",
                "import numpy as np\n",
                "from keras.utils.vis_utils import plot_model"
            ]
        },
        {
            "cell_type": "code",
            "execution_count": 414,
            "metadata": {},
            "outputs": [],
            "source": [
                "daic_pose_train = load_original_daic(\"original_daic/train\", \"pose\")\n",
                "daic_pose_dev = load_original_daic(\"original_daic/dev\", \"pose\")\n",
                "daic_pose_test = load_original_daic(\"original_daic/test\", \"pose\")"
            ]
        },
        {
            "cell_type": "code",
            "execution_count": 415,
            "metadata": {},
            "outputs": [],
            "source": [
                "# daic_pose_dev[\"432\"].loc[0:4999]\n",
                "# for i in range(5000):\n",
                "#     try:\n",
                "#         temp = daic_pose_test[\"432\"].loc[i].to_numpy(dtype=\"float32\")\n",
                "#     except Exception:\n",
                "#         print(i)"
            ]
        },
        {
            "cell_type": "code",
            "execution_count": 416,
            "metadata": {},
            "outputs": [],
            "source": [
                "label_path = Path(\"original_daic/labels\")\n",
                "loaded_labels = load_labels(label_path)\n",
                "y_train = np.array(loaded_labels[\"train\"])\n",
                "y_dev = np.array(loaded_labels[\"dev\"])\n",
                "y_test = np.array(loaded_labels[\"test\"])\n"
            ]
        },
        {
            "cell_type": "code",
            "execution_count": 417,
            "metadata": {},
            "outputs": [],
            "source": [
                "# train_depressed_idx = np.where(y_train==1)[0]\n",
                "# dev_depressed_idx = np.where(y_dev==1)[0]\n",
                "# test_depressed_idx = np.where(y_test==1)[0]"
            ]
        },
        {
            "cell_type": "code",
            "execution_count": 418,
            "metadata": {},
            "outputs": [],
            "source": [
                "pose_train = []\n",
                "pose_dev = []\n",
                "pose_test = []\n",
                "for subject_id, subject_df in daic_pose_train.items():\n",
                "    temp = subject_df.copy().loc[1000:5999].to_numpy(dtype=\"float32\")\n",
                "    pose_train.append(temp)\n",
                "for subject_id, subject_df in daic_pose_dev.items():\n",
                "    # print(subject_id)\n",
                "    temp = subject_df.copy().loc[1000:5999].to_numpy(dtype=\"float32\")\n",
                "    pose_dev.append(temp)\n",
                "for subject_id, subject_df in daic_pose_test.items():\n",
                "    # print(subject_id)\n",
                "    temp = subject_df.copy().loc[1000:5999].to_numpy(dtype=\"float32\")\n",
                "    pose_test.append(temp)"
            ]
        },
        {
            "cell_type": "code",
            "execution_count": 419,
            "metadata": {},
            "outputs": [],
            "source": [
                "# list1 = [np.array([12,1]), np.array([2,3])]\n",
                "# list2 = [np.array([4,5]), np.array([6,7])]\n",
                "# list3 = [np.array([8,9]), np.array([10,11])]\n",
                "# all_lists = np.array(list1 + list2 + list3)\n",
                "# print(all_lists.min(0))\n",
                "# print(all_lists.ptp(0))\n",
                "all_samples = pose_train + pose_dev + pose_test\n",
                "# all_samples = np.array(pose_train + pose_dev + pose_test, dtype=object)\n",
                "all_samples = np.concatenate((all_samples),)\n",
                "# all_samples.shape\n",
                "min_values = all_samples.min(axis=0)\n",
                "ptp_ranges = all_samples.ptp(axis=0)"
            ]
        },
        {
            "cell_type": "code",
            "execution_count": 420,
            "metadata": {},
            "outputs": [],
            "source": [
                "pose_train = np.array(pose_train)\n",
                "pose_dev = np.array(pose_dev)\n",
                "pose_test = np.array(pose_test)"
            ]
        },
        {
            "cell_type": "code",
            "execution_count": 421,
            "metadata": {},
            "outputs": [],
            "source": [
                "norm_pose_train = (pose_train - min_values)/ptp_ranges\n",
                "norm_pose_dev = (pose_dev - min_values)/ptp_ranges\n",
                "norm_pose_test = (pose_test - min_values)/ptp_ranges"
            ]
        },
        {
            "cell_type": "code",
            "execution_count": 422,
            "metadata": {},
            "outputs": [
                {
                    "name": "stdout",
                    "output_type": "stream",
                    "text": [
                        "(47,)\n",
                        "30\n"
                    ]
                }
            ],
            "source": [
                "print(y_test.shape)\n",
                "print(sum(y_train))"
            ]
        },
        {
            "cell_type": "code",
            "execution_count": 423,
            "metadata": {},
            "outputs": [
                {
                    "name": "stdout",
                    "output_type": "stream",
                    "text": [
                        "154\n"
                    ]
                }
            ],
            "source": [
                "# depressed_only = norm_pose_train[train_depressed_idx]\n",
                "indices = range(norm_pose_train.shape[0])\n",
                "oversample = RandomOverSampler(sampling_strategy='minority')\n",
                "# oversample = RandomOverSampler(sampling_strategy=0.75)\n",
                "# print(norm_pose_train[:].shape)\n",
                "indices = np.array(indices).reshape(-1,1)\n",
                "ros_indices, _ = oversample.fit_resample(indices, y_train)\n",
                "print(len(ros_indices))\n",
                "rng = np.random.default_rng(10000)\n",
                "rng.shuffle(ros_indices)\n",
                "ros_norm_pose_train = np.squeeze(norm_pose_train[ros_indices])\n",
                "over_train_y = np.squeeze(y_train[ros_indices])\n",
                "# print(ros_norm_pose_train.shape)"
            ]
        },
        {
            "cell_type": "code",
            "execution_count": 424,
            "metadata": {},
            "outputs": [
                {
                    "name": "stdout",
                    "output_type": "stream",
                    "text": [
                        "[0 0 0 0 0 1 1 0 0 0 1 1 0 1 0 1 1 1 0 0 1 0 0 0 1 0 0 1 1 1 1 0 0 0 0 0 1\n",
                        " 0 1 0 1 0 0 1 1 1 1 0 1 0 0 1 1 0 1 0 1 0 1 1 1 0 1 0 0 1 0 0 1 1 1 1 0 1\n",
                        " 1 1 1 0 1 0 1 0 1 0 0 1 0 1 1 1 0 1 1 0 1 0 0 0 1 0 1 1 0 1 1 0 0 0 0 1 0\n",
                        " 1 0 0 1 1 1 1 0 1 0 1 0 0 0 1 0 0 0 0 1 1 0 1 1 1 0 1 1 1 0 0 1 0 0 0 0 1\n",
                        " 0 1 0 1 1 1]\n"
                    ]
                }
            ],
            "source": [
                "print(over_train_y)"
            ]
        },
        {
            "cell_type": "code",
            "execution_count": 425,
            "metadata": {},
            "outputs": [],
            "source": [
                "input_pose = Input(shape=[5000, 6])\n",
                "tdcn_dim_pose = [128,64,256,128,64] # used in Guo's paper\n",
                "# tdcn_dim_pose = [128,128,128,128,128]\n",
                "bias_initializer = HeNormal(seed=0)"
            ]
        },
        {
            "cell_type": "code",
            "execution_count": 426,
            "metadata": {},
            "outputs": [
                {
                    "name": "stdout",
                    "output_type": "stream",
                    "text": [
                        "(400, 5000, 6)\n",
                        "(400,)\n"
                    ]
                }
            ],
            "source": [
                "x_train_bad = np.concatenate((np.zeros((200, 5000, 6)), np.ones((200, 5000, 6))))\n",
                "y_train_bad = np.concatenate((np.zeros(200), np.ones(200)))\n",
                "x_dev_bad = np.concatenate((np.zeros((20, 5000, 6)), np.ones((20, 5000, 6))))\n",
                "y_dev_bad = np.concatenate((np.zeros(20), np.ones(20)))\n",
                "rng = np.random.default_rng(12345)\n",
                "order = np.arange(0,400)\n",
                "rng.shuffle(order)\n",
                "x_train_bad = x_train_bad[order]\n",
                "y_train_bad = y_train_bad[order]\n",
                "print(x_train_bad.shape)\n",
                "print(y_train_bad.shape)"
            ]
        },
        {
            "cell_type": "code",
            "execution_count": 427,
            "metadata": {},
            "outputs": [],
            "source": [
                "# One DCB\n",
                "# first layer of the DCB\n",
                "def diluted_conv_block(inputs, feature_dim, batch_normalisation=False):\n",
                "    # with K.name_scope(block_name)\n",
                "    l1_p1 = Conv1D(filters=feature_dim, kernel_size=3, padding=\"same\", dilation_rate=1, use_bias=True, bias_initializer=bias_initializer)(inputs)\n",
                "    l1_p2 = Conv1D(filters=feature_dim, kernel_size=3, padding=\"same\", dilation_rate=1, use_bias=True, bias_initializer=bias_initializer)(inputs)\n",
                "    l1_add = Add()([l1_p1, l1_p2])\n",
                "    l1_ELU = ELU()(l1_add)\n",
                "    # second layer of the DCB\n",
                "    # l2_p1 = Conv1D(filters=feature_dim, kernel_size=5, padding=\"same\", dilation_rate=2, use_bias=True, bias_initializer=bias_initializer)(l1_ELU)\n",
                "    # l2_p2 = Conv1D(filters=feature_dim, kernel_size=5, padding=\"same\", dilation_rate=2, use_bias=True, bias_initializer=bias_initializer)(l1_ELU)\n",
                "    l2_p1 = Conv1D(filters=feature_dim, kernel_size=3, padding=\"same\", dilation_rate=2, use_bias=True, bias_initializer=bias_initializer)(l1_ELU)\n",
                "    l2_p2 = Conv1D(filters=feature_dim, kernel_size=3, padding=\"same\", dilation_rate=2, use_bias=True, bias_initializer=bias_initializer)(l1_ELU)\n",
                "    l2_add = Add()([l2_p1, l2_p2])\n",
                "    l2_ELU = ELU()(l2_add)\n",
                "    # third layer of the DCB\n",
                "    # l3_p1 = Conv1D(filters=feature_dim, kernel_size=9, padding=\"same\", dilation_rate=4, use_bias=True, bias_initializer=bias_initializer)(l2_ELU)\n",
                "    # l3_p2 = Conv1D(filters=feature_dim, kernel_size=9, padding=\"same\", dilation_rate=4, use_bias=True, bias_initializer=bias_initializer)(l2_ELU)\n",
                "    l3_p1 = Conv1D(filters=feature_dim, kernel_size=3, padding=\"same\", dilation_rate=4, use_bias=True, bias_initializer=bias_initializer)(l2_ELU)\n",
                "    l3_p2 = Conv1D(filters=feature_dim, kernel_size=3, padding=\"same\", dilation_rate=4, use_bias=True, bias_initializer=bias_initializer)(l2_ELU)\n",
                "    l3_add = Add()([l3_p1, l3_p2])\n",
                "    l3_ELU = ELU()(l3_add)\n",
                "\n",
                "    residual = Conv1D(filters=feature_dim, kernel_size=1, padding=\"same\")(inputs)\n",
                "    res_add = Add()([l3_ELU, residual])\n",
                "    if batch_normalisation:\n",
                "        bn = BatchNormalization()(res_add)\n",
                "        return bn\n",
                "    else:\n",
                "        return res_add"
            ]
        },
        {
            "cell_type": "code",
            "execution_count": 428,
            "metadata": {},
            "outputs": [
                {
                    "name": "stdout",
                    "output_type": "stream",
                    "text": [
                        "(None, 312, 64)\n",
                        "(None, 19968)\n"
                    ]
                }
            ],
            "source": [
                "def time_diluted_conv_net(feature_dim, input_layer, pool_size, pool_stride):\n",
                "    dcb_1 = diluted_conv_block(input_layer, feature_dim[0], batch_normalisation=True)\n",
                "    mp_1 = MaxPooling1D(pool_size=pool_size, strides=pool_stride, padding='valid')(dcb_1)\n",
                "    dcb_2 = diluted_conv_block(mp_1, feature_dim[1], batch_normalisation=True)\n",
                "    mp_2 = MaxPooling1D(pool_size=pool_size, strides=pool_stride, padding='valid')(dcb_2)\n",
                "    dcb_3 = diluted_conv_block(mp_2, feature_dim[2], batch_normalisation=True)\n",
                "    mp_3 = MaxPooling1D(pool_size=pool_size, strides=pool_stride, padding='valid')(dcb_3)\n",
                "    dcb_4 = diluted_conv_block(mp_3, feature_dim[3], batch_normalisation=True)\n",
                "    mp_4 = MaxPooling1D(pool_size=pool_size, strides=pool_stride, padding='valid')(dcb_4)\n",
                "    dcb_5 = diluted_conv_block(mp_4, feature_dim[4], batch_normalisation=False)\n",
                "    return dcb_5\n",
                "    # return dcb_2\n",
                "\n",
                "# TDCN block for pose\n",
                "tdcn_pose = time_diluted_conv_net(\n",
                "    feature_dim = tdcn_dim_pose, \n",
                "    input_layer = input_pose, \n",
                "    pool_size = 2, \n",
                "    pool_stride = 2,\n",
                "    )\n",
                "\n",
                "# FWA block\n",
                "concat_layer = Concatenate()([tdcn_pose])\n",
                "# print(concat_layer.shape)\n",
                "# gap_layer = GlobalAveragePooling1D(data_format=\"channels_last\")(concat_layer)\n",
                "gap_layer = GlobalAveragePooling1D(data_format=\"channels_last\")(tdcn_pose)\n",
                "# print(gap_layer.shape)\n",
                "\n",
                "linear_layer_1 = Dense(gap_layer.shape[1])(gap_layer)\n",
                "# relu_layer = Dense(128, activation = \"relu\")(linear_layer_1)\n",
                "relu_layer = activations.relu(linear_layer_1)\n",
                "# relu_layer = ReLU()(linear_layer_1)\n",
                "linear_layer_2 = Dense(gap_layer.shape[1])(relu_layer)\n",
                "# sigmoid_layer = Dense(128, activation = \"sigmoid\")(linear_layer_2)\n",
                "sigmoid_layer = activations.sigmoid(linear_layer_2)\n",
                "# reshape_layer = Reshape((312, 128),)(sigmoid_layer)\n",
                "# print(reshape_layer.output_shape)\n",
                "# elementwise_product = Multiply()([concat_layer, reshape_layer])\n",
                "# elementwise_product = Multiply()([concat_layer, sigmoid_layer])\n",
                "elementwise_product = Multiply()([tdcn_pose, sigmoid_layer])\n",
                "print(elementwise_product.shape)\n",
                "# FC layer\n",
                "flatten = Flatten()(elementwise_product)\n",
                "print(flatten.shape)\n",
                "# the default (but should it be?)\n",
                "# FC_l1 = Dense(16, activation=\"relu\")(flatten)\n",
                "# FC_l2 = Dense(12, activation=\"relu\")(FC_l1)\n",
                "# FC_l3 = Dense(8, activation=\"relu\")(FC_l2)\n",
                "# last_layer = Dense(2, activation=\"relu\")(FC_l3)\n",
                "\n",
                "# FC_l1 = Dense(64, activation=\"relu\")(flatten)\n",
                "# FC_l2 = Dense(32, activation=\"relu\")(FC_l1)\n",
                "# FC_l3 = Dense(16, activation=\"relu\")(FC_l2)\n",
                "# last_layer = Dense(2, activation=\"relu\")(FC_l3)\n",
                "\n",
                "FC_l1 = Dense(15000)(flatten)\n",
                "FC_l2 = Dense(9000)(FC_l1)\n",
                "# FC_l3 = Dense(320, activation=\"relu\")(FC_l2)\n",
                "# FC_l4 = Dense(80, activation=\"relu\")(FC_l3)\n",
                "last_layer = Dense(2)(FC_l2)\n",
                "\n",
                "# FC_l1 = Dense(16, activation=\"relu\")(flatten)\n",
                "# drop_1 = Dropout(0.2)(FC_l1)\n",
                "# FC_l2 = Dense(16, activation=\"relu\")(drop_1)\n",
                "# drop_2 = Dropout(0.2)(FC_l2)\n",
                "# FC_l3 = Dense(8, activation=\"relu\")(drop_2)\n",
                "# drop_3 = Dropout(0.2)(FC_l3)\n",
                "# last_layer = Dense(2, activation=\"relu\")(drop_3)\n",
                "\n",
                "# FC_l1 = Dense(100, activation=\"relu\")(flatten)\n",
                "# FC_l2 = Dense(15, activation=\"relu\")(FC_l1)\n",
                "# # FC_l3 = Dense(30, activation=\"relu\")(FC_l2)\n",
                "# last_layer = Dense(2, activation=\"relu\")(FC_l2)\n",
                "\n",
                "output = Softmax()(last_layer)\n",
                "# output = Dense(1, activation = \"sigmoid\")(FC_l3)"
            ]
        },
        {
            "cell_type": "code",
            "execution_count": 429,
            "metadata": {},
            "outputs": [],
            "source": [
                "batch_size = 8\n",
                "checkpoint_path = \"training_ckpts/keras/pose/pose_training_E-{epoch:04d}.ckpt\"\n",
                "checkpoint_dir = Path(checkpoint_path)\n",
                "\n",
                "cp_callback = ModelCheckpoint(filepath=checkpoint_dir, save_weights_only=True, save_freq=5*batch_size, verbose=1)"
            ]
        },
        {
            "cell_type": "code",
            "execution_count": 430,
            "metadata": {},
            "outputs": [],
            "source": [
                "model_pose = Model(inputs=[input_pose], outputs=[output])"
            ]
        },
        {
            "cell_type": "code",
            "execution_count": 431,
            "metadata": {},
            "outputs": [],
            "source": [
                "# model_pose = load_model(\"saved_models/good_pose_5_7\")"
            ]
        },
        {
            "cell_type": "code",
            "execution_count": 432,
            "metadata": {},
            "outputs": [],
            "source": [
                "# in this instance was using kernel_size=3 for all conv layers and 16,12,8,2 for the FC layers\n",
                "# model_pose.load_weights(\"training_ckpts\\pose_training_C2-0005.ckpt\")"
            ]
        },
        {
            "cell_type": "code",
            "execution_count": 433,
            "metadata": {},
            "outputs": [],
            "source": [
                "opt = SGD(learning_rate = 2e-5, momentum = 0.9)\n",
                "# opt = SGD(learning_rate = 2e-5, momentum = 0.9, nesterov=True)\n",
                "# opt = SGD(learning_rate = 2e-6, momentum = 0.05)\n",
                "model_pose.compile(loss = \"binary_crossentropy\", optimizer=opt, metrics=['accuracy'])\n",
                "# model_pose.compile(loss=\"sparse_categorical_crossentropy\", optimizer=opt, metrics=['accuracy'])\n",
                "# model_pose.save_weights(checkpoint_path.format(epoch=0))"
            ]
        },
        {
            "cell_type": "code",
            "execution_count": 434,
            "metadata": {},
            "outputs": [
                {
                    "name": "stdout",
                    "output_type": "stream",
                    "text": [
                        "Epoch 1/20\n",
                        "20/20 [==============================] - 82s 4s/step - loss: 0.9790 - accuracy: 0.4221 - val_loss: 1.0612 - val_accuracy: 0.6571\n",
                        "Epoch 2/20\n",
                        "19/20 [===========================>..] - ETA: 3s - loss: 0.8615 - accuracy: 0.4539\n",
                        "Epoch 2: saving model to training_ckpts\\pose_training_D-0002.ckpt\n",
                        "20/20 [==============================] - 91s 5s/step - loss: 0.8595 - accuracy: 0.4545 - val_loss: 0.7903 - val_accuracy: 0.6571\n",
                        "Epoch 3/20\n",
                        "20/20 [==============================] - 71s 4s/step - loss: 0.7931 - accuracy: 0.5844 - val_loss: 0.7206 - val_accuracy: 0.6571\n",
                        "Epoch 4/20\n",
                        "19/20 [===========================>..] - ETA: 3s - loss: 0.7748 - accuracy: 0.4145\n",
                        "Epoch 4: saving model to training_ckpts\\pose_training_D-0004.ckpt\n",
                        "20/20 [==============================] - 88s 4s/step - loss: 0.7797 - accuracy: 0.4156 - val_loss: 0.7560 - val_accuracy: 0.6571\n",
                        "Epoch 5/20\n",
                        "20/20 [==============================] - 72s 4s/step - loss: 0.7778 - accuracy: 0.4935 - val_loss: 1.0764 - val_accuracy: 0.6571\n",
                        "Epoch 6/20\n",
                        "19/20 [===========================>..] - ETA: 3s - loss: 0.7569 - accuracy: 0.4605\n",
                        "Epoch 6: saving model to training_ckpts\\pose_training_D-0006.ckpt\n",
                        "20/20 [==============================] - 87s 4s/step - loss: 0.7568 - accuracy: 0.4675 - val_loss: 0.7848 - val_accuracy: 0.6571\n",
                        "Epoch 7/20\n",
                        "20/20 [==============================] - 70s 4s/step - loss: 0.7793 - accuracy: 0.4870 - val_loss: 0.9744 - val_accuracy: 0.6571\n",
                        "Epoch 8/20\n",
                        "19/20 [===========================>..] - ETA: 3s - loss: 0.7758 - accuracy: 0.4013\n",
                        "Epoch 8: saving model to training_ckpts\\pose_training_D-0008.ckpt\n",
                        "20/20 [==============================] - 85s 4s/step - loss: 0.7753 - accuracy: 0.4026 - val_loss: 0.9015 - val_accuracy: 0.6571\n",
                        "Epoch 9/20\n",
                        "20/20 [==============================] - 72s 4s/step - loss: 0.7586 - accuracy: 0.6104 - val_loss: 1.0168 - val_accuracy: 0.6571\n",
                        "Epoch 10/20\n",
                        "19/20 [===========================>..] - ETA: 2s - loss: 0.7534 - accuracy: 0.4868\n",
                        "Epoch 10: saving model to training_ckpts\\pose_training_D-0010.ckpt\n",
                        "20/20 [==============================] - 71s 4s/step - loss: 0.7578 - accuracy: 0.4935 - val_loss: 0.8846 - val_accuracy: 0.6571\n",
                        "Epoch 11/20\n",
                        "20/20 [==============================] - 74s 4s/step - loss: 0.7620 - accuracy: 0.5195 - val_loss: 0.8916 - val_accuracy: 0.6571\n",
                        "Epoch 12/20\n",
                        "19/20 [===========================>..] - ETA: 3s - loss: 0.7632 - accuracy: 0.4145\n",
                        "Epoch 12: saving model to training_ckpts\\pose_training_D-0012.ckpt\n",
                        "20/20 [==============================] - 84s 4s/step - loss: 0.7627 - accuracy: 0.4156 - val_loss: 0.8746 - val_accuracy: 0.6571\n",
                        "Epoch 13/20\n",
                        "20/20 [==============================] - 71s 4s/step - loss: 0.7772 - accuracy: 0.4805 - val_loss: 0.7738 - val_accuracy: 0.6571\n",
                        "Epoch 14/20\n",
                        "14/20 [====================>.........] - ETA: 21s - loss: 0.7380 - accuracy: 0.5536"
                    ]
                },
                {
                    "ename": "KeyboardInterrupt",
                    "evalue": "",
                    "output_type": "error",
                    "traceback": [
                        "\u001b[1;31m---------------------------------------------------------------------------\u001b[0m",
                        "\u001b[1;31mKeyboardInterrupt\u001b[0m                         Traceback (most recent call last)",
                        "Cell \u001b[1;32mIn[434], line 3\u001b[0m\n\u001b[0;32m      1\u001b[0m \u001b[39m# model_pose.fit(x_train_bad[:], y_train_bad[:], validation_data=(x_dev_bad[:], y_dev_bad[:]), epochs=4)\u001b[39;00m\n\u001b[0;32m      2\u001b[0m \u001b[39m# model_pose.fit(norm_pose_train[:], y_train[:], validation_data=(norm_pose_dev[:], y_dev[:]), epochs=6, batch_size=8)\u001b[39;00m\n\u001b[1;32m----> 3\u001b[0m model_pose\u001b[39m.\u001b[39;49mfit(ros_norm_pose_train[:], over_train_y, validation_data\u001b[39m=\u001b[39;49m(norm_pose_dev[:], y_dev[:]), epochs\u001b[39m=\u001b[39;49m\u001b[39m20\u001b[39;49m, batch_size\u001b[39m=\u001b[39;49mbatch_size, callbacks\u001b[39m=\u001b[39;49m[cp_callback])\n\u001b[0;32m      4\u001b[0m \u001b[39m# model_pose.fit(ros_norm_pose_train[:], over_train_y, validation_data=(norm_pose_dev[:], y_dev[:]), epochs=4, callbacks=[cp_callback])\u001b[39;00m\n\u001b[0;32m      5\u001b[0m \u001b[39m# model_pose.fit(ros_norm_pose_train[:], over_train_y, validation_data=(norm_pose_dev[:], y_dev[:]), epochs=10, batch_size=batch_size)\u001b[39;00m\n",
                        "File \u001b[1;32mc:\\Users\\u1737136\\Anaconda3\\envs\\attempt2\\lib\\site-packages\\keras\\utils\\traceback_utils.py:65\u001b[0m, in \u001b[0;36mfilter_traceback.<locals>.error_handler\u001b[1;34m(*args, **kwargs)\u001b[0m\n\u001b[0;32m     63\u001b[0m filtered_tb \u001b[39m=\u001b[39m \u001b[39mNone\u001b[39;00m\n\u001b[0;32m     64\u001b[0m \u001b[39mtry\u001b[39;00m:\n\u001b[1;32m---> 65\u001b[0m     \u001b[39mreturn\u001b[39;00m fn(\u001b[39m*\u001b[39margs, \u001b[39m*\u001b[39m\u001b[39m*\u001b[39mkwargs)\n\u001b[0;32m     66\u001b[0m \u001b[39mexcept\u001b[39;00m \u001b[39mException\u001b[39;00m \u001b[39mas\u001b[39;00m e:\n\u001b[0;32m     67\u001b[0m     filtered_tb \u001b[39m=\u001b[39m _process_traceback_frames(e\u001b[39m.\u001b[39m__traceback__)\n",
                        "File \u001b[1;32mc:\\Users\\u1737136\\Anaconda3\\envs\\attempt2\\lib\\site-packages\\keras\\engine\\training.py:1685\u001b[0m, in \u001b[0;36mModel.fit\u001b[1;34m(self, x, y, batch_size, epochs, verbose, callbacks, validation_split, validation_data, shuffle, class_weight, sample_weight, initial_epoch, steps_per_epoch, validation_steps, validation_batch_size, validation_freq, max_queue_size, workers, use_multiprocessing)\u001b[0m\n\u001b[0;32m   1677\u001b[0m \u001b[39mwith\u001b[39;00m tf\u001b[39m.\u001b[39mprofiler\u001b[39m.\u001b[39mexperimental\u001b[39m.\u001b[39mTrace(\n\u001b[0;32m   1678\u001b[0m     \u001b[39m\"\u001b[39m\u001b[39mtrain\u001b[39m\u001b[39m\"\u001b[39m,\n\u001b[0;32m   1679\u001b[0m     epoch_num\u001b[39m=\u001b[39mepoch,\n\u001b[1;32m   (...)\u001b[0m\n\u001b[0;32m   1682\u001b[0m     _r\u001b[39m=\u001b[39m\u001b[39m1\u001b[39m,\n\u001b[0;32m   1683\u001b[0m ):\n\u001b[0;32m   1684\u001b[0m     callbacks\u001b[39m.\u001b[39mon_train_batch_begin(step)\n\u001b[1;32m-> 1685\u001b[0m     tmp_logs \u001b[39m=\u001b[39m \u001b[39mself\u001b[39;49m\u001b[39m.\u001b[39;49mtrain_function(iterator)\n\u001b[0;32m   1686\u001b[0m     \u001b[39mif\u001b[39;00m data_handler\u001b[39m.\u001b[39mshould_sync:\n\u001b[0;32m   1687\u001b[0m         context\u001b[39m.\u001b[39masync_wait()\n",
                        "File \u001b[1;32mc:\\Users\\u1737136\\Anaconda3\\envs\\attempt2\\lib\\site-packages\\tensorflow\\python\\util\\traceback_utils.py:150\u001b[0m, in \u001b[0;36mfilter_traceback.<locals>.error_handler\u001b[1;34m(*args, **kwargs)\u001b[0m\n\u001b[0;32m    148\u001b[0m filtered_tb \u001b[39m=\u001b[39m \u001b[39mNone\u001b[39;00m\n\u001b[0;32m    149\u001b[0m \u001b[39mtry\u001b[39;00m:\n\u001b[1;32m--> 150\u001b[0m   \u001b[39mreturn\u001b[39;00m fn(\u001b[39m*\u001b[39margs, \u001b[39m*\u001b[39m\u001b[39m*\u001b[39mkwargs)\n\u001b[0;32m    151\u001b[0m \u001b[39mexcept\u001b[39;00m \u001b[39mException\u001b[39;00m \u001b[39mas\u001b[39;00m e:\n\u001b[0;32m    152\u001b[0m   filtered_tb \u001b[39m=\u001b[39m _process_traceback_frames(e\u001b[39m.\u001b[39m__traceback__)\n",
                        "File \u001b[1;32mc:\\Users\\u1737136\\Anaconda3\\envs\\attempt2\\lib\\site-packages\\tensorflow\\python\\eager\\polymorphic_function\\polymorphic_function.py:894\u001b[0m, in \u001b[0;36mFunction.__call__\u001b[1;34m(self, *args, **kwds)\u001b[0m\n\u001b[0;32m    891\u001b[0m compiler \u001b[39m=\u001b[39m \u001b[39m\"\u001b[39m\u001b[39mxla\u001b[39m\u001b[39m\"\u001b[39m \u001b[39mif\u001b[39;00m \u001b[39mself\u001b[39m\u001b[39m.\u001b[39m_jit_compile \u001b[39melse\u001b[39;00m \u001b[39m\"\u001b[39m\u001b[39mnonXla\u001b[39m\u001b[39m\"\u001b[39m\n\u001b[0;32m    893\u001b[0m \u001b[39mwith\u001b[39;00m OptionalXlaContext(\u001b[39mself\u001b[39m\u001b[39m.\u001b[39m_jit_compile):\n\u001b[1;32m--> 894\u001b[0m   result \u001b[39m=\u001b[39m \u001b[39mself\u001b[39m\u001b[39m.\u001b[39m_call(\u001b[39m*\u001b[39margs, \u001b[39m*\u001b[39m\u001b[39m*\u001b[39mkwds)\n\u001b[0;32m    896\u001b[0m new_tracing_count \u001b[39m=\u001b[39m \u001b[39mself\u001b[39m\u001b[39m.\u001b[39mexperimental_get_tracing_count()\n\u001b[0;32m    897\u001b[0m without_tracing \u001b[39m=\u001b[39m (tracing_count \u001b[39m==\u001b[39m new_tracing_count)\n",
                        "File \u001b[1;32mc:\\Users\\u1737136\\Anaconda3\\envs\\attempt2\\lib\\site-packages\\tensorflow\\python\\eager\\polymorphic_function\\polymorphic_function.py:926\u001b[0m, in \u001b[0;36mFunction._call\u001b[1;34m(self, *args, **kwds)\u001b[0m\n\u001b[0;32m    923\u001b[0m   \u001b[39mself\u001b[39m\u001b[39m.\u001b[39m_lock\u001b[39m.\u001b[39mrelease()\n\u001b[0;32m    924\u001b[0m   \u001b[39m# In this case we have created variables on the first call, so we run the\u001b[39;00m\n\u001b[0;32m    925\u001b[0m   \u001b[39m# defunned version which is guaranteed to never create variables.\u001b[39;00m\n\u001b[1;32m--> 926\u001b[0m   \u001b[39mreturn\u001b[39;00m \u001b[39mself\u001b[39m\u001b[39m.\u001b[39m_no_variable_creation_fn(\u001b[39m*\u001b[39margs, \u001b[39m*\u001b[39m\u001b[39m*\u001b[39mkwds)  \u001b[39m# pylint: disable=not-callable\u001b[39;00m\n\u001b[0;32m    927\u001b[0m \u001b[39melif\u001b[39;00m \u001b[39mself\u001b[39m\u001b[39m.\u001b[39m_variable_creation_fn \u001b[39mis\u001b[39;00m \u001b[39mnot\u001b[39;00m \u001b[39mNone\u001b[39;00m:\n\u001b[0;32m    928\u001b[0m   \u001b[39m# Release the lock early so that multiple threads can perform the call\u001b[39;00m\n\u001b[0;32m    929\u001b[0m   \u001b[39m# in parallel.\u001b[39;00m\n\u001b[0;32m    930\u001b[0m   \u001b[39mself\u001b[39m\u001b[39m.\u001b[39m_lock\u001b[39m.\u001b[39mrelease()\n",
                        "File \u001b[1;32mc:\\Users\\u1737136\\Anaconda3\\envs\\attempt2\\lib\\site-packages\\tensorflow\\python\\eager\\polymorphic_function\\tracing_compiler.py:143\u001b[0m, in \u001b[0;36mTracingCompiler.__call__\u001b[1;34m(self, *args, **kwargs)\u001b[0m\n\u001b[0;32m    140\u001b[0m \u001b[39mwith\u001b[39;00m \u001b[39mself\u001b[39m\u001b[39m.\u001b[39m_lock:\n\u001b[0;32m    141\u001b[0m   (concrete_function,\n\u001b[0;32m    142\u001b[0m    filtered_flat_args) \u001b[39m=\u001b[39m \u001b[39mself\u001b[39m\u001b[39m.\u001b[39m_maybe_define_function(args, kwargs)\n\u001b[1;32m--> 143\u001b[0m \u001b[39mreturn\u001b[39;00m concrete_function\u001b[39m.\u001b[39;49m_call_flat(\n\u001b[0;32m    144\u001b[0m     filtered_flat_args, captured_inputs\u001b[39m=\u001b[39;49mconcrete_function\u001b[39m.\u001b[39;49mcaptured_inputs)\n",
                        "File \u001b[1;32mc:\\Users\\u1737136\\Anaconda3\\envs\\attempt2\\lib\\site-packages\\tensorflow\\python\\eager\\polymorphic_function\\monomorphic_function.py:1757\u001b[0m, in \u001b[0;36mConcreteFunction._call_flat\u001b[1;34m(self, args, captured_inputs, cancellation_manager)\u001b[0m\n\u001b[0;32m   1753\u001b[0m possible_gradient_type \u001b[39m=\u001b[39m gradients_util\u001b[39m.\u001b[39mPossibleTapeGradientTypes(args)\n\u001b[0;32m   1754\u001b[0m \u001b[39mif\u001b[39;00m (possible_gradient_type \u001b[39m==\u001b[39m gradients_util\u001b[39m.\u001b[39mPOSSIBLE_GRADIENT_TYPES_NONE\n\u001b[0;32m   1755\u001b[0m     \u001b[39mand\u001b[39;00m executing_eagerly):\n\u001b[0;32m   1756\u001b[0m   \u001b[39m# No tape is watching; skip to running the function.\u001b[39;00m\n\u001b[1;32m-> 1757\u001b[0m   \u001b[39mreturn\u001b[39;00m \u001b[39mself\u001b[39m\u001b[39m.\u001b[39m_build_call_outputs(\u001b[39mself\u001b[39;49m\u001b[39m.\u001b[39;49m_inference_function\u001b[39m.\u001b[39;49mcall(\n\u001b[0;32m   1758\u001b[0m       ctx, args, cancellation_manager\u001b[39m=\u001b[39;49mcancellation_manager))\n\u001b[0;32m   1759\u001b[0m forward_backward \u001b[39m=\u001b[39m \u001b[39mself\u001b[39m\u001b[39m.\u001b[39m_select_forward_and_backward_functions(\n\u001b[0;32m   1760\u001b[0m     args,\n\u001b[0;32m   1761\u001b[0m     possible_gradient_type,\n\u001b[0;32m   1762\u001b[0m     executing_eagerly)\n\u001b[0;32m   1763\u001b[0m forward_function, args_with_tangents \u001b[39m=\u001b[39m forward_backward\u001b[39m.\u001b[39mforward()\n",
                        "File \u001b[1;32mc:\\Users\\u1737136\\Anaconda3\\envs\\attempt2\\lib\\site-packages\\tensorflow\\python\\eager\\polymorphic_function\\monomorphic_function.py:381\u001b[0m, in \u001b[0;36m_EagerDefinedFunction.call\u001b[1;34m(self, ctx, args, cancellation_manager)\u001b[0m\n\u001b[0;32m    379\u001b[0m \u001b[39mwith\u001b[39;00m _InterpolateFunctionError(\u001b[39mself\u001b[39m):\n\u001b[0;32m    380\u001b[0m   \u001b[39mif\u001b[39;00m cancellation_manager \u001b[39mis\u001b[39;00m \u001b[39mNone\u001b[39;00m:\n\u001b[1;32m--> 381\u001b[0m     outputs \u001b[39m=\u001b[39m execute\u001b[39m.\u001b[39;49mexecute(\n\u001b[0;32m    382\u001b[0m         \u001b[39mstr\u001b[39;49m(\u001b[39mself\u001b[39;49m\u001b[39m.\u001b[39;49msignature\u001b[39m.\u001b[39;49mname),\n\u001b[0;32m    383\u001b[0m         num_outputs\u001b[39m=\u001b[39;49m\u001b[39mself\u001b[39;49m\u001b[39m.\u001b[39;49m_num_outputs,\n\u001b[0;32m    384\u001b[0m         inputs\u001b[39m=\u001b[39;49margs,\n\u001b[0;32m    385\u001b[0m         attrs\u001b[39m=\u001b[39;49mattrs,\n\u001b[0;32m    386\u001b[0m         ctx\u001b[39m=\u001b[39;49mctx)\n\u001b[0;32m    387\u001b[0m   \u001b[39melse\u001b[39;00m:\n\u001b[0;32m    388\u001b[0m     outputs \u001b[39m=\u001b[39m execute\u001b[39m.\u001b[39mexecute_with_cancellation(\n\u001b[0;32m    389\u001b[0m         \u001b[39mstr\u001b[39m(\u001b[39mself\u001b[39m\u001b[39m.\u001b[39msignature\u001b[39m.\u001b[39mname),\n\u001b[0;32m    390\u001b[0m         num_outputs\u001b[39m=\u001b[39m\u001b[39mself\u001b[39m\u001b[39m.\u001b[39m_num_outputs,\n\u001b[1;32m   (...)\u001b[0m\n\u001b[0;32m    393\u001b[0m         ctx\u001b[39m=\u001b[39mctx,\n\u001b[0;32m    394\u001b[0m         cancellation_manager\u001b[39m=\u001b[39mcancellation_manager)\n",
                        "File \u001b[1;32mc:\\Users\\u1737136\\Anaconda3\\envs\\attempt2\\lib\\site-packages\\tensorflow\\python\\eager\\execute.py:52\u001b[0m, in \u001b[0;36mquick_execute\u001b[1;34m(op_name, num_outputs, inputs, attrs, ctx, name)\u001b[0m\n\u001b[0;32m     50\u001b[0m \u001b[39mtry\u001b[39;00m:\n\u001b[0;32m     51\u001b[0m   ctx\u001b[39m.\u001b[39mensure_initialized()\n\u001b[1;32m---> 52\u001b[0m   tensors \u001b[39m=\u001b[39m pywrap_tfe\u001b[39m.\u001b[39;49mTFE_Py_Execute(ctx\u001b[39m.\u001b[39;49m_handle, device_name, op_name,\n\u001b[0;32m     53\u001b[0m                                       inputs, attrs, num_outputs)\n\u001b[0;32m     54\u001b[0m \u001b[39mexcept\u001b[39;00m core\u001b[39m.\u001b[39m_NotOkStatusException \u001b[39mas\u001b[39;00m e:\n\u001b[0;32m     55\u001b[0m   \u001b[39mif\u001b[39;00m name \u001b[39mis\u001b[39;00m \u001b[39mnot\u001b[39;00m \u001b[39mNone\u001b[39;00m:\n",
                        "\u001b[1;31mKeyboardInterrupt\u001b[0m: "
                    ]
                }
            ],
            "source": [
                "# model_pose.fit(x_train_bad[:], y_train_bad[:], validation_data=(x_dev_bad[:], y_dev_bad[:]), epochs=4)\n",
                "# model_pose.fit(norm_pose_train[:], y_train[:], validation_data=(norm_pose_dev[:], y_dev[:]), epochs=6, batch_size=8)\n",
                "model_pose.fit(ros_norm_pose_train[:], over_train_y, validation_data=(norm_pose_dev[:], y_dev[:]), epochs=20, batch_size=batch_size, callbacks=[cp_callback])\n",
                "# model_pose.fit(ros_norm_pose_train[:], over_train_y, validation_data=(norm_pose_dev[:], y_dev[:]), epochs=4, callbacks=[cp_callback])\n",
                "# model_pose.fit(ros_norm_pose_train[:], over_train_y, validation_data=(norm_pose_dev[:], y_dev[:]), epochs=10, batch_size=batch_size)"
            ]
        },
        {
            "cell_type": "code",
            "execution_count": null,
            "metadata": {},
            "outputs": [
                {
                    "name": "stdout",
                    "output_type": "stream",
                    "text": [
                        "0.5\n",
                        "0.2803738317757009\n",
                        "0.34285714285714286\n",
                        "0.2978723404255319\n"
                    ]
                }
            ],
            "source": [
                "# model_pose.evaluate(x=pose_test, y=y_test)\n",
                "print(sum(over_train_y)/len(over_train_y))\n",
                "print(sum(y_train)/len(y_train))\n",
                "print(sum(y_dev)/len(y_dev))\n",
                "print(sum(y_test)/len(y_test))"
            ]
        },
        {
            "cell_type": "code",
            "execution_count": null,
            "metadata": {},
            "outputs": [
                {
                    "name": "stdout",
                    "output_type": "stream",
                    "text": [
                        "2/2 [==============================] - 2s 302ms/step\n",
                        "[1 1 1 1 1 1 1 1 1 1 1 1 1 1 1 1 1 1 1 1 1 1 1 1 1 1 1 1 1 1 1 1 1 1 1]\n",
                        "[[0.         0.65714286]\n",
                        " [0.         0.34285714]]\n"
                    ]
                },
                {
                    "data": {
                        "image/png": "[encoded data removed]",
                        "text/plain": [
                            "<Figure size 640x480 with 2 Axes>"
                        ]
                    },
                    "metadata": {},
                    "output_type": "display_data"
                },
                {
                    "name": "stdout",
                    "output_type": "stream",
                    "text": [
                        "Accuracy = 0.34285714285714286\n",
                        "Recall = 1.0\n",
                        "Precision = 0.34285714285714286\n",
                        "F1-score = 0.5106382978723404\n"
                    ]
                }
            ],
            "source": [
                "#Predict\n",
                "# x = norm_pose_train\n",
                "# y = y_train\n",
                "x = norm_pose_dev\n",
                "y = y_dev\n",
                "# x = x_dev_bad\n",
                "# y = y_dev_bad\n",
                "y_pose_prediction = model_pose.predict(x)\n",
                "y_pose_prediction = np.argmax(y_pose_prediction, axis = 1)\n",
                "\n",
                "# where_0 = np.where(y_pose_prediction == 0)\n",
                "# where_1 = np.where(y_pose_prediction == 1)\n",
                "# y_pose_prediction[where_0] = 1\n",
                "# y_pose_prediction[where_1] = 0\n",
                "\n",
                "# print(sum(y_pose_prediction)/len(y_pose_prediction))\n",
                "print(y_pose_prediction)\n",
                "#Create confusion matrix and normalizes it over predicted (columns)\n",
                "result = confusion_matrix(y, y_pose_prediction, normalize='pred')\n",
                "print(result)\n",
                "cm_display = ConfusionMatrixDisplay(confusion_matrix = result, display_labels = [\"Non-Depressed\", \"Depressed\"])\n",
                "cm_display.plot()\n",
                "plt.show()\n",
                "tn_pose = result[0][0]\n",
                "tp_pose = result[1][1]\n",
                "fn_pose = result[1][0]\n",
                "fp_pose = result[0][1]\n",
                "accuracy = (tp_pose + tn_pose)/(tp_pose + tn_pose + fp_pose + fn_pose)\n",
                "recall = tp_pose / (tp_pose + fn_pose)\n",
                "precision = tp_pose / (tp_pose + fp_pose)\n",
                "f1_score = 2 * precision * recall / (precision + recall)\n",
                "print(\"Accuracy = \" + str(accuracy))\n",
                "print(\"Recall = \" + str(recall))\n",
                "print(\"Precision = \" + str(precision))\n",
                "print(\"F1-score = \" + str(f1_score))"
            ]
        },
        {
            "cell_type": "code",
            "execution_count": null,
            "metadata": {},
            "outputs": [
                {
                    "name": "stdout",
                    "output_type": "stream",
                    "text": [
                        "Model: \"model_35\"\n",
                        "__________________________________________________________________________________________________\n",
                        " Layer (type)                   Output Shape         Param #     Connected to                     \n",
                        "==================================================================================================\n",
                        " input_10 (InputLayer)          [(None, 5000, 6)]    0           []                               \n",
                        "                                                                                                  \n",
                        " conv1d_1225 (Conv1D)           (None, 5000, 128)    2432        ['input_10[0][0]']               \n",
                        "                                                                                                  \n",
                        " conv1d_1226 (Conv1D)           (None, 5000, 128)    2432        ['input_10[0][0]']               \n",
                        "                                                                                                  \n",
                        " add_700 (Add)                  (None, 5000, 128)    0           ['conv1d_1225[0][0]',            \n",
                        "                                                                  'conv1d_1226[0][0]']            \n",
                        "                                                                                                  \n",
                        " elu_525 (ELU)                  (None, 5000, 128)    0           ['add_700[0][0]']                \n",
                        "                                                                                                  \n",
                        " conv1d_1227 (Conv1D)           (None, 5000, 128)    49280       ['elu_525[0][0]']                \n",
                        "                                                                                                  \n",
                        " conv1d_1228 (Conv1D)           (None, 5000, 128)    49280       ['elu_525[0][0]']                \n",
                        "                                                                                                  \n",
                        " add_701 (Add)                  (None, 5000, 128)    0           ['conv1d_1227[0][0]',            \n",
                        "                                                                  'conv1d_1228[0][0]']            \n",
                        "                                                                                                  \n",
                        " elu_526 (ELU)                  (None, 5000, 128)    0           ['add_701[0][0]']                \n",
                        "                                                                                                  \n",
                        " conv1d_1229 (Conv1D)           (None, 5000, 128)    49280       ['elu_526[0][0]']                \n",
                        "                                                                                                  \n",
                        " conv1d_1230 (Conv1D)           (None, 5000, 128)    49280       ['elu_526[0][0]']                \n",
                        "                                                                                                  \n",
                        " add_702 (Add)                  (None, 5000, 128)    0           ['conv1d_1229[0][0]',            \n",
                        "                                                                  'conv1d_1230[0][0]']            \n",
                        "                                                                                                  \n",
                        " elu_527 (ELU)                  (None, 5000, 128)    0           ['add_702[0][0]']                \n",
                        "                                                                                                  \n",
                        " conv1d_1231 (Conv1D)           (None, 5000, 128)    896         ['input_10[0][0]']               \n",
                        "                                                                                                  \n",
                        " add_703 (Add)                  (None, 5000, 128)    0           ['elu_527[0][0]',                \n",
                        "                                                                  'conv1d_1231[0][0]']            \n",
                        "                                                                                                  \n",
                        " batch_normalization_20 (BatchN  (None, 5000, 128)   512         ['add_703[0][0]']                \n",
                        " ormalization)                                                                                    \n",
                        "                                                                                                  \n",
                        " max_pooling1d_140 (MaxPooling1  (None, 2500, 128)   0           ['batch_normalization_20[0][0]'] \n",
                        " D)                                                                                               \n",
                        "                                                                                                  \n",
                        " conv1d_1232 (Conv1D)           (None, 2500, 64)     24640       ['max_pooling1d_140[0][0]']      \n",
                        "                                                                                                  \n",
                        " conv1d_1233 (Conv1D)           (None, 2500, 64)     24640       ['max_pooling1d_140[0][0]']      \n",
                        "                                                                                                  \n",
                        " add_704 (Add)                  (None, 2500, 64)     0           ['conv1d_1232[0][0]',            \n",
                        "                                                                  'conv1d_1233[0][0]']            \n",
                        "                                                                                                  \n",
                        " elu_528 (ELU)                  (None, 2500, 64)     0           ['add_704[0][0]']                \n",
                        "                                                                                                  \n",
                        " conv1d_1234 (Conv1D)           (None, 2500, 64)     12352       ['elu_528[0][0]']                \n",
                        "                                                                                                  \n",
                        " conv1d_1235 (Conv1D)           (None, 2500, 64)     12352       ['elu_528[0][0]']                \n",
                        "                                                                                                  \n",
                        " add_705 (Add)                  (None, 2500, 64)     0           ['conv1d_1234[0][0]',            \n",
                        "                                                                  'conv1d_1235[0][0]']            \n",
                        "                                                                                                  \n",
                        " elu_529 (ELU)                  (None, 2500, 64)     0           ['add_705[0][0]']                \n",
                        "                                                                                                  \n",
                        " conv1d_1236 (Conv1D)           (None, 2500, 64)     12352       ['elu_529[0][0]']                \n",
                        "                                                                                                  \n",
                        " conv1d_1237 (Conv1D)           (None, 2500, 64)     12352       ['elu_529[0][0]']                \n",
                        "                                                                                                  \n",
                        " add_706 (Add)                  (None, 2500, 64)     0           ['conv1d_1236[0][0]',            \n",
                        "                                                                  'conv1d_1237[0][0]']            \n",
                        "                                                                                                  \n",
                        " elu_530 (ELU)                  (None, 2500, 64)     0           ['add_706[0][0]']                \n",
                        "                                                                                                  \n",
                        " conv1d_1238 (Conv1D)           (None, 2500, 64)     8256        ['max_pooling1d_140[0][0]']      \n",
                        "                                                                                                  \n",
                        " add_707 (Add)                  (None, 2500, 64)     0           ['elu_530[0][0]',                \n",
                        "                                                                  'conv1d_1238[0][0]']            \n",
                        "                                                                                                  \n",
                        " batch_normalization_21 (BatchN  (None, 2500, 64)    256         ['add_707[0][0]']                \n",
                        " ormalization)                                                                                    \n",
                        "                                                                                                  \n",
                        " max_pooling1d_141 (MaxPooling1  (None, 1250, 64)    0           ['batch_normalization_21[0][0]'] \n",
                        " D)                                                                                               \n",
                        "                                                                                                  \n",
                        " conv1d_1239 (Conv1D)           (None, 1250, 256)    49408       ['max_pooling1d_141[0][0]']      \n",
                        "                                                                                                  \n",
                        " conv1d_1240 (Conv1D)           (None, 1250, 256)    49408       ['max_pooling1d_141[0][0]']      \n",
                        "                                                                                                  \n",
                        " add_708 (Add)                  (None, 1250, 256)    0           ['conv1d_1239[0][0]',            \n",
                        "                                                                  'conv1d_1240[0][0]']            \n",
                        "                                                                                                  \n",
                        " elu_531 (ELU)                  (None, 1250, 256)    0           ['add_708[0][0]']                \n",
                        "                                                                                                  \n",
                        " conv1d_1241 (Conv1D)           (None, 1250, 256)    196864      ['elu_531[0][0]']                \n",
                        "                                                                                                  \n",
                        " conv1d_1242 (Conv1D)           (None, 1250, 256)    196864      ['elu_531[0][0]']                \n",
                        "                                                                                                  \n",
                        " add_709 (Add)                  (None, 1250, 256)    0           ['conv1d_1241[0][0]',            \n",
                        "                                                                  'conv1d_1242[0][0]']            \n",
                        "                                                                                                  \n",
                        " elu_532 (ELU)                  (None, 1250, 256)    0           ['add_709[0][0]']                \n",
                        "                                                                                                  \n",
                        " conv1d_1243 (Conv1D)           (None, 1250, 256)    196864      ['elu_532[0][0]']                \n",
                        "                                                                                                  \n",
                        " conv1d_1244 (Conv1D)           (None, 1250, 256)    196864      ['elu_532[0][0]']                \n",
                        "                                                                                                  \n",
                        " add_710 (Add)                  (None, 1250, 256)    0           ['conv1d_1243[0][0]',            \n",
                        "                                                                  'conv1d_1244[0][0]']            \n",
                        "                                                                                                  \n",
                        " elu_533 (ELU)                  (None, 1250, 256)    0           ['add_710[0][0]']                \n",
                        "                                                                                                  \n",
                        " conv1d_1245 (Conv1D)           (None, 1250, 256)    16640       ['max_pooling1d_141[0][0]']      \n",
                        "                                                                                                  \n",
                        " add_711 (Add)                  (None, 1250, 256)    0           ['elu_533[0][0]',                \n",
                        "                                                                  'conv1d_1245[0][0]']            \n",
                        "                                                                                                  \n",
                        " batch_normalization_22 (BatchN  (None, 1250, 256)   1024        ['add_711[0][0]']                \n",
                        " ormalization)                                                                                    \n",
                        "                                                                                                  \n",
                        " max_pooling1d_142 (MaxPooling1  (None, 625, 256)    0           ['batch_normalization_22[0][0]'] \n",
                        " D)                                                                                               \n",
                        "                                                                                                  \n",
                        " conv1d_1246 (Conv1D)           (None, 625, 128)     98432       ['max_pooling1d_142[0][0]']      \n",
                        "                                                                                                  \n",
                        " conv1d_1247 (Conv1D)           (None, 625, 128)     98432       ['max_pooling1d_142[0][0]']      \n",
                        "                                                                                                  \n",
                        " add_712 (Add)                  (None, 625, 128)     0           ['conv1d_1246[0][0]',            \n",
                        "                                                                  'conv1d_1247[0][0]']            \n",
                        "                                                                                                  \n",
                        " elu_534 (ELU)                  (None, 625, 128)     0           ['add_712[0][0]']                \n",
                        "                                                                                                  \n",
                        " conv1d_1248 (Conv1D)           (None, 625, 128)     49280       ['elu_534[0][0]']                \n",
                        "                                                                                                  \n",
                        " conv1d_1249 (Conv1D)           (None, 625, 128)     49280       ['elu_534[0][0]']                \n",
                        "                                                                                                  \n",
                        " add_713 (Add)                  (None, 625, 128)     0           ['conv1d_1248[0][0]',            \n",
                        "                                                                  'conv1d_1249[0][0]']            \n",
                        "                                                                                                  \n",
                        " elu_535 (ELU)                  (None, 625, 128)     0           ['add_713[0][0]']                \n",
                        "                                                                                                  \n",
                        " conv1d_1250 (Conv1D)           (None, 625, 128)     49280       ['elu_535[0][0]']                \n",
                        "                                                                                                  \n",
                        " conv1d_1251 (Conv1D)           (None, 625, 128)     49280       ['elu_535[0][0]']                \n",
                        "                                                                                                  \n",
                        " add_714 (Add)                  (None, 625, 128)     0           ['conv1d_1250[0][0]',            \n",
                        "                                                                  'conv1d_1251[0][0]']            \n",
                        "                                                                                                  \n",
                        " elu_536 (ELU)                  (None, 625, 128)     0           ['add_714[0][0]']                \n",
                        "                                                                                                  \n",
                        " conv1d_1252 (Conv1D)           (None, 625, 128)     32896       ['max_pooling1d_142[0][0]']      \n",
                        "                                                                                                  \n",
                        " add_715 (Add)                  (None, 625, 128)     0           ['elu_536[0][0]',                \n",
                        "                                                                  'conv1d_1252[0][0]']            \n",
                        "                                                                                                  \n",
                        " batch_normalization_23 (BatchN  (None, 625, 128)    512         ['add_715[0][0]']                \n",
                        " ormalization)                                                                                    \n",
                        "                                                                                                  \n",
                        " max_pooling1d_143 (MaxPooling1  (None, 312, 128)    0           ['batch_normalization_23[0][0]'] \n",
                        " D)                                                                                               \n",
                        "                                                                                                  \n",
                        " conv1d_1253 (Conv1D)           (None, 312, 64)      24640       ['max_pooling1d_143[0][0]']      \n",
                        "                                                                                                  \n",
                        " conv1d_1254 (Conv1D)           (None, 312, 64)      24640       ['max_pooling1d_143[0][0]']      \n",
                        "                                                                                                  \n",
                        " add_716 (Add)                  (None, 312, 64)      0           ['conv1d_1253[0][0]',            \n",
                        "                                                                  'conv1d_1254[0][0]']            \n",
                        "                                                                                                  \n",
                        " elu_537 (ELU)                  (None, 312, 64)      0           ['add_716[0][0]']                \n",
                        "                                                                                                  \n",
                        " conv1d_1255 (Conv1D)           (None, 312, 64)      12352       ['elu_537[0][0]']                \n",
                        "                                                                                                  \n",
                        " conv1d_1256 (Conv1D)           (None, 312, 64)      12352       ['elu_537[0][0]']                \n",
                        "                                                                                                  \n",
                        " add_717 (Add)                  (None, 312, 64)      0           ['conv1d_1255[0][0]',            \n",
                        "                                                                  'conv1d_1256[0][0]']            \n",
                        "                                                                                                  \n",
                        " elu_538 (ELU)                  (None, 312, 64)      0           ['add_717[0][0]']                \n",
                        "                                                                                                  \n",
                        " conv1d_1257 (Conv1D)           (None, 312, 64)      12352       ['elu_538[0][0]']                \n",
                        "                                                                                                  \n",
                        " conv1d_1258 (Conv1D)           (None, 312, 64)      12352       ['elu_538[0][0]']                \n",
                        "                                                                                                  \n",
                        " add_718 (Add)                  (None, 312, 64)      0           ['conv1d_1257[0][0]',            \n",
                        "                                                                  'conv1d_1258[0][0]']            \n",
                        "                                                                                                  \n",
                        " elu_539 (ELU)                  (None, 312, 64)      0           ['add_718[0][0]']                \n",
                        "                                                                                                  \n",
                        " conv1d_1259 (Conv1D)           (None, 312, 64)      8256        ['max_pooling1d_143[0][0]']      \n",
                        "                                                                                                  \n",
                        " add_719 (Add)                  (None, 312, 64)      0           ['elu_539[0][0]',                \n",
                        "                                                                  'conv1d_1259[0][0]']            \n",
                        "                                                                                                  \n",
                        " global_average_pooling1d_35 (G  (None, 64)          0           ['add_719[0][0]']                \n",
                        " lobalAveragePooling1D)                                                                           \n",
                        "                                                                                                  \n",
                        " dense_210 (Dense)              (None, 64)           4160        ['global_average_pooling1d_35[0][\n",
                        "                                                                 0]']                             \n",
                        "                                                                                                  \n",
                        " tf.nn.relu_35 (TFOpLambda)     (None, 64)           0           ['dense_210[0][0]']              \n",
                        "                                                                                                  \n",
                        " dense_211 (Dense)              (None, 64)           4160        ['tf.nn.relu_35[0][0]']          \n",
                        "                                                                                                  \n",
                        " tf.math.sigmoid_35 (TFOpLambda  (None, 64)          0           ['dense_211[0][0]']              \n",
                        " )                                                                                                \n",
                        "                                                                                                  \n",
                        " multiply_35 (Multiply)         (None, 312, 64)      0           ['add_719[0][0]',                \n",
                        "                                                                  'tf.math.sigmoid_35[0][0]']     \n",
                        "                                                                                                  \n",
                        " flatten_35 (Flatten)           (None, 19968)        0           ['multiply_35[0][0]']            \n",
                        "                                                                                                  \n",
                        " dense_212 (Dense)              (None, 15000)        299535000   ['flatten_35[0][0]']             \n",
                        "                                                                                                  \n",
                        " dense_213 (Dense)              (None, 9000)         135009000   ['dense_212[0][0]']              \n",
                        "                                                                                                  \n",
                        " dense_214 (Dense)              (None, 2)            18002       ['dense_213[0][0]']              \n",
                        "                                                                                                  \n",
                        " softmax_35 (Softmax)           (None, 2)            0           ['dense_214[0][0]']              \n",
                        "                                                                                                  \n",
                        "==================================================================================================\n",
                        "Total params: 436,319,186\n",
                        "Trainable params: 436,318,034\n",
                        "Non-trainable params: 1,152\n",
                        "__________________________________________________________________________________________________\n"
                    ]
                }
            ],
            "source": [
                "# model_pose.summary()"
            ]
        },
        {
            "cell_type": "code",
            "execution_count": null,
            "metadata": {},
            "outputs": [
                {
                    "name": "stdout",
                    "output_type": "stream",
                    "text": [
                        "You must install pydot (`pip install pydot`) and install graphviz (see instructions at https://graphviz.gitlab.io/download/) for plot_model to work.\n"
                    ]
                }
            ],
            "source": [
                "plot_model(model_pose, to_file='model_plot.png', show_shapes=True, show_layer_names=True)"
            ]
        },
        {
            "cell_type": "code",
            "execution_count": null,
            "metadata": {},
            "outputs": [],
            "source": [
                "# model_pose.save(\"saved_models/pose_madeupdata_20_7\")"
            ]
        }
    ],
    "metadata": {
        "kernelspec": {
            "display_name": "attempt2",
            "language": "python",
            "name": "python3"
        },
        "language_info": {
            "codemirror_mode": {
                "name": "ipython",
                "version": 3
            },
            "file_extension": ".py",
            "mimetype": "text/x-python",
            "name": "python",
            "nbconvert_exporter": "python",
            "pygments_lexer": "ipython3",
            "version": "3.10.11"
        },
        "orig_nbformat": 4
    },
    "nbformat": 4,
    "nbformat_minor": 2
}
