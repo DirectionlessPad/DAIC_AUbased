{
    "cells": [
        {
            "cell_type": "code",
            "execution_count": 1,
            "metadata": {},
            "outputs": [],
            "source": [
                "from pathlib import Path\n",
                "import pandas as pd\n",
                "from imblearn.over_sampling import RandomOverSampler\n",
                "from keras.models import load_model\n",
                "from keras.callbacks import ModelCheckpoint\n",
                "from keras.layers import BatchNormalization, Dense, Input, Conv1D, Add, ELU, Flatten, MaxPooling1D\n",
                "from keras.layers import GlobalAveragePooling1D, Softmax, Concatenate, Reshape, Multiply, ReLU, Dropout\n",
                "from keras.optimizers import SGD\n",
                "from keras import activations\n",
                "from keras import Model\n",
                "from keras.initializers import HeNormal\n",
                "from sklearn.metrics import confusion_matrix, ConfusionMatrixDisplay\n",
                "from load_dataset import load_original_daic, load_labels\n",
                "import matplotlib.pyplot as plt\n",
                "import numpy as np\n",
                "from keras.utils.vis_utils import plot_model"
            ]
        },
        {
            "cell_type": "code",
            "execution_count": 2,
            "metadata": {},
            "outputs": [
                {
                    "name": "stdout",
                    "output_type": "stream",
                    "text": [
                        "Directory does not exist. Check input feature directory\n",
                        "No samples loaded, check the samples are available in the input directory.\n",
                        "Directory does not exist. Check input feature directory\n",
                        "No samples loaded, check the samples are available in the input directory.\n",
                        "Directory does not exist. Check input feature directory\n",
                        "No samples loaded, check the samples are available in the input directory.\n"
                    ]
                }
            ],
            "source": [
                "daic_pose_train = load_original_daic(\"original_daic/train\", \"pose\")\n",
                "daic_pose_dev = load_original_daic(\"original_daic/dev\", \"pose\")\n",
                "daic_pose_test = load_original_daic(\"original_daic/test\", \"pose\")"
            ]
        },
        {
            "cell_type": "code",
            "execution_count": 285,
            "metadata": {},
            "outputs": [],
            "source": [
                "# daic_pose_dev[\"432\"].loc[0:4999]\n",
                "# for i in range(5000):\n",
                "#     try:\n",
                "#         temp = daic_pose_test[\"432\"].loc[i].to_numpy(dtype=\"float32\")\n",
                "#     except Exception:\n",
                "#         print(i)"
            ]
        },
        {
            "cell_type": "code",
            "execution_count": 286,
            "metadata": {},
            "outputs": [],
            "source": [
                "label_path = Path(\"original_daic/labels\")\n",
                "loaded_labels = load_labels(label_path)\n",
                "y_train = np.array(loaded_labels[\"train\"])\n",
                "y_dev = np.array(loaded_labels[\"dev\"])\n",
                "y_test = np.array(loaded_labels[\"test\"])\n"
            ]
        },
        {
            "cell_type": "code",
            "execution_count": 287,
            "metadata": {},
            "outputs": [],
            "source": [
                "# train_depressed_idx = np.where(y_train==1)[0]\n",
                "# dev_depressed_idx = np.where(y_dev==1)[0]\n",
                "# test_depressed_idx = np.where(y_test==1)[0]"
            ]
        },
        {
            "cell_type": "code",
            "execution_count": 288,
            "metadata": {},
            "outputs": [],
            "source": [
                "pose_train = []\n",
                "pose_dev = []\n",
                "pose_test = []\n",
                "for subject_id, subject_df in daic_pose_train.items():\n",
                "    temp = subject_df.copy().loc[1000:5999].to_numpy(dtype=\"float32\")\n",
                "    pose_train.append(temp)\n",
                "for subject_id, subject_df in daic_pose_dev.items():\n",
                "    # print(subject_id)\n",
                "    temp = subject_df.copy().loc[1000:5999].to_numpy(dtype=\"float32\")\n",
                "    pose_dev.append(temp)\n",
                "for subject_id, subject_df in daic_pose_test.items():\n",
                "    # print(subject_id)\n",
                "    temp = subject_df.copy().loc[1000:5999].to_numpy(dtype=\"float32\")\n",
                "    pose_test.append(temp)"
            ]
        },
        {
            "cell_type": "code",
            "execution_count": 289,
            "metadata": {},
            "outputs": [],
            "source": [
                "# list1 = [np.array([12,1]), np.array([2,3])]\n",
                "# list2 = [np.array([4,5]), np.array([6,7])]\n",
                "# list3 = [np.array([8,9]), np.array([10,11])]\n",
                "# all_lists = np.array(list1 + list2 + list3)\n",
                "# print(all_lists.min(0))\n",
                "# print(all_lists.ptp(0))\n",
                "all_samples = pose_train + pose_dev + pose_test\n",
                "# all_samples = np.array(pose_train + pose_dev + pose_test, dtype=object)\n",
                "all_samples = np.concatenate((all_samples),)\n",
                "# all_samples.shape\n",
                "min_values = all_samples.min(axis=0)\n",
                "ptp_ranges = all_samples.ptp(axis=0)"
            ]
        },
        {
            "cell_type": "code",
            "execution_count": 290,
            "metadata": {},
            "outputs": [],
            "source": [
                "pose_train = np.array(pose_train)\n",
                "pose_dev = np.array(pose_dev)\n",
                "pose_test = np.array(pose_test)"
            ]
        },
        {
            "cell_type": "code",
            "execution_count": 291,
            "metadata": {},
            "outputs": [],
            "source": [
                "norm_pose_train = (pose_train - min_values)/ptp_ranges\n",
                "norm_pose_dev = (pose_dev - min_values)/ptp_ranges\n",
                "norm_pose_test = (pose_test - min_values)/ptp_ranges"
            ]
        },
        {
            "cell_type": "code",
            "execution_count": 292,
            "metadata": {},
            "outputs": [
                {
                    "name": "stdout",
                    "output_type": "stream",
                    "text": [
                        "154\n"
                    ]
                }
            ],
            "source": [
                "# depressed_only = norm_pose_train[train_depressed_idx]\n",
                "indices = range(norm_pose_train.shape[0])\n",
                "oversample = RandomOverSampler(sampling_strategy='minority')\n",
                "# oversample = RandomOverSampler(sampling_strategy=0.75)\n",
                "# print(norm_pose_train[:].shape)\n",
                "indices = np.array(indices).reshape(-1,1)\n",
                "ros_indices, _ = oversample.fit_resample(indices, y_train)\n",
                "print(len(ros_indices))\n",
                "rng = np.random.default_rng()\n",
                "rng.shuffle(ros_indices)\n",
                "ros_norm_pose_train = np.squeeze(norm_pose_train[ros_indices])\n",
                "over_train_y = np.squeeze(y_train[ros_indices])\n",
                "# print(ros_norm_pose_train.shape)"
            ]
        },
        {
            "cell_type": "code",
            "execution_count": 2,
            "metadata": {},
            "outputs": [],
            "source": [
                "input_pose = Input(shape=[5000, 6])\n",
                "tdcn_dim_pose = [128,64,256,128,64] # used in Guo's paper\n",
                "# tdcn_dim_pose = [128,128,128,128,128]\n",
                "bias_initializer = HeNormal(seed=0)"
            ]
        },
        {
            "cell_type": "code",
            "execution_count": 24,
            "metadata": {},
            "outputs": [
                {
                    "name": "stdout",
                    "output_type": "stream",
                    "text": [
                        "(400, 5000, 6)\n",
                        "(400,)\n"
                    ]
                }
            ],
            "source": [
                "x_train_bad = np.concatenate((np.zeros((200, 5000, 6)), np.ones((200, 5000, 6))))\n",
                "y_train_bad = np.concatenate((np.zeros(200), np.ones(200)))\n",
                "x_dev_bad = np.concatenate((np.zeros((20, 5000, 6)), np.ones((20, 5000, 6))))\n",
                "y_dev_bad = np.concatenate((np.zeros(20), np.ones(20)))\n",
                "rng = np.random.default_rng(12345)\n",
                "order = np.arange(0,400)\n",
                "rng.shuffle(order)\n",
                "x_train_bad = x_train_bad[order]\n",
                "y_train_bad = y_train_bad[order]\n",
                "print(x_train_bad.shape)\n",
                "print(y_train_bad.shape)"
            ]
        },
        {
            "cell_type": "code",
            "execution_count": 4,
            "metadata": {},
            "outputs": [],
            "source": [
                "# One DCB\n",
                "# first layer of the DCB\n",
                "def diluted_conv_block(inputs, feature_dim):\n",
                "    # with K.name_scope(block_name)\n",
                "    l1_p1 = Conv1D(filters=feature_dim, kernel_size=3, padding=\"same\", dilation_rate=1, use_bias=True, bias_initializer=bias_initializer)(inputs)\n",
                "    l1_p2 = Conv1D(filters=feature_dim, kernel_size=3, padding=\"same\", dilation_rate=1, use_bias=True, bias_initializer=bias_initializer)(inputs)\n",
                "    l1_add = Add()([l1_p1, l1_p2])\n",
                "    l1_ELU = ELU()(l1_add)\n",
                "    # second layer of the DCB\n",
                "    # l2_p1 = Conv1D(filters=feature_dim, kernel_size=5, padding=\"same\", dilation_rate=2, use_bias=True, bias_initializer=bias_initializer)(l1_ELU)\n",
                "    # l2_p2 = Conv1D(filters=feature_dim, kernel_size=5, padding=\"same\", dilation_rate=2, use_bias=True, bias_initializer=bias_initializer)(l1_ELU)\n",
                "    l2_p1 = Conv1D(filters=feature_dim, kernel_size=3, padding=\"same\", dilation_rate=2, use_bias=True, bias_initializer=bias_initializer)(l1_ELU)\n",
                "    l2_p2 = Conv1D(filters=feature_dim, kernel_size=3, padding=\"same\", dilation_rate=2, use_bias=True, bias_initializer=bias_initializer)(l1_ELU)\n",
                "    l2_add = Add()([l2_p1, l2_p2])\n",
                "    l2_ELU = ELU()(l2_add)\n",
                "    # third layer of the DCB\n",
                "    # l3_p1 = Conv1D(filters=feature_dim, kernel_size=9, padding=\"same\", dilation_rate=4, use_bias=True, bias_initializer=bias_initializer)(l2_ELU)\n",
                "    # l3_p2 = Conv1D(filters=feature_dim, kernel_size=9, padding=\"same\", dilation_rate=4, use_bias=True, bias_initializer=bias_initializer)(l2_ELU)\n",
                "    l3_p1 = Conv1D(filters=feature_dim, kernel_size=3, padding=\"same\", dilation_rate=4, use_bias=True, bias_initializer=bias_initializer)(l2_ELU)\n",
                "    l3_p2 = Conv1D(filters=feature_dim, kernel_size=3, padding=\"same\", dilation_rate=4, use_bias=True, bias_initializer=bias_initializer)(l2_ELU)\n",
                "    l3_add = Add()([l3_p1, l3_p2])\n",
                "    l3_ELU = ELU()(l3_add)\n",
                "\n",
                "    residual = Conv1D(filters=feature_dim, kernel_size=1, padding=\"same\")(inputs)\n",
                "    res_add = Add()([l3_ELU, residual])\n",
                "    # res_add = Add()([l1_ELU, residual])\n",
                "    # res_add = ELU()(res_add)\n",
                "    # bn = BatchNormalization()(res_add)\n",
                "    # return bn\n",
                "    return res_add"
            ]
        },
        {
            "cell_type": "code",
            "execution_count": 25,
            "metadata": {},
            "outputs": [
                {
                    "name": "stdout",
                    "output_type": "stream",
                    "text": [
                        "(None, 312, 64)\n",
                        "(None, 19968)\n"
                    ]
                }
            ],
            "source": [
                "def time_diluted_conv_net(feature_dim, input_layer, pool_size, pool_stride):\n",
                "    dcb_1 = diluted_conv_block(input_layer, feature_dim[0])\n",
                "    mp_1 = MaxPooling1D(pool_size=pool_size, strides=pool_stride, padding='valid')(dcb_1)\n",
                "    dcb_2 = diluted_conv_block(mp_1, feature_dim[1])\n",
                "    mp_2 = MaxPooling1D(pool_size=pool_size, strides=pool_stride, padding='valid')(dcb_2)\n",
                "    dcb_3 = diluted_conv_block(mp_2, feature_dim[2])\n",
                "    mp_3 = MaxPooling1D(pool_size=pool_size, strides=pool_stride, padding='valid')(dcb_3)\n",
                "    dcb_4 = diluted_conv_block(mp_3, feature_dim[3])\n",
                "    mp_4 = MaxPooling1D(pool_size=pool_size, strides=pool_stride, padding='valid')(dcb_4)\n",
                "    dcb_5 = diluted_conv_block(mp_4, feature_dim[4])\n",
                "    return dcb_5\n",
                "    # return dcb_2\n",
                "\n",
                "# TDCN block for pose\n",
                "tdcn_pose = time_diluted_conv_net(\n",
                "    feature_dim = tdcn_dim_pose, \n",
                "    input_layer = input_pose, \n",
                "    pool_size = 2, \n",
                "    pool_stride = 2,\n",
                "    )\n",
                "\n",
                "# FWA block\n",
                "concat_layer = Concatenate()([tdcn_pose])\n",
                "# print(concat_layer.shape)\n",
                "# gap_layer = GlobalAveragePooling1D(data_format=\"channels_last\")(concat_layer)\n",
                "gap_layer = GlobalAveragePooling1D(data_format=\"channels_last\")(tdcn_pose)\n",
                "# print(gap_layer.shape)\n",
                "\n",
                "linear_layer_1 = Dense(gap_layer.shape[1])(gap_layer)\n",
                "# relu_layer = Dense(128, activation = \"relu\")(linear_layer_1)\n",
                "relu_layer = activations.relu(linear_layer_1)\n",
                "# relu_layer = ReLU()(linear_layer_1)\n",
                "linear_layer_2 = Dense(gap_layer.shape[1])(relu_layer)\n",
                "# sigmoid_layer = Dense(128, activation = \"sigmoid\")(linear_layer_2)\n",
                "sigmoid_layer = activations.sigmoid(linear_layer_2)\n",
                "# reshape_layer = Reshape((312, 128),)(sigmoid_layer)\n",
                "# print(reshape_layer.output_shape)\n",
                "# elementwise_product = Multiply()([concat_layer, reshape_layer])\n",
                "# elementwise_product = Multiply()([concat_layer, sigmoid_layer])\n",
                "elementwise_product = Multiply()([tdcn_pose, sigmoid_layer])\n",
                "print(elementwise_product.shape)\n",
                "# FC layer\n",
                "flatten = Flatten()(elementwise_product)\n",
                "print(flatten.shape)\n",
                "# the default (but should it be?)\n",
                "# FC_l1 = Dense(16, activation=\"relu\")(flatten)\n",
                "# FC_l2 = Dense(12, activation=\"relu\")(FC_l1)\n",
                "# FC_l3 = Dense(8, activation=\"relu\")(FC_l2)\n",
                "# last_layer = Dense(2, activation=\"relu\")(FC_l3)\n",
                "\n",
                "FC_l1 = Dense(120, activation=\"relu\")(flatten)\n",
                "FC_l2 = Dense(80, activation=\"relu\")(FC_l1)\n",
                "FC_l3 = Dense(32, activation=\"relu\")(FC_l2)\n",
                "last_layer = Dense(2, activation=\"relu\")(FC_l3)\n",
                "\n",
                "# FC_l1 = Dense(16, activation=\"relu\")(flatten)\n",
                "# drop_1 = Dropout(0.2)(FC_l1)\n",
                "# FC_l2 = Dense(16, activation=\"relu\")(drop_1)\n",
                "# drop_2 = Dropout(0.2)(FC_l2)\n",
                "# FC_l3 = Dense(8, activation=\"relu\")(drop_2)\n",
                "# drop_3 = Dropout(0.2)(FC_l3)\n",
                "# last_layer = Dense(2, activation=\"relu\")(drop_3)\n",
                "\n",
                "# FC_l1 = Dense(100, activation=\"relu\")(flatten)\n",
                "# FC_l2 = Dense(15, activation=\"relu\")(FC_l1)\n",
                "# # FC_l3 = Dense(30, activation=\"relu\")(FC_l2)\n",
                "# last_layer = Dense(2, activation=\"relu\")(FC_l2)\n",
                "\n",
                "output = Softmax()(last_layer)\n",
                "# output = Dense(1, activation = \"sigmoid\")(FC_l3)"
            ]
        },
        {
            "cell_type": "code",
            "execution_count": 327,
            "metadata": {},
            "outputs": [],
            "source": [
                "batch_size = 8\n",
                "checkpoint_path = \"training_ckpts/pose_training_C2-{epoch:04d}.ckpt\"\n",
                "checkpoint_dir = Path(checkpoint_path)\n",
                "\n",
                "cp_callback = ModelCheckpoint(filepath=checkpoint_dir, save_weights_only=True, save_freq=5*batch_size, verbose=1)"
            ]
        },
        {
            "cell_type": "code",
            "execution_count": 26,
            "metadata": {},
            "outputs": [],
            "source": [
                "model_pose = Model(inputs=[input_pose], outputs=[output])"
            ]
        },
        {
            "cell_type": "code",
            "execution_count": 299,
            "metadata": {},
            "outputs": [],
            "source": [
                "# model_pose = load_model(\"saved_models/good_pose_5_7\")"
            ]
        },
        {
            "cell_type": "code",
            "execution_count": 358,
            "metadata": {},
            "outputs": [
                {
                    "data": {
                        "text/plain": [
                            "<tensorflow.python.checkpoint.checkpoint.CheckpointLoadStatus at 0x2a01f91a050>"
                        ]
                    },
                    "execution_count": 358,
                    "metadata": {},
                    "output_type": "execute_result"
                }
            ],
            "source": [
                "# in this instance was using kernel_size=3 for all conv layers and 16,12,8,2 for the FC layers\n",
                "# model_pose.load_weights(\"training_ckpts\\pose_training_C2-0005.ckpt\")"
            ]
        },
        {
            "cell_type": "code",
            "execution_count": 33,
            "metadata": {},
            "outputs": [],
            "source": [
                "# opt = SGD(learning_rate = 2e-4, momentum = 0.9)\n",
                "# opt = SGD(learning_rate = 2e-5, momentum = 0.9, nesterov=True)\n",
                "opt = SGD(learning_rate = 2e-6, momentum = 0.05)\n",
                "model_pose.compile(loss = \"binary_crossentropy\", optimizer=opt, metrics=['accuracy'])\n",
                "# model_pose.compile(loss=\"sparse_categorical_crossentropy\", optimizer=opt, metrics=['accuracy'])\n",
                "# model_pose.save_weights(checkpoint_path.format(epoch=0))"
            ]
        },
        {
            "cell_type": "code",
            "execution_count": 34,
            "metadata": {},
            "outputs": [
                {
                    "name": "stdout",
                    "output_type": "stream",
                    "text": [
                        "Epoch 1/4\n",
                        "13/13 [==============================] - 68s 5s/step - loss: 0.6931 - accuracy: 1.0000 - val_loss: 0.6931 - val_accuracy: 1.0000\n",
                        "Epoch 2/4\n",
                        "13/13 [==============================] - 48s 4s/step - loss: 0.6931 - accuracy: 1.0000 - val_loss: 0.6931 - val_accuracy: 1.0000\n",
                        "Epoch 3/4\n",
                        "13/13 [==============================] - 35s 3s/step - loss: 0.6931 - accuracy: 1.0000 - val_loss: 0.6931 - val_accuracy: 1.0000\n",
                        "Epoch 4/4\n",
                        "13/13 [==============================] - 35s 3s/step - loss: 0.6931 - accuracy: 1.0000 - val_loss: 0.6931 - val_accuracy: 1.0000\n"
                    ]
                },
                {
                    "data": {
                        "text/plain": [
                            "<keras.callbacks.History at 0x2640ced0f40>"
                        ]
                    },
                    "execution_count": 34,
                    "metadata": {},
                    "output_type": "execute_result"
                }
            ],
            "source": [
                "model_pose.fit(x_train_bad[:], y_train_bad[:], validation_data=(x_dev_bad[:], y_dev_bad[:]), epochs=4)\n",
                "# model_pose.fit(norm_pose_train[:], y_train[:], validation_data=(norm_pose_dev[:], y_dev[:]), epochs=6, batch_size=8)\n",
                "# model_pose.fit(ros_norm_pose_train[:], over_train_y, validation_data=(norm_pose_dev[:], y_dev[:]), epochs=6, batch_size=batch_size, callbacks=[cp_callback])\n",
                "# model_pose.fit(ros_norm_pose_train[:], over_train_y, validation_data=(norm_pose_dev[:], y_dev[:]), epochs=6, batch_size=batch_size)"
            ]
        },
        {
            "cell_type": "code",
            "execution_count": null,
            "metadata": {},
            "outputs": [
                {
                    "name": "stdout",
                    "output_type": "stream",
                    "text": [
                        "0.4253731343283582\n",
                        "0.2803738317757009\n",
                        "0.34285714285714286\n",
                        "0.2978723404255319\n"
                    ]
                }
            ],
            "source": [
                "# model_pose.evaluate(x=pose_test, y=y_test)\n",
                "print(sum(over_train_y)/len(over_train_y))\n",
                "print(sum(y_train)/len(y_train))\n",
                "print(sum(y_dev)/len(y_dev))\n",
                "print(sum(y_test)/len(y_test))"
            ]
        },
        {
            "cell_type": "code",
            "execution_count": 32,
            "metadata": {},
            "outputs": [
                {
                    "name": "stdout",
                    "output_type": "stream",
                    "text": [
                        "2/2 [==============================] - 2s 226ms/step\n",
                        "[0 0 0 0 0 0 0 0 0 0 0 0 0 0 0 0 0 0 0 0 1 1 1 1 1 1 1 1 1 1 1 1 1 1 1 1 1\n",
                        " 1 1 1]\n",
                        "[[1. 0.]\n",
                        " [0. 1.]]\n"
                    ]
                },
                {
                    "data": {
                        "image/png": "[encoded data removed]",
                        "text/plain": [
                            "<Figure size 640x480 with 2 Axes>"
                        ]
                    },
                    "metadata": {},
                    "output_type": "display_data"
                },
                {
                    "name": "stdout",
                    "output_type": "stream",
                    "text": [
                        "Accuracy = 1.0\n",
                        "Recall = 1.0\n",
                        "Precision = 1.0\n",
                        "F1-score = 1.0\n"
                    ]
                }
            ],
            "source": [
                "#Predict\n",
                "# x = norm_pose_train\n",
                "# y = y_train\n",
                "# x = norm_pose_dev\n",
                "# y = y_dev\n",
                "x = x_dev_bad\n",
                "y = y_dev_bad\n",
                "y_pose_prediction = model_pose.predict(x)\n",
                "y_pose_prediction = np.argmax(y_pose_prediction, axis = 1)\n",
                "\n",
                "# where_0 = np.where(y_pose_prediction == 0)\n",
                "# where_1 = np.where(y_pose_prediction == 1)\n",
                "# y_pose_prediction[where_0] = 1\n",
                "# y_pose_prediction[where_1] = 0\n",
                "\n",
                "# print(sum(y_pose_prediction)/len(y_pose_prediction))\n",
                "print(y_pose_prediction)\n",
                "#Create confusion matrix and normalizes it over predicted (columns)\n",
                "result = confusion_matrix(y, y_pose_prediction, normalize='pred')\n",
                "print(result)\n",
                "cm_display = ConfusionMatrixDisplay(confusion_matrix = result, display_labels = [\"Non-Depressed\", \"Depressed\"])\n",
                "cm_display.plot()\n",
                "plt.show()\n",
                "tn_pose = result[0][0]\n",
                "tp_pose = result[1][1]\n",
                "fn_pose = result[1][0]\n",
                "fp_pose = result[0][1]\n",
                "accuracy = (tp_pose + tn_pose)/(tp_pose + tn_pose + fp_pose + fn_pose)\n",
                "recall = tp_pose / (tp_pose + fn_pose)\n",
                "precision = tp_pose / (tp_pose + fp_pose)\n",
                "f1_score = 2 * precision * recall / (precision + recall)\n",
                "print(\"Accuracy = \" + str(accuracy))\n",
                "print(\"Recall = \" + str(recall))\n",
                "print(\"Precision = \" + str(precision))\n",
                "print(\"F1-score = \" + str(f1_score))"
            ]
        },
        {
            "cell_type": "code",
            "execution_count": null,
            "metadata": {},
            "outputs": [],
            "source": [
                "model_pose.summary()"
            ]
        },
        {
            "cell_type": "code",
            "execution_count": null,
            "metadata": {},
            "outputs": [
                {
                    "name": "stdout",
                    "output_type": "stream",
                    "text": [
                        "You must install pydot (`pip install pydot`) and install graphviz (see instructions at https://graphviz.gitlab.io/download/) for plot_model to work.\n"
                    ]
                }
            ],
            "source": [
                "plot_model(model_pose, to_file='model_plot.png', show_shapes=True, show_layer_names=True)"
            ]
        },
        {
            "cell_type": "code",
            "execution_count": 23,
            "metadata": {},
            "outputs": [
                {
                    "name": "stderr",
                    "output_type": "stream",
                    "text": [
                        "WARNING:absl:Found untraced functions such as _jit_compiled_convolution_op, _jit_compiled_convolution_op, _jit_compiled_convolution_op, _jit_compiled_convolution_op, _jit_compiled_convolution_op while saving (showing 5 of 35). These functions will not be directly callable after loading.\n"
                    ]
                },
                {
                    "name": "stdout",
                    "output_type": "stream",
                    "text": [
                        "INFO:tensorflow:Assets written to: saved_models/pose_madeupdata_20_7\\assets\n"
                    ]
                },
                {
                    "name": "stderr",
                    "output_type": "stream",
                    "text": [
                        "INFO:tensorflow:Assets written to: saved_models/pose_madeupdata_20_7\\assets\n"
                    ]
                }
            ],
            "source": [
                "# model_pose.save(\"saved_models/pose_madeupdata_20_7\")"
            ]
        }
    ],
    "metadata": {
        "kernelspec": {
            "display_name": "attempt2",
            "language": "python",
            "name": "python3"
        },
        "language_info": {
            "codemirror_mode": {
                "name": "ipython",
                "version": 3
            },
            "file_extension": ".py",
            "mimetype": "text/x-python",
            "name": "python",
            "nbconvert_exporter": "python",
            "pygments_lexer": "ipython3",
            "version": "3.10.11"
        },
        "orig_nbformat": 4
    },
    "nbformat": 4,
    "nbformat_minor": 2
}
