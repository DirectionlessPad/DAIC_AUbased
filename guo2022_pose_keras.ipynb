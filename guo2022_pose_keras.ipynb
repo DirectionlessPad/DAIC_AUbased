{
    "cells": [
        {
            "cell_type": "code",
            "execution_count": 1,
            "metadata": {},
            "outputs": [],
            "source": [
                "from pathlib import Path\n",
                "import pandas as pd\n",
                "from keras.layers import BatchNormalization, Dense, Input, Conv1D, Add, ELU, Flatten, MaxPooling1D\n",
                "from keras.layers import GlobalAveragePooling1D, Softmax, Concatenate, Reshape, Multiply, ReLU\n",
                "from keras.optimizers import SGD\n",
                "from keras import activations\n",
                "from keras import Model\n",
                "from keras.initializers import HeNormal\n",
                "from sklearn.metrics import confusion_matrix, ConfusionMatrixDisplay\n",
                "from load_dataset import load_original_daic, load_labels\n",
                "import matplotlib.pyplot as plt\n",
                "import numpy as np\n",
                "from keras.utils.vis_utils import plot_model"
            ]
        },
        {
            "cell_type": "code",
            "execution_count": 2,
            "metadata": {},
            "outputs": [],
            "source": [
                "daic_pose_train = load_original_daic(\"original_daic/train\", \"pose\")\n",
                "daic_pose_dev = load_original_daic(\"original_daic/dev\", \"pose\")\n",
                "daic_pose_test = load_original_daic(\"original_daic/test\", \"pose\")"
            ]
        },
        {
            "cell_type": "code",
            "execution_count": 3,
            "metadata": {},
            "outputs": [
                {
                    "name": "stdout",
                    "output_type": "stream",
                    "text": [
                        "590\n",
                        "591\n",
                        "592\n",
                        "593\n",
                        "594\n",
                        "595\n",
                        "596\n",
                        "597\n",
                        "598\n",
                        "599\n",
                        "600\n",
                        "601\n",
                        "602\n",
                        "603\n",
                        "604\n",
                        "605\n",
                        "606\n",
                        "607\n",
                        "608\n",
                        "609\n",
                        "610\n",
                        "611\n",
                        "612\n",
                        "613\n",
                        "614\n",
                        "615\n",
                        "616\n",
                        "617\n",
                        "618\n",
                        "619\n",
                        "620\n",
                        "621\n",
                        "622\n",
                        "623\n",
                        "624\n",
                        "625\n",
                        "626\n",
                        "627\n",
                        "628\n",
                        "629\n",
                        "630\n",
                        "631\n",
                        "632\n",
                        "633\n",
                        "634\n",
                        "635\n",
                        "636\n",
                        "637\n",
                        "638\n",
                        "639\n",
                        "640\n",
                        "641\n",
                        "642\n",
                        "643\n",
                        "644\n",
                        "645\n",
                        "646\n",
                        "647\n",
                        "648\n",
                        "649\n",
                        "650\n",
                        "651\n",
                        "652\n",
                        "653\n",
                        "654\n",
                        "655\n",
                        "656\n",
                        "657\n",
                        "658\n",
                        "659\n",
                        "660\n",
                        "661\n",
                        "662\n",
                        "663\n",
                        "664\n",
                        "665\n",
                        "666\n",
                        "667\n",
                        "668\n",
                        "669\n",
                        "670\n",
                        "671\n",
                        "672\n",
                        "673\n",
                        "674\n",
                        "675\n",
                        "676\n",
                        "677\n",
                        "678\n",
                        "679\n",
                        "680\n",
                        "681\n",
                        "682\n",
                        "683\n",
                        "684\n",
                        "685\n",
                        "686\n",
                        "687\n",
                        "688\n",
                        "689\n",
                        "690\n",
                        "691\n",
                        "692\n",
                        "693\n",
                        "694\n",
                        "695\n",
                        "696\n",
                        "697\n",
                        "698\n",
                        "699\n",
                        "700\n",
                        "701\n",
                        "702\n",
                        "703\n",
                        "704\n",
                        "705\n",
                        "706\n",
                        "707\n",
                        "708\n",
                        "709\n",
                        "710\n",
                        "711\n",
                        "712\n",
                        "713\n",
                        "714\n",
                        "715\n",
                        "716\n",
                        "717\n",
                        "718\n",
                        "719\n",
                        "720\n",
                        "721\n",
                        "722\n",
                        "723\n",
                        "724\n",
                        "725\n",
                        "726\n",
                        "727\n",
                        "728\n",
                        "729\n",
                        "730\n",
                        "731\n",
                        "732\n",
                        "733\n",
                        "734\n",
                        "735\n",
                        "736\n",
                        "737\n",
                        "738\n",
                        "739\n",
                        "740\n",
                        "741\n",
                        "742\n",
                        "743\n",
                        "744\n",
                        "745\n",
                        "746\n",
                        "747\n",
                        "748\n",
                        "749\n",
                        "750\n",
                        "751\n",
                        "752\n",
                        "753\n",
                        "754\n",
                        "755\n",
                        "756\n",
                        "757\n",
                        "758\n",
                        "759\n",
                        "760\n",
                        "761\n",
                        "762\n",
                        "763\n",
                        "764\n",
                        "765\n",
                        "766\n",
                        "767\n",
                        "768\n",
                        "769\n",
                        "770\n",
                        "771\n",
                        "772\n",
                        "773\n",
                        "774\n",
                        "775\n",
                        "776\n",
                        "777\n",
                        "778\n",
                        "779\n",
                        "780\n",
                        "781\n",
                        "782\n",
                        "783\n",
                        "784\n",
                        "785\n",
                        "786\n",
                        "787\n",
                        "788\n",
                        "789\n",
                        "790\n",
                        "791\n",
                        "792\n",
                        "793\n",
                        "794\n",
                        "795\n",
                        "796\n",
                        "797\n",
                        "798\n",
                        "799\n",
                        "800\n",
                        "801\n",
                        "802\n",
                        "803\n",
                        "804\n",
                        "805\n",
                        "806\n",
                        "807\n",
                        "808\n",
                        "809\n",
                        "810\n",
                        "811\n",
                        "812\n",
                        "813\n",
                        "814\n",
                        "815\n",
                        "816\n",
                        "817\n",
                        "818\n",
                        "819\n",
                        "820\n",
                        "821\n",
                        "822\n",
                        "823\n",
                        "824\n",
                        "825\n"
                    ]
                }
            ],
            "source": [
                "# daic_pose_dev[\"432\"].loc[0:4999]\n",
                "for i in range(5000):\n",
                "    try:\n",
                "        temp = daic_pose_test[\"432\"].loc[i].to_numpy(dtype=\"float32\")\n",
                "    except Exception:\n",
                "        print(i)"
            ]
        },
        {
            "cell_type": "code",
            "execution_count": 4,
            "metadata": {},
            "outputs": [],
            "source": [
                "label_path = Path(\"original_daic/labels\")\n",
                "loaded_labels = load_labels(label_path)\n",
                "y_train = np.array(loaded_labels[\"train\"])\n",
                "y_dev = np.array(loaded_labels[\"dev\"])\n",
                "y_test = np.array(loaded_labels[\"test\"])\n"
            ]
        },
        {
            "cell_type": "code",
            "execution_count": 5,
            "metadata": {},
            "outputs": [],
            "source": [
                "pose_train = []\n",
                "pose_dev = []\n",
                "pose_test = []\n",
                "for subject_id, subject_df in daic_pose_train.items():\n",
                "    temp = subject_df.copy().loc[1000:5999].to_numpy(dtype=\"float32\")\n",
                "    pose_train.append(temp)\n",
                "for subject_id, subject_df in daic_pose_dev.items():\n",
                "    # print(subject_id)\n",
                "    temp = subject_df.copy().loc[1000:5999].to_numpy(dtype=\"float32\")\n",
                "    pose_dev.append(temp)\n",
                "for subject_id, subject_df in daic_pose_test.items():\n",
                "    # print(subject_id)\n",
                "    temp = subject_df.copy().loc[1000:5999].to_numpy(dtype=\"float32\")\n",
                "    pose_test.append(temp)"
            ]
        },
        {
            "cell_type": "code",
            "execution_count": 6,
            "metadata": {},
            "outputs": [],
            "source": [
                "# list1 = [np.array([12,1]), np.array([2,3])]\n",
                "# list2 = [np.array([4,5]), np.array([6,7])]\n",
                "# list3 = [np.array([8,9]), np.array([10,11])]\n",
                "# all_lists = np.array(list1 + list2 + list3)\n",
                "# print(all_lists.min(0))\n",
                "# print(all_lists.ptp(0))\n",
                "all_samples = pose_train + pose_dev + pose_test\n",
                "# all_samples = np.array(pose_train + pose_dev + pose_test, dtype=object)\n",
                "all_samples = np.concatenate((all_samples),)\n",
                "# all_samples.shape\n",
                "min_values = all_samples.min(axis=0)\n",
                "ptp_ranges = all_samples.ptp(axis=0)"
            ]
        },
        {
            "cell_type": "code",
            "execution_count": 7,
            "metadata": {},
            "outputs": [],
            "source": [
                "pose_train = np.array(pose_train)\n",
                "pose_dev = np.array(pose_dev)\n",
                "pose_test = np.array(pose_test)"
            ]
        },
        {
            "cell_type": "code",
            "execution_count": 8,
            "metadata": {},
            "outputs": [],
            "source": [
                "norm_pose_train = (pose_train - min_values)/ptp_ranges\n",
                "norm_pose_dev = (pose_dev - min_values)/ptp_ranges\n",
                "norm_pose_test = (pose_test - min_values)/ptp_ranges"
            ]
        },
        {
            "cell_type": "code",
            "execution_count": 9,
            "metadata": {},
            "outputs": [],
            "source": [
                "input_pose = Input(shape=[5000, 6])\n",
                "tdcn_dim_pose = [128,64,256,128,64] # used in Guo's paper\n",
                "# tdcn_dim_pose = [128,128,128,128,128]\n",
                "bias_initializer = HeNormal(seed=0)"
            ]
        },
        {
            "cell_type": "code",
            "execution_count": 10,
            "metadata": {},
            "outputs": [
                {
                    "name": "stdout",
                    "output_type": "stream",
                    "text": [
                        "(400, 5000, 6)\n",
                        "(400,)\n"
                    ]
                }
            ],
            "source": [
                "x_train_bad = np.concatenate((np.zeros((200, 5000, 6)), np.ones((200, 5000, 6))))\n",
                "y_train_bad = np.concatenate((np.zeros(200), np.ones(200)))\n",
                "x_dev_bad = np.concatenate((np.zeros((20, 5000, 6)), np.ones((20, 5000, 6))))\n",
                "y_dev_bad = np.concatenate((np.zeros(20), np.ones(20)))\n",
                "print(x_train_bad.shape)\n",
                "print(y_train_bad.shape)"
            ]
        },
        {
            "cell_type": "code",
            "execution_count": 11,
            "metadata": {},
            "outputs": [],
            "source": [
                "# One DCB\n",
                "# first layer of the DCB\n",
                "def diluted_conv_block(inputs, feature_dim):\n",
                "    # with K.name_scope(block_name)\n",
                "    l1_p1 = Conv1D(filters=feature_dim, kernel_size=3, padding=\"same\", dilation_rate=1, use_bias=True, bias_initializer=bias_initializer)(inputs)\n",
                "    l1_p2 = Conv1D(filters=feature_dim, kernel_size=3, padding=\"same\", dilation_rate=1, use_bias=True, bias_initializer=bias_initializer)(inputs)\n",
                "    l1_add = Add()([l1_p1, l1_p2])\n",
                "    l1_ELU = ELU()(l1_add)\n",
                "    # second layer of the DCB\n",
                "    l2_p1 = Conv1D(filters=feature_dim, kernel_size=5, padding=\"same\", dilation_rate=2, use_bias=True, bias_initializer=bias_initializer)(l1_ELU)\n",
                "    l2_p2 = Conv1D(filters=feature_dim, kernel_size=5, padding=\"same\", dilation_rate=2, use_bias=True, bias_initializer=bias_initializer)(l1_ELU)\n",
                "    l2_add = Add()([l2_p1, l2_p2])\n",
                "    l2_ELU = ELU()(l2_add)\n",
                "    # third layer of the DCB\n",
                "    l3_p1 = Conv1D(filters=feature_dim, kernel_size=9, padding=\"same\", dilation_rate=4, use_bias=True, bias_initializer=bias_initializer)(l2_ELU)\n",
                "    l3_p2 = Conv1D(filters=feature_dim, kernel_size=9, padding=\"same\", dilation_rate=4, use_bias=True, bias_initializer=bias_initializer)(l2_ELU)\n",
                "    l3_add = Add()([l3_p1, l3_p2])\n",
                "    l3_ELU = ELU()(l3_add)\n",
                "\n",
                "    residual = Conv1D(filters=feature_dim, kernel_size=1, padding=\"same\")(inputs)\n",
                "    res_add = Add()([l3_ELU, residual])\n",
                "    # res_add = Add()([l1_ELU, residual])\n",
                "    # res_add = ELU()(res_add)\n",
                "    bn = BatchNormalization()(res_add)\n",
                "    return bn\n",
                "    # return residual"
            ]
        },
        {
            "cell_type": "code",
            "execution_count": 19,
            "metadata": {},
            "outputs": [
                {
                    "name": "stdout",
                    "output_type": "stream",
                    "text": [
                        "(None, 312, 64)\n",
                        "(None, 19968)\n"
                    ]
                }
            ],
            "source": [
                "def time_diluted_conv_net(feature_dim, input_layer, pool_size, pool_stride):\n",
                "    dcb_1 = diluted_conv_block(input_layer, feature_dim[0])\n",
                "    mp_1 = MaxPooling1D(pool_size=pool_size, strides=pool_stride, padding='valid')(dcb_1)\n",
                "    dcb_2 = diluted_conv_block(mp_1, feature_dim[1])\n",
                "    mp_2 = MaxPooling1D(pool_size=pool_size, strides=pool_stride, padding='valid')(dcb_2)\n",
                "    dcb_3 = diluted_conv_block(mp_2, feature_dim[2])\n",
                "    mp_3 = MaxPooling1D(pool_size=pool_size, strides=pool_stride, padding='valid')(dcb_3)\n",
                "    dcb_4 = diluted_conv_block(mp_3, feature_dim[3])\n",
                "    mp_4 = MaxPooling1D(pool_size=pool_size, strides=pool_stride, padding='valid')(dcb_4)\n",
                "    dcb_5 = diluted_conv_block(mp_4, feature_dim[4])\n",
                "    return dcb_5\n",
                "    # return dcb_2\n",
                "\n",
                "# TDCN block for pose\n",
                "tdcn_pose = time_diluted_conv_net(\n",
                "    feature_dim = tdcn_dim_pose, \n",
                "    input_layer = input_pose, \n",
                "    pool_size = 2, \n",
                "    pool_stride = 2,\n",
                "    )\n",
                "\n",
                "# FWA block\n",
                "concat_layer = Concatenate()([tdcn_pose])\n",
                "# print(concat_layer.shape)\n",
                "# gap_layer = GlobalAveragePooling1D(data_format=\"channels_last\")(concat_layer)\n",
                "gap_layer = GlobalAveragePooling1D(data_format=\"channels_last\")(tdcn_pose)\n",
                "# print(gap_layer.shape)\n",
                "\n",
                "linear_layer_1 = Dense(gap_layer.shape[1])(gap_layer)\n",
                "# relu_layer = Dense(128, activation = \"relu\")(linear_layer_1)\n",
                "relu_layer = activations.relu(linear_layer_1)\n",
                "# relu_layer = ReLU()(linear_layer_1)\n",
                "linear_layer_2 = Dense(gap_layer.shape[1])(relu_layer)\n",
                "# sigmoid_layer = Dense(128, activation = \"sigmoid\")(linear_layer_2)\n",
                "sigmoid_layer = activations.sigmoid(linear_layer_2)\n",
                "# reshape_layer = Reshape((312, 128),)(sigmoid_layer)\n",
                "# print(reshape_layer.output_shape)\n",
                "# elementwise_product = Multiply()([concat_layer, reshape_layer])\n",
                "# elementwise_product = Multiply()([concat_layer, sigmoid_layer])\n",
                "elementwise_product = Multiply()([tdcn_pose, sigmoid_layer])\n",
                "print(elementwise_product.shape)\n",
                "# FC layer\n",
                "flatten = Flatten()(elementwise_product)\n",
                "print(flatten.shape)\n",
                "FC_l1 = Dense(20, activation=\"relu\")(flatten)\n",
                "FC_l2 = Dense(20, activation=\"relu\")(FC_l1)\n",
                "FC_l3 = Dense(10, activation=\"relu\")(FC_l2)\n",
                "last_layer = Dense(2, activation=\"sigmoid\")(FC_l3)\n",
                "output = Softmax()(last_layer)\n",
                "# output = Dense(1, activation = \"sigmoid\")(FC_l3)"
            ]
        },
        {
            "cell_type": "code",
            "execution_count": 20,
            "metadata": {},
            "outputs": [],
            "source": [
                "model_pose = Model(inputs=[input_pose], outputs=[output])\n",
                "opt = SGD(learning_rate = 2e-5, momentum = 0.9)\n",
                "# model_pose.compile(loss = \"binary_crossentropy\", optimizer=opt, metrics=['accuracy'])\n",
                "model_pose.compile(loss=\"sparse_categorical_crossentropy\", optimizer=opt, metrics=['accuracy'])"
            ]
        },
        {
            "cell_type": "code",
            "execution_count": 21,
            "metadata": {},
            "outputs": [
                {
                    "name": "stdout",
                    "output_type": "stream",
                    "text": [
                        "Epoch 1/10\n",
                        "14/14 [==============================] - 21s 1s/step - loss: 0.6992 - accuracy: 0.3458 - val_loss: 0.7120 - val_accuracy: 0.5429\n",
                        "Epoch 2/10\n",
                        "14/14 [==============================] - 19s 1s/step - loss: 0.6939 - accuracy: 0.4393 - val_loss: 0.6952 - val_accuracy: 0.5143\n",
                        "Epoch 3/10\n",
                        "14/14 [==============================] - 19s 1s/step - loss: 0.6922 - accuracy: 0.5514 - val_loss: 0.7027 - val_accuracy: 0.4000\n",
                        "Epoch 4/10\n",
                        "14/14 [==============================] - 19s 1s/step - loss: 0.6918 - accuracy: 0.5327 - val_loss: 0.7185 - val_accuracy: 0.4000\n",
                        "Epoch 5/10\n",
                        "14/14 [==============================] - 19s 1s/step - loss: 0.6957 - accuracy: 0.4206 - val_loss: 0.7185 - val_accuracy: 0.4000\n",
                        "Epoch 6/10\n",
                        "14/14 [==============================] - 19s 1s/step - loss: 0.6904 - accuracy: 0.5607 - val_loss: 0.7175 - val_accuracy: 0.3714\n",
                        "Epoch 7/10\n",
                        "14/14 [==============================] - 19s 1s/step - loss: 0.6881 - accuracy: 0.5514 - val_loss: 0.7107 - val_accuracy: 0.3714\n",
                        "Epoch 8/10\n",
                        "14/14 [==============================] - 19s 1s/step - loss: 0.6905 - accuracy: 0.5047 - val_loss: 0.7090 - val_accuracy: 0.4286\n",
                        "Epoch 9/10\n",
                        "14/14 [==============================] - 19s 1s/step - loss: 0.6900 - accuracy: 0.5140 - val_loss: 0.7051 - val_accuracy: 0.3429\n",
                        "Epoch 10/10\n",
                        "14/14 [==============================] - 19s 1s/step - loss: 0.6880 - accuracy: 0.5607 - val_loss: 0.7004 - val_accuracy: 0.3714\n"
                    ]
                },
                {
                    "data": {
                        "text/plain": [
                            "<keras.callbacks.History at 0x1f336793520>"
                        ]
                    },
                    "execution_count": 21,
                    "metadata": {},
                    "output_type": "execute_result"
                }
            ],
            "source": [
                "# model_pose.fit(x_train_bad[:], y_train_bad[:], validation_data=(x_dev_bad[:], y_dev_bad[:]), epochs=2)\n",
                "model_pose.fit(pose_train[:], y_train[:], validation_data=(pose_dev[:], y_dev[:]), epochs=10, batch_size=8)"
            ]
        },
        {
            "cell_type": "code",
            "execution_count": 15,
            "metadata": {},
            "outputs": [
                {
                    "name": "stdout",
                    "output_type": "stream",
                    "text": [
                        "0.2803738317757009\n",
                        "0.34285714285714286\n",
                        "0.2978723404255319\n"
                    ]
                }
            ],
            "source": [
                "# model_pose.evaluate(x=pose_test, y=y_test)\n",
                "print(sum(y_train)/len(y_train))\n",
                "print(sum(y_dev)/len(y_dev))\n",
                "print(sum(y_test)/len(y_test))"
            ]
        },
        {
            "cell_type": "code",
            "execution_count": 22,
            "metadata": {},
            "outputs": [
                {
                    "name": "stdout",
                    "output_type": "stream",
                    "text": [
                        "2/2 [==============================] - 2s 682ms/step\n",
                        "[1 1 1 1 0 1 1 0 1 1 0 0 0 0 1 1 0 1 0 1 1 1 1 0 1 1 0 1 0 1 1 0 0 1 1 0 1\n",
                        " 0 0 1 0 0 1 0 0 0 1]\n",
                        "[[0.57142857 0.80769231]\n",
                        " [0.42857143 0.19230769]]\n"
                    ]
                },
                {
                    "data": {
                        "image/png": "[encoded data removed]",
                        "text/plain": [
                            "<Figure size 640x480 with 2 Axes>"
                        ]
                    },
                    "metadata": {},
                    "output_type": "display_data"
                },
                {
                    "name": "stdout",
                    "output_type": "stream",
                    "text": [
                        "Accuracy = 0.38186813186813184\n",
                        "Recall = 0.3097345132743363\n",
                        "Precision = 0.19230769230769232\n",
                        "F1-score = 0.23728813559322037\n"
                    ]
                }
            ],
            "source": [
                "#Predict\n",
                "x = pose_test\n",
                "y = y_test\n",
                "# x = x_dev_bad\n",
                "# y = y_dev_bad\n",
                "y_pose_prediction = model_pose.predict(x)\n",
                "y_pose_prediction = np.argmax(y_pose_prediction, axis = 1)\n",
                "# print(sum(y_pose_prediction)/len(y_pose_prediction))\n",
                "print(y_pose_prediction)\n",
                "#Create confusion matrix and normalizes it over predicted (columns)\n",
                "result = confusion_matrix(y, y_pose_prediction, normalize='pred')\n",
                "print(result)\n",
                "cm_display = ConfusionMatrixDisplay(confusion_matrix = result, display_labels = [\"Non-Depressed\", \"Depressed\"])\n",
                "cm_display.plot()\n",
                "plt.show()\n",
                "tn_pose = result[0][0]\n",
                "tp_pose = result[1][1]\n",
                "fn_pose = result[1][0]\n",
                "fp_pose = result[0][1]\n",
                "accuracy = (tp_pose + tn_pose)/(tp_pose + tn_pose + fp_pose + fn_pose)\n",
                "recall = tp_pose / (tp_pose + fn_pose)\n",
                "precision = tp_pose / (tp_pose + fp_pose)\n",
                "f1_score = 2 * precision * recall / (precision + recall)\n",
                "print(\"Accuracy = \" + str(accuracy))\n",
                "print(\"Recall = \" + str(recall))\n",
                "print(\"Precision = \" + str(precision))\n",
                "print(\"F1-score = \" + str(f1_score))"
            ]
        },
        {
            "cell_type": "code",
            "execution_count": 17,
            "metadata": {},
            "outputs": [
                {
                    "name": "stdout",
                    "output_type": "stream",
                    "text": [
                        "You must install pydot (`pip install pydot`) and install graphviz (see instructions at https://graphviz.gitlab.io/download/) for plot_model to work.\n"
                    ]
                }
            ],
            "source": [
                "plot_model(model_pose, to_file='model_plot.png', show_shapes=True, show_layer_names=True)"
            ]
        },
        {
            "cell_type": "code",
            "execution_count": 18,
            "metadata": {},
            "outputs": [],
            "source": [
                "# model_pose.save(\"saved_models/strangely_good_pose_23_6\")"
            ]
        }
    ],
    "metadata": {
        "kernelspec": {
            "display_name": "attempt2",
            "language": "python",
            "name": "python3"
        },
        "language_info": {
            "codemirror_mode": {
                "name": "ipython",
                "version": 3
            },
            "file_extension": ".py",
            "mimetype": "text/x-python",
            "name": "python",
            "nbconvert_exporter": "python",
            "pygments_lexer": "ipython3",
            "version": "3.10.11"
        },
        "orig_nbformat": 4
    },
    "nbformat": 4,
    "nbformat_minor": 2
}
