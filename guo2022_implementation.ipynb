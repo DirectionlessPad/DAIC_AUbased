{
 "cells": [
  {
   "cell_type": "code",
   "execution_count": 1,
   "metadata": {},
   "outputs": [],
   "source": [
    "from pathlib import Path\n",
    "import pandas as pd\n",
    "from keras.layers import BatchNormalization, Dense, Input, Conv1D, Add, ELU, Flatten, MaxPooling1D\n",
    "from keras.layers import GlobalAveragePooling1D, Softmax, Concatenate, Reshape, Multiply, ReLU\n",
    "from keras.optimizers import SGD\n",
    "from keras import activations\n",
    "from keras import Model\n",
    "from keras.initializers import HeNormal\n",
    "from sklearn.metrics import confusion_matrix, ConfusionMatrixDisplay\n",
    "import matplotlib.pyplot as plt\n",
    "import numpy as np\n",
    "from keras.utils.vis_utils import plot_model"
   ]
  },
  {
   "cell_type": "code",
   "execution_count": 2,
   "metadata": {},
   "outputs": [],
   "source": [
    "def load_concatenated_aud_vid(\n",
    "    file_path: Path, feature_type: str, delimeter: str\n",
    "): #-> Dict[str, Dict[str, pd.DataFrame]]:\n",
    "    \"\"\"TODO\"\"\"\n",
    "    if not Path.exists(file_path):\n",
    "        print(\"Directory does not exist. Check input feature directory\")\n",
    "    # loaded_features: Dict = {}\n",
    "    loaded_features = {}\n",
    "    generator = (file_path).glob(\"*\")\n",
    "    for path in generator:\n",
    "        str_path = str(path)\n",
    "        start = str_path.rindex(\"\\\\\")\n",
    "        end = str_path.rindex(\"_\")\n",
    "        participant_id = str_path[start + 1 : end]\n",
    "        full_path = path / (\"features/\" + participant_id + feature_type)\n",
    "        participant_id_df = pd.read_csv(full_path, sep=delimeter)\n",
    "        participant_id_df.columns = participant_id_df.columns.str.replace(\" \", \"\")\n",
    "        loaded_features[participant_id] = participant_id_df\n",
    "    if not loaded_features:\n",
    "        print(\n",
    "            \"No samples loaded, check the samples are available in the input directory.\"\n",
    "        )\n",
    "    return loaded_features"
   ]
  },
  {
   "cell_type": "code",
   "execution_count": 3,
   "metadata": {},
   "outputs": [],
   "source": [
    "# directly load saved (combined) audio video csv files\n",
    "daic_audio_video_train = load_concatenated_aud_vid(Path(\"daic_processed_1/concat_vid_aud/train/\"), \"_Concat_openface_mfcc.csv\", \",\")\n",
    "daic_audio_video_dev = load_concatenated_aud_vid(Path(\"daic_processed_1/concat_vid_aud/dev/\"), \"_Concat_openface_mfcc.csv\", \",\")\n",
    "daic_audio_video_test = load_concatenated_aud_vid(Path(\"daic_processed_1/concat_vid_aud/test/\"), \"_Concat_openface_mfcc.csv\", \",\")"
   ]
  },
  {
   "cell_type": "code",
   "execution_count": 4,
   "metadata": {},
   "outputs": [],
   "source": [
    "for subject_id, subject_df in daic_audio_video_train.items():\n",
    "    subject_df.drop(columns=[\"frame\", \"timestamp\", \"confidence\", \"success\", \"AU01_c\", \"AU02_c\", \"AU04_c\", \"AU05_c\", \"AU06_c\", \"AU07_c\", \"AU09_c\", \"AU10_c\", \"AU12_c\", \"AU14_c\", \"AU15_c\", \"AU17_c\", \"AU20_c\", \"AU23_c\", \"AU25_c\", \"AU26_c\", \"AU28_c\", \"AU45_c\"], inplace=True)\n",
    "for subject_id, subject_df in daic_audio_video_dev.items():\n",
    "    subject_df.drop(columns=[\"frame\", \"timestamp\", \"confidence\", \"success\", \"AU01_c\", \"AU02_c\", \"AU04_c\", \"AU05_c\", \"AU06_c\", \"AU07_c\", \"AU09_c\", \"AU10_c\", \"AU12_c\", \"AU14_c\", \"AU15_c\", \"AU17_c\", \"AU20_c\", \"AU23_c\", \"AU25_c\", \"AU26_c\", \"AU28_c\", \"AU45_c\"], inplace=True)\n",
    "for subject_id, subject_df in daic_audio_video_test.items():\n",
    "    subject_df.drop(columns=[\"frame\", \"timestamp\", \"confidence\", \"success\", \"AU01_c\", \"AU02_c\", \"AU04_c\", \"AU05_c\", \"AU06_c\", \"AU07_c\", \"AU09_c\", \"AU10_c\", \"AU12_c\", \"AU14_c\", \"AU15_c\", \"AU17_c\", \"AU20_c\", \"AU23_c\", \"AU25_c\", \"AU26_c\", \"AU28_c\", \"AU45_c\"], inplace=True)"
   ]
  },
  {
   "cell_type": "code",
   "execution_count": 6,
   "metadata": {},
   "outputs": [],
   "source": [
    "all_data = [daic_audio_video_train, daic_audio_video_dev, daic_audio_video_test]\n",
    "def find_min_max():\n",
    "    \"\"\"Finds the minimum and maximum values of all feature for normalisation.\"\"\"\n",
    "    # only for openface features at the moment\n",
    "\n",
    "    # !!As of now this doesn't work correctly!!\n",
    "    # LEAVE THIS TO DO AFTER PREPROCESSING, some of feature values for success == 0 are ridiculous and will most likely need to be zeroed\n",
    "    min_max = {\n",
    "        \"min\": {\n",
    "            \"pose_Tx\": 1000,\n",
    "            \"pose_Ty\": 1000,\n",
    "            \"pose_Tz\": 1000,\n",
    "            \"pose_Rx\": 1000,\n",
    "            \"pose_Ry\": 1000,\n",
    "            \"pose_Rz\": 1000,\n",
    "            \"gaze_0_x\": 1000,\n",
    "            \"gaze_0_y\": 1000,\n",
    "            \"gaze_0_z\": 1000,\n",
    "            \"gaze_1_x\": 1000,\n",
    "            \"gaze_1_y\": 1000,\n",
    "            \"gaze_1_z\": 1000,\n",
    "            \"gaze_angle_x\": 1000,\n",
    "            \"gaze_angle_y\": 1000,\n",
    "            \"AU01_r\": 1000,\n",
    "            \"AU02_r\": 1000,\n",
    "            \"AU04_r\": 1000,\n",
    "            \"AU05_r\": 1000,\n",
    "            \"AU06_r\": 1000,\n",
    "            \"AU07_r\": 1000,\n",
    "            \"AU09_r\": 1000,\n",
    "            \"AU10_r\": 1000,\n",
    "            \"AU12_r\": 1000,\n",
    "            \"AU14_r\": 1000,\n",
    "            \"AU15_r\": 1000,\n",
    "            \"AU17_r\": 1000,\n",
    "            \"AU20_r\": 1000,\n",
    "            \"AU23_r\": 1000,\n",
    "            \"AU25_r\": 1000,\n",
    "            \"AU26_r\": 1000,\n",
    "            \"AU45_r\": 1000,\n",
    "            \"pcm_fftMag_mfcc[0]\": 1000,\n",
    "            \"pcm_fftMag_mfcc[1]\": 1000,\n",
    "            \"pcm_fftMag_mfcc[2]\": 1000,\n",
    "            \"pcm_fftMag_mfcc[3]\": 1000,\n",
    "            \"pcm_fftMag_mfcc[4]\": 1000,\n",
    "            \"pcm_fftMag_mfcc[5]\": 1000,\n",
    "            \"pcm_fftMag_mfcc[6]\": 1000,\n",
    "            \"pcm_fftMag_mfcc[7]\": 1000,\n",
    "            \"pcm_fftMag_mfcc[8]\": 1000,\n",
    "            \"pcm_fftMag_mfcc[9]\": 1000,\n",
    "            \"pcm_fftMag_mfcc[10]\": 1000,\n",
    "            \"pcm_fftMag_mfcc[11]\": 1000,\n",
    "            \"pcm_fftMag_mfcc[12]\": 1000,\n",
    "            \"pcm_fftMag_mfcc_de[0]\": 1000,\n",
    "            \"pcm_fftMag_mfcc_de[1]\": 1000,\n",
    "            \"pcm_fftMag_mfcc_de[2]\": 1000,\n",
    "            \"pcm_fftMag_mfcc_de[3]\": 1000,\n",
    "            \"pcm_fftMag_mfcc_de[4]\": 1000,\n",
    "            \"pcm_fftMag_mfcc_de[5]\": 1000,\n",
    "            \"pcm_fftMag_mfcc_de[6]\": 1000,\n",
    "            \"pcm_fftMag_mfcc_de[7]\": 1000,\n",
    "            \"pcm_fftMag_mfcc_de[8]\": 1000,\n",
    "            \"pcm_fftMag_mfcc_de[9]\": 1000,\n",
    "            \"pcm_fftMag_mfcc_de[10]\": 1000,\n",
    "            \"pcm_fftMag_mfcc_de[11]\": 1000,\n",
    "            \"pcm_fftMag_mfcc_de[12]\": 1000,\n",
    "            \"pcm_fftMag_mfcc_de_de[0]\": 1000,\n",
    "            \"pcm_fftMag_mfcc_de_de[1]\": 1000,\n",
    "            \"pcm_fftMag_mfcc_de_de[2]\": 1000,\n",
    "            \"pcm_fftMag_mfcc_de_de[3]\": 1000,\n",
    "            \"pcm_fftMag_mfcc_de_de[4]\": 1000,\n",
    "            \"pcm_fftMag_mfcc_de_de[5]\": 1000,\n",
    "            \"pcm_fftMag_mfcc_de_de[6]\": 1000,\n",
    "            \"pcm_fftMag_mfcc_de_de[7]\": 1000,\n",
    "            \"pcm_fftMag_mfcc_de_de[8]\": 1000,\n",
    "            \"pcm_fftMag_mfcc_de_de[9]\": 1000,\n",
    "            \"pcm_fftMag_mfcc_de_de[10]\": 1000,\n",
    "            \"pcm_fftMag_mfcc_de_de[11]\": 1000,\n",
    "            \"pcm_fftMag_mfcc_de_de[12]\": 1000,\n",
    "        },\n",
    "        \"max\": {\n",
    "            \"pose_Tx\": 0,\n",
    "            \"pose_Ty\": 0,\n",
    "            \"pose_Tz\": 0,\n",
    "            \"pose_Rx\": 0,\n",
    "            \"pose_Ry\": 0,\n",
    "            \"pose_Rz\": 0,\n",
    "            \"gaze_0_x\": 0,\n",
    "            \"gaze_0_y\": 0,\n",
    "            \"gaze_0_z\": 0,\n",
    "            \"gaze_1_x\": 0,\n",
    "            \"gaze_1_y\": 0,\n",
    "            \"gaze_1_z\": 0,\n",
    "            \"gaze_angle_x\": 0,\n",
    "            \"gaze_angle_y\": 0,\n",
    "            \"AU01_r\": 0,\n",
    "            \"AU02_r\": 0,\n",
    "            \"AU04_r\": 0,\n",
    "            \"AU05_r\": 0,\n",
    "            \"AU06_r\": 0,\n",
    "            \"AU07_r\": 0,\n",
    "            \"AU09_r\": 0,\n",
    "            \"AU10_r\": 0,\n",
    "            \"AU12_r\": 0,\n",
    "            \"AU14_r\": 0,\n",
    "            \"AU15_r\": 0,\n",
    "            \"AU17_r\": 0,\n",
    "            \"AU20_r\": 0,\n",
    "            \"AU23_r\": 0,\n",
    "            \"AU25_r\": 0,\n",
    "            \"AU26_r\": 0,\n",
    "            \"AU45_r\": 0,\n",
    "            \"pcm_fftMag_mfcc[0]\": -1000,\n",
    "            \"pcm_fftMag_mfcc[1]\": -1000,\n",
    "            \"pcm_fftMag_mfcc[2]\": -1000,\n",
    "            \"pcm_fftMag_mfcc[3]\": -1000,\n",
    "            \"pcm_fftMag_mfcc[4]\": -1000,\n",
    "            \"pcm_fftMag_mfcc[5]\": -1000,\n",
    "            \"pcm_fftMag_mfcc[6]\": -1000,\n",
    "            \"pcm_fftMag_mfcc[7]\": -1000,\n",
    "            \"pcm_fftMag_mfcc[8]\": -1000,\n",
    "            \"pcm_fftMag_mfcc[9]\": -1000,\n",
    "            \"pcm_fftMag_mfcc[10]\": -1000,\n",
    "            \"pcm_fftMag_mfcc[11]\": -1000,\n",
    "            \"pcm_fftMag_mfcc[12]\": -1000,\n",
    "            \"pcm_fftMag_mfcc_de[0]\": -1000,\n",
    "            \"pcm_fftMag_mfcc_de[1]\": -1000,\n",
    "            \"pcm_fftMag_mfcc_de[2]\": -1000,\n",
    "            \"pcm_fftMag_mfcc_de[3]\": -1000,\n",
    "            \"pcm_fftMag_mfcc_de[4]\": -1000,\n",
    "            \"pcm_fftMag_mfcc_de[5]\": -1000,\n",
    "            \"pcm_fftMag_mfcc_de[6]\": -1000,\n",
    "            \"pcm_fftMag_mfcc_de[7]\": -1000,\n",
    "            \"pcm_fftMag_mfcc_de[8]\": -1000,\n",
    "            \"pcm_fftMag_mfcc_de[9]\": -1000,\n",
    "            \"pcm_fftMag_mfcc_de[10]\": -1000,\n",
    "            \"pcm_fftMag_mfcc_de[11]\": -1000,\n",
    "            \"pcm_fftMag_mfcc_de[12]\": -1000,\n",
    "            \"pcm_fftMag_mfcc_de_de[0]\": -1000,\n",
    "            \"pcm_fftMag_mfcc_de_de[1]\": -1000,\n",
    "            \"pcm_fftMag_mfcc_de_de[2]\": -1000,\n",
    "            \"pcm_fftMag_mfcc_de_de[3]\": -1000,\n",
    "            \"pcm_fftMag_mfcc_de_de[4]\": -1000,\n",
    "            \"pcm_fftMag_mfcc_de_de[5]\": -1000,\n",
    "            \"pcm_fftMag_mfcc_de_de[6]\": -1000,\n",
    "            \"pcm_fftMag_mfcc_de_de[7]\": -1000,\n",
    "            \"pcm_fftMag_mfcc_de_de[8]\": -1000,\n",
    "            \"pcm_fftMag_mfcc_de_de[9]\": -1000,\n",
    "            \"pcm_fftMag_mfcc_de_de[10]\": -1000,\n",
    "            \"pcm_fftMag_mfcc_de_de[11]\": -1000,\n",
    "            \"pcm_fftMag_mfcc_de_de[12]\": -1000,\n",
    "        },\n",
    "    }\n",
    "    for subset in all_data:\n",
    "        for subject_id, subject_df in subset.items():\n",
    "            # for subject, dataframe in subjects.items():\n",
    "            for feature, _ in min_max[\"min\"].items():\n",
    "                min_value = subject_df.iloc[:][feature].min()\n",
    "                max_value = subject_df.iloc[:][feature].max()\n",
    "                # if min_value < -1000:\n",
    "                #     print(subject_id)\n",
    "                # if max_value > 1000:\n",
    "                #     print(subject_id)\n",
    "                if min_value < min_max[\"min\"][feature]:\n",
    "                    min_max[\"min\"][feature] = min_value\n",
    "                if max_value > min_max[\"max\"][feature]:\n",
    "                    min_max[\"max\"][feature] = max_value\n",
    "    return min_max\n",
    "min_max_values = find_min_max()\n",
    "# print(min_max_values)\n",
    "min_max_df = pd.DataFrame.from_dict(min_max_values, orient=\"index\")"
   ]
  },
  {
   "cell_type": "code",
   "execution_count": null,
   "metadata": {},
   "outputs": [],
   "source": [
    "normalised_dev = daic_audio_video_dev.copy()\n",
    "normalised_test = daic_audio_video_test.copy()\n",
    "normalised_train = daic_audio_video_train.copy()\n",
    "all_data = [normalised_dev, normalised_test, normalised_train]\n",
    "for subset in all_data:\n",
    "    for subject_id, subject_df in subset.items():\n",
    "        print(subject_id)\n",
    "        for row in range(subject_df.shape[0]):\n",
    "            values = subject_df.iloc[row]\n",
    "            normalised_values = (values-min_max_df.loc[\"min\"])/(min_max_df.loc[\"max\"]-min_max_df.loc[\"min\"])\n",
    "            subject_df.iloc[row] = normalised_values"
   ]
  },
  {
   "cell_type": "code",
   "execution_count": null,
   "metadata": {},
   "outputs": [],
   "source": [
    "# directly load saved (combined) audio video csv files\n",
    "normalised_train = load_concatenated_aud_vid(Path(\"daic_processed_1/normalised_concat_vid_aud/train/\"), \"_normalised_openface_mfcc.csv\", \",\")\n",
    "normalised_dev = load_concatenated_aud_vid(Path(\"daic_processed_1/normalised_concat_vid_aud/dev/\"), \"_normalised_openface_mfcc.csv\", \",\")\n",
    "normalised_test = load_concatenated_aud_vid(Path(\"daic_processed_1/normalised_concat_vid_aud/test/\"), \"_normalised_openface_mfcc.csv\", \",\")"
   ]
  },
  {
   "cell_type": "code",
   "execution_count": 5,
   "metadata": {},
   "outputs": [],
   "source": [
    "resampled_dev_pose = {}\n",
    "resampled_train_pose = {}\n",
    "resampled_test_pose = {}\n",
    "resampled_dev_AU = {}\n",
    "resampled_train_AU = {}\n",
    "resampled_test_AU = {}\n",
    "resampled_dev_gaze = {}\n",
    "resampled_train_gaze = {}\n",
    "resampled_test_gaze = {}\n",
    "for subject_id, subject_df in daic_audio_video_dev.items():\n",
    "    temp1 = subject_df.copy().loc[0:4999][[\"pose_Tx\", \"pose_Ty\", \"pose_Tz\", \"pose_Rx\", \"pose_Ry\", \"pose_Rz\"]]\n",
    "    temp2 = subject_df.copy().loc[0:4999][[ \"AU01_r\", \"AU02_r\", \"AU04_r\", \"AU05_r\", \"AU06_r\", \"AU07_r\", \"AU09_r\", \"AU10_r\", \"AU12_r\", \"AU14_r\", \"AU15_r\", \"AU17_r\", \"AU20_r\", \"AU23_r\", \"AU25_r\", \"AU26_r\", \"AU45_r\"]]\n",
    "    temp3 = subject_df.copy().loc[0:4999][[\"gaze_0_x\", \"gaze_0_y\", \"gaze_0_z\", \"gaze_1_x\", \"gaze_1_y\", \"gaze_1_z\", \"gaze_angle_x\", \"gaze_angle_y\"]]\n",
    "    resampled_dev_pose[subject_id] = temp1\n",
    "    resampled_dev_AU[subject_id] = temp2\n",
    "    resampled_dev_gaze[subject_id] = temp3\n",
    "for subject_id, subject_df in daic_audio_video_train.items():\n",
    "    temp = subject_df.copy().loc[0:4999][[\"pose_Tx\", \"pose_Ty\", \"pose_Tz\", \"pose_Rx\", \"pose_Ry\", \"pose_Rz\"]]\n",
    "    temp2 = subject_df.copy().loc[0:4999][[ \"AU01_r\", \"AU02_r\", \"AU04_r\", \"AU05_r\", \"AU06_r\", \"AU07_r\", \"AU09_r\", \"AU10_r\", \"AU12_r\", \"AU14_r\", \"AU15_r\", \"AU17_r\", \"AU20_r\", \"AU23_r\", \"AU25_r\", \"AU26_r\", \"AU45_r\"]]\n",
    "    temp3 = subject_df.copy().loc[0:4999][[\"gaze_0_x\", \"gaze_0_y\", \"gaze_0_z\", \"gaze_1_x\", \"gaze_1_y\", \"gaze_1_z\", \"gaze_angle_x\", \"gaze_angle_y\"]]\n",
    "    resampled_train_pose[subject_id] = temp1\n",
    "    resampled_train_AU[subject_id] = temp2\n",
    "    resampled_train_gaze[subject_id] = temp3\n",
    "for subject_id, subject_df in daic_audio_video_test.items():\n",
    "    temp = subject_df.copy().loc[0:4999][[\"pose_Tx\", \"pose_Ty\", \"pose_Tz\", \"pose_Rx\", \"pose_Ry\", \"pose_Rz\"]]\n",
    "    temp2 = subject_df.copy().loc[0:4999][[ \"AU01_r\", \"AU02_r\", \"AU04_r\", \"AU05_r\", \"AU06_r\", \"AU07_r\", \"AU09_r\", \"AU10_r\", \"AU12_r\", \"AU14_r\", \"AU15_r\", \"AU17_r\", \"AU20_r\", \"AU23_r\", \"AU25_r\", \"AU26_r\", \"AU45_r\"]]\n",
    "    temp3 = subject_df.copy().loc[0:4999][[\"gaze_0_x\", \"gaze_0_y\", \"gaze_0_z\", \"gaze_1_x\", \"gaze_1_y\", \"gaze_1_z\", \"gaze_angle_x\", \"gaze_angle_y\"]]\n",
    "    resampled_test_pose[subject_id] = temp1\n",
    "    resampled_test_AU[subject_id] = temp2\n",
    "    resampled_test_gaze[subject_id] = temp3\n",
    "\n",
    "        "
   ]
  },
  {
   "cell_type": "code",
   "execution_count": 16,
   "metadata": {},
   "outputs": [],
   "source": [
    "resampled_dev_pose = {}\n",
    "resampled_train_pose = {}\n",
    "resampled_test_pose = {}\n",
    "resampled_dev_AU = {}\n",
    "resampled_train_AU = {}\n",
    "resampled_test_AU = {}\n",
    "resampled_dev_gaze = {}\n",
    "resampled_train_gaze = {}\n",
    "resampled_test_gaze = {}\n",
    "for subject_id, subject_df in normalised_dev.items():\n",
    "    temp1 = subject_df.copy().loc[0:4999][[\"pose_Tx\", \"pose_Ty\", \"pose_Tz\", \"pose_Rx\", \"pose_Ry\", \"pose_Rz\"]]\n",
    "    temp2 = subject_df.copy().loc[0:4999][[ \"AU01_r\", \"AU02_r\", \"AU04_r\", \"AU05_r\", \"AU06_r\", \"AU07_r\", \"AU09_r\", \"AU10_r\", \"AU12_r\", \"AU14_r\", \"AU15_r\", \"AU17_r\", \"AU20_r\", \"AU23_r\", \"AU25_r\", \"AU26_r\", \"AU45_r\"]]\n",
    "    temp3 = subject_df.copy().loc[0:4999][[\"gaze_0_x\", \"gaze_0_y\", \"gaze_0_z\", \"gaze_1_x\", \"gaze_1_y\", \"gaze_1_z\", \"gaze_angle_x\", \"gaze_angle_y\"]]\n",
    "    resampled_dev_pose[subject_id] = temp1\n",
    "    resampled_dev_AU[subject_id] = temp2\n",
    "    resampled_dev_gaze[subject_id] = temp3\n",
    "for subject_id, subject_df in normalised_train.items():\n",
    "    temp = subject_df.copy().loc[0:4999][[\"pose_Tx\", \"pose_Ty\", \"pose_Tz\", \"pose_Rx\", \"pose_Ry\", \"pose_Rz\"]]\n",
    "    temp2 = subject_df.copy().loc[0:4999][[ \"AU01_r\", \"AU02_r\", \"AU04_r\", \"AU05_r\", \"AU06_r\", \"AU07_r\", \"AU09_r\", \"AU10_r\", \"AU12_r\", \"AU14_r\", \"AU15_r\", \"AU17_r\", \"AU20_r\", \"AU23_r\", \"AU25_r\", \"AU26_r\", \"AU45_r\"]]\n",
    "    temp3 = subject_df.copy().loc[0:4999][[\"gaze_0_x\", \"gaze_0_y\", \"gaze_0_z\", \"gaze_1_x\", \"gaze_1_y\", \"gaze_1_z\", \"gaze_angle_x\", \"gaze_angle_y\"]]\n",
    "    resampled_train_pose[subject_id] = temp1\n",
    "    resampled_train_AU[subject_id] = temp2\n",
    "    resampled_train_gaze[subject_id] = temp3\n",
    "for subject_id, subject_df in normalised_test.items():\n",
    "    temp = subject_df.copy().loc[0:4999][[\"pose_Tx\", \"pose_Ty\", \"pose_Tz\", \"pose_Rx\", \"pose_Ry\", \"pose_Rz\"]]\n",
    "    temp2 = subject_df.copy().loc[0:4999][[ \"AU01_r\", \"AU02_r\", \"AU04_r\", \"AU05_r\", \"AU06_r\", \"AU07_r\", \"AU09_r\", \"AU10_r\", \"AU12_r\", \"AU14_r\", \"AU15_r\", \"AU17_r\", \"AU20_r\", \"AU23_r\", \"AU25_r\", \"AU26_r\", \"AU45_r\"]]\n",
    "    temp3 = subject_df.copy().loc[0:4999][[\"gaze_0_x\", \"gaze_0_y\", \"gaze_0_z\", \"gaze_1_x\", \"gaze_1_y\", \"gaze_1_z\", \"gaze_angle_x\", \"gaze_angle_y\"]]\n",
    "    resampled_test_pose[subject_id] = temp1\n",
    "    resampled_test_AU[subject_id] = temp2\n",
    "    resampled_test_gaze[subject_id] = temp3"
   ]
  },
  {
   "cell_type": "code",
   "execution_count": 17,
   "metadata": {},
   "outputs": [],
   "source": [
    "import pandas as pd\n",
    "label_path = Path(\"daic_dataset/daic_labels\")\n",
    "loaded_labels = {\n",
    "    \"dev\": {}, \n",
    "    \"train\": {}, \n",
    "    \"test\": {},\n",
    "    }\n",
    "paths = {\n",
    "    \"dev\": label_path / \"dev_split.csv\",\n",
    "    \"train\": label_path / \"train_split.csv\",\n",
    "    \"test\": label_path / \"test_split.csv\",\n",
    "}\n",
    "for subset, path in paths.items():\n",
    "    subset_df = pd.read_csv(path)\n",
    "    subset_dict = subset_df.to_dict()\n",
    "    for i in range(len(subset_dict[\"Participant_ID\"])):\n",
    "        participant = str(subset_dict[\"Participant_ID\"][i])\n",
    "        loaded_labels[subset][participant] = {\n",
    "            \"PHQ_Binary\": subset_dict[\"PHQ_Binary\"][i],\n",
    "            \"PHQ_Score\": subset_dict[\"PHQ_Score\"][i],\n",
    "        }"
   ]
  },
  {
   "cell_type": "code",
   "execution_count": 18,
   "metadata": {},
   "outputs": [],
   "source": [
    "X_dev_pose = []\n",
    "X_dev_AU = []\n",
    "X_dev_gaze = []\n",
    "Y_dev = []\n",
    "dev_samples_subject = []\n",
    "subject_ids_dev = resampled_dev_pose.keys()\n",
    "for subject_id in subject_ids_dev:\n",
    "    X_dev_pose.append(resampled_dev_pose[subject_id].to_numpy())\n",
    "    X_dev_AU.append(resampled_dev_AU[subject_id].to_numpy())\n",
    "    X_dev_gaze.append(resampled_dev_gaze[subject_id].to_numpy())\n",
    "    Y_dev.append(loaded_labels[\"dev\"][subject_id][\"PHQ_Binary\"])\n",
    "    dev_samples_subject.append(subject_id)\n",
    "X_train_pose = []\n",
    "X_train_AU = []\n",
    "X_train_gaze = []\n",
    "Y_train = []\n",
    "train_samples_subject = []\n",
    "subject_ids_train = resampled_train_pose.keys()\n",
    "for subject_id in subject_ids_train:\n",
    "    X_train_pose.append(resampled_train_pose[subject_id].to_numpy())\n",
    "    X_train_AU.append(resampled_train_AU[subject_id].to_numpy())\n",
    "    X_train_gaze.append(resampled_train_gaze[subject_id].to_numpy())\n",
    "    Y_train.append(loaded_labels[\"train\"][subject_id][\"PHQ_Binary\"])\n",
    "    train_samples_subject.append(subject_id)\n",
    "X_test_pose = []\n",
    "X_test_AU = []\n",
    "X_test_gaze = []\n",
    "Y_test = []\n",
    "test_samples_subject = []\n",
    "subject_ids_test = resampled_test_pose.keys()\n",
    "for subject_id in subject_ids_test:\n",
    "    X_test_pose.append(resampled_test_pose[subject_id].to_numpy())\n",
    "    X_test_AU.append(resampled_test_AU[subject_id].to_numpy())\n",
    "    X_test_gaze.append(resampled_test_gaze[subject_id].to_numpy())\n",
    "    Y_test.append(loaded_labels[\"test\"][subject_id][\"PHQ_Binary\"])\n",
    "    test_samples_subject.append(subject_id)"
   ]
  },
  {
   "cell_type": "code",
   "execution_count": 19,
   "metadata": {},
   "outputs": [],
   "source": [
    "X_dev_pose_np = np.array(X_dev_pose)\n",
    "X_train_pose_np = np.array(X_train_pose)\n",
    "X_test_pose_np = np.array(X_test_pose)\n",
    "\n",
    "X_dev_AU_np = np.array(X_dev_AU)\n",
    "X_train_AU_np = np.array(X_train_AU)\n",
    "X_test_AU_np = np.array(X_test_AU)\n",
    "\n",
    "X_dev_gaze_np = np.array(X_dev_gaze)\n",
    "X_train_gaze_np = np.array(X_train_gaze)\n",
    "X_test_gaze_np = np.array(X_test_gaze)\n",
    "\n",
    "Y_dev_np = np.array(Y_dev)\n",
    "Y_train_np = np.array(Y_train)\n",
    "Y_test_np = np.array(Y_test)"
   ]
  },
  {
   "cell_type": "code",
   "execution_count": 11,
   "metadata": {},
   "outputs": [
    {
     "name": "stdout",
     "output_type": "stream",
     "text": [
      "[ 6.950e+01  3.770e+01  5.768e+02  2.210e-01  3.600e-02 -6.800e-02]\n"
     ]
    }
   ],
   "source": [
    "# all_pose = np.concatenate([X_dev_pose_np, X_train_pose_np, X_test_pose_np])\n",
    "# X_dev_pose_np = (X_dev_pose - all_pose.min(axis=0))\n",
    "print(X_dev_pose_np[0][0])"
   ]
  },
  {
   "cell_type": "code",
   "execution_count": 361,
   "metadata": {},
   "outputs": [
    {
     "name": "stdout",
     "output_type": "stream",
     "text": [
      "[0 1 1 0 0 0 0 0 0 0 0 0 0 1 0 0 0 0 0 0 1 1 1 1 1 0 0 0 1 0 1 1 1 0 0 0 0\n",
      " 0 0 0 0 1 1 0 0 0 1 1 0 0 0 0 0 1 0 0]\n"
     ]
    }
   ],
   "source": [
    "print(Y_test_np)"
   ]
  },
  {
   "cell_type": "code",
   "execution_count": 2,
   "metadata": {},
   "outputs": [],
   "source": [
    "input_pose = Input(shape=[5000, 6])\n",
    "# tdcn_dim_pose = [128,64,256,128,64]\n",
    "tdcn_dim_pose = [128,128,128,128,128]\n",
    "input_AU = Input(shape=[5000, 17])\n",
    "tdcn_dim_AU = [128,64,256,128,64]\n",
    "input_gaze = Input(shape=[5000, 8])\n",
    "tdcn_dim_gaze = [128,64,256,128,64]\n",
    "bias_initializer = HeNormal(seed=0)"
   ]
  },
  {
   "cell_type": "code",
   "execution_count": 3,
   "metadata": {},
   "outputs": [],
   "source": [
    "# One DCB\n",
    "# first layer of the DCB\n",
    "def diluted_conv_block(inputs, feature_dim):\n",
    "    # with K.name_scope(block_name)\n",
    "    l1_p1 = Conv1D(filters=feature_dim, kernel_size=3, padding=\"same\", dilation_rate=1, use_bias=True, bias_initializer=bias_initializer)(inputs)\n",
    "    l1_p2 = Conv1D(filters=feature_dim, kernel_size=3, padding=\"same\", dilation_rate=1, use_bias=True, bias_initializer=bias_initializer)(inputs)\n",
    "    l1_add = Add()([l1_p1, l1_p2])\n",
    "    l1_ELU = ELU()(l1_add)\n",
    "    # second layer of the DCB\n",
    "    l2_p1 = Conv1D(filters=feature_dim, kernel_size=5, padding=\"same\", dilation_rate=2, use_bias=True, bias_initializer=bias_initializer)(l1_ELU)\n",
    "    l2_p2 = Conv1D(filters=feature_dim, kernel_size=5, padding=\"same\", dilation_rate=2, use_bias=True, bias_initializer=bias_initializer)(l1_ELU)\n",
    "    l2_add = Add()([l2_p1, l2_p2])\n",
    "    l2_ELU = ELU()(l2_add)\n",
    "    # third layer of the DCB\n",
    "    l3_p1 = Conv1D(filters=feature_dim, kernel_size=9, padding=\"same\", dilation_rate=4, use_bias=True, bias_initializer=bias_initializer)(l2_ELU)\n",
    "    l3_p2 = Conv1D(filters=feature_dim, kernel_size=9, padding=\"same\", dilation_rate=4, use_bias=True, bias_initializer=bias_initializer)(l2_ELU)\n",
    "    l3_add = Add()([l3_p1, l3_p2])\n",
    "    l3_ELU = ELU()(l3_add)\n",
    "\n",
    "    residual = Conv1D(filters=feature_dim, kernel_size=1, padding=\"same\")(inputs)\n",
    "    res_add = Add()([l3_ELU, residual])\n",
    "    # res_add = Add()([l1_ELU, residual])\n",
    "    # res_add = ELU()(res_add)\n",
    "    # bn = BatchNormalization()(res_add)\n",
    "    return res_add\n",
    "    # return residual"
   ]
  },
  {
   "cell_type": "code",
   "execution_count": 4,
   "metadata": {},
   "outputs": [
    {
     "name": "stdout",
     "output_type": "stream",
     "text": [
      "(None, 312, 192)\n",
      "(None, 192)\n"
     ]
    }
   ],
   "source": [
    "def time_diluted_conv_net(feature_dim, input_layer, pool_size, pool_stride):\n",
    "    dcb_1 = diluted_conv_block(input_layer, feature_dim[0])\n",
    "    mp_1 = MaxPooling1D(pool_size=pool_size, strides=pool_stride, padding='valid')(dcb_1)\n",
    "    dcb_2 = diluted_conv_block(mp_1, feature_dim[1])\n",
    "    mp_2 = MaxPooling1D(pool_size=pool_size, strides=pool_stride, padding='valid')(dcb_2)\n",
    "    dcb_3 = diluted_conv_block(mp_2, feature_dim[2])\n",
    "    mp_3 = MaxPooling1D(pool_size=pool_size, strides=pool_stride, padding='valid')(dcb_3)\n",
    "    dcb_4 = diluted_conv_block(mp_3, feature_dim[3])\n",
    "    mp_4 = MaxPooling1D(pool_size=pool_size, strides=pool_stride, padding='valid')(dcb_4)\n",
    "    dcb_5 = diluted_conv_block(mp_4, feature_dim[4])\n",
    "    return dcb_5\n",
    "    # return dcb_2\n",
    "\n",
    "# TDCN block for pose\n",
    "tdcn_pose = time_diluted_conv_net(\n",
    "    feature_dim = tdcn_dim_pose, \n",
    "    input_layer = input_pose, \n",
    "    pool_size = 2, \n",
    "    pool_stride = 2,\n",
    "    )\n",
    "\n",
    "# TDCN block for AUs\n",
    "tdcn_AU = time_diluted_conv_net(\n",
    "    feature_dim = tdcn_dim_AU, \n",
    "    input_layer = input_AU,\n",
    "    pool_size = 2, \n",
    "    pool_stride = 2,\n",
    "    )\n",
    "\n",
    "# TDCN block for gaze\n",
    "tdcn_gaze = time_diluted_conv_net(\n",
    "    feature_dim = tdcn_dim_gaze, \n",
    "    input_layer = input_gaze,\n",
    "    pool_size = 2,\n",
    "    pool_stride = 2,\n",
    "    )\n",
    "\n",
    "# FWA block\n",
    "concat_layer = Concatenate()([tdcn_pose, tdcn_gaze])\n",
    "print(concat_layer.shape)\n",
    "gap_layer = GlobalAveragePooling1D(data_format=\"channels_last\")(concat_layer)\n",
    "# gap_layer = GlobalAveragePooling1D(data_format=\"channels_last\")(tdcn_pose)\n",
    "print(gap_layer.shape)\n",
    "\n",
    "linear_layer_1 = Dense(gap_layer.shape[1])(gap_layer)\n",
    "# relu_layer = Dense(128, activation = \"relu\")(linear_layer_1)\n",
    "relu_layer = activations.relu(linear_layer_1)\n",
    "# relu_layer = ReLU()(linear_layer_1)\n",
    "linear_layer_2 = Dense(gap_layer.shape[1])(relu_layer)\n",
    "# sigmoid_layer = Dense(128, activation = \"sigmoid\")(linear_layer_2)\n",
    "sigmoid_layer = activations.sigmoid(linear_layer_2)\n",
    "# reshape_layer = Reshape((312, 128),)(sigmoid_layer)\n",
    "# print(reshape_layer.output_shape)\n",
    "# elementwise_product = Multiply()([concat_layer, reshape_layer])\n",
    "elementwise_product = Multiply()([concat_layer, sigmoid_layer])\n",
    "# elementwise_product = Multiply()([tdcn_pose, sigmoid_layer])\n",
    "\n",
    "# FC layer\n",
    "flatten = Flatten()(elementwise_product)\n",
    "FC_l1 = Dense(100, activation = \"relu\")(flatten)\n",
    "FC_l2 = Dense(100, activation = \"relu\")(FC_l1)\n",
    "FC_l3 = Dense(100, activation = \"relu\")(FC_l2)\n",
    "last_layer = Dense(2, activation = \"sigmoid\")(FC_l3)\n",
    "output = Softmax()(last_layer)\n",
    "# output = Dense(1, activation = \"sigmoid\")(FC_l3)"
   ]
  },
  {
   "cell_type": "code",
   "execution_count": null,
   "metadata": {},
   "outputs": [],
   "source": [
    "model_pose = Model(inputs=[input_pose], outputs=[output])\n",
    "opt = SGD(learning_rate = 2e-5, momentum = 0.9)\n",
    "model_pose.compile(loss = \"binary_crossentropy\", optimizer=opt, metrics=['accuracy'])"
   ]
  },
  {
   "cell_type": "code",
   "execution_count": null,
   "metadata": {},
   "outputs": [],
   "source": [
    "model_AU = Model(inputs=[input_AU], outputs=[output])\n",
    "opt = SGD(learning_rate = 2e-5, momentum = 0.9)\n",
    "model_AU.compile(loss = \"binary_crossentropy\", optimizer=opt, metrics=['accuracy'])"
   ]
  },
  {
   "cell_type": "code",
   "execution_count": 365,
   "metadata": {},
   "outputs": [],
   "source": [
    "model_gaze = Model(inputs=[input_gaze], outputs=[output])\n",
    "opt = SGD(learning_rate = 2e-5, momentum = 0.9)\n",
    "model_gaze.compile(loss = \"binary_crossentropy\", optimizer=opt, metrics=['accuracy'])"
   ]
  },
  {
   "cell_type": "code",
   "execution_count": 5,
   "metadata": {},
   "outputs": [],
   "source": [
    "model_pose_gaze = Model(inputs=[input_pose, input_gaze], outputs=[output])\n",
    "opt = SGD(learning_rate = 2e-5, momentum = 0.9)\n",
    "model_pose_gaze.compile(loss = \"binary_crossentropy\", optimizer=opt, metrics=['accuracy'])"
   ]
  },
  {
   "cell_type": "code",
   "execution_count": 6,
   "metadata": {},
   "outputs": [
    {
     "name": "stdout",
     "output_type": "stream",
     "text": [
      "(400, 5000, 6)\n",
      "(400,)\n"
     ]
    }
   ],
   "source": [
    "x_train_bad = np.concatenate((np.zeros((200, 5000, 6)), np.ones((200, 5000, 6))))\n",
    "x_train_bad2 = np.concatenate((np.zeros((200, 5000, 8)), np.ones((200, 5000, 8))))\n",
    "y_train_bad = np.concatenate((np.zeros(200), np.ones(200)))\n",
    "x_dev_bad = np.concatenate((np.zeros((20, 5000, 6)), np.ones((20, 5000, 6))))\n",
    "x_dev_bad2 = np.concatenate((np.zeros((20, 5000, 8)), np.ones((20, 5000, 8))))\n",
    "y_dev_bad = np.concatenate((np.zeros(20), np.ones(20)))\n",
    "print(x_train_bad.shape)\n",
    "print(y_train_bad.shape)"
   ]
  },
  {
   "cell_type": "code",
   "execution_count": 24,
   "metadata": {},
   "outputs": [
    {
     "name": "stdout",
     "output_type": "stream",
     "text": [
      "Epoch 1/7\n",
      "13/13 [==============================] - 113s 8s/step - loss: 0.6974 - accuracy: 1.0000 - val_loss: 0.6944 - val_accuracy: 1.0000\n",
      "Epoch 2/7\n",
      "13/13 [==============================] - 103s 8s/step - loss: 0.6936 - accuracy: 1.0000 - val_loss: 0.6932 - val_accuracy: 0.5000\n",
      "Epoch 3/7\n",
      "13/13 [==============================] - 99s 8s/step - loss: 0.6932 - accuracy: 0.5000 - val_loss: 0.6932 - val_accuracy: 0.5000\n",
      "Epoch 4/7\n",
      "13/13 [==============================] - 102s 8s/step - loss: 0.6932 - accuracy: 0.2425 - val_loss: 0.6932 - val_accuracy: 0.0000e+00\n",
      "Epoch 5/7\n",
      "13/13 [==============================] - 100s 8s/step - loss: 0.6932 - accuracy: 0.0975 - val_loss: 0.6931 - val_accuracy: 0.5000\n",
      "Epoch 6/7\n",
      "13/13 [==============================] - 103s 8s/step - loss: 0.6931 - accuracy: 0.5000 - val_loss: 0.6931 - val_accuracy: 0.5000\n",
      "Epoch 7/7\n",
      "13/13 [==============================] - 104s 8s/step - loss: 0.6931 - accuracy: 0.5000 - val_loss: 0.6931 - val_accuracy: 1.0000\n"
     ]
    },
    {
     "data": {
      "text/plain": [
       "<keras.callbacks.History at 0x189cb1ad510>"
      ]
     },
     "execution_count": 24,
     "metadata": {},
     "output_type": "execute_result"
    }
   ],
   "source": [
    "# model_pose.fit(x_train_bad[:], y_train_bad[:], validation_data=(x_dev_bad[:], y_dev_bad[:]), epochs=5)\n",
    "# model_pose.fit(X_train_pose_np[:], Y_train_np[:], validation_data=(X_dev_pose_np[:], Y_dev_np[:]), epochs=5)\n",
    "# model_AU.fit(X_train_AU_np[:], Y_train_np[:], validation_data=(X_dev_AU_np[:], Y_dev_np[:]), epochs=3)\n",
    "# model_gaze.fit(X_train_gaze_np[:], Y_train_np[:], validation_data=(X_dev_gaze_np[:], Y_dev_np[:]), epochs=3)\n",
    "model_pose_gaze.fit([x_train_bad[:], x_train_bad2[:]], y_train_bad[:], validation_data = ([x_dev_bad[:], x_dev_bad2[:]], y_dev_bad[:]), epochs = 7)\n",
    "# model_pose_gaze.fit([X_train_pose_np[:], X_train_gaze_np[:]], Y_train_np[:], validation_data = ([X_dev_pose_np[:], X_dev_gaze_np[:]], Y_dev_np[:]), epochs = 3)"
   ]
  },
  {
   "cell_type": "code",
   "execution_count": null,
   "metadata": {},
   "outputs": [],
   "source": [
    "plot_model(model_pose_gaze, to_file='model_plot.png', show_shapes=True, show_layer_names=True)"
   ]
  },
  {
   "cell_type": "code",
   "execution_count": null,
   "metadata": {},
   "outputs": [],
   "source": [
    "print(sum(Y_dev_np)/len(Y_dev_np))\n",
    "print(sum(Y_train_np)/len(Y_train_np))\n",
    "print(sum(Y_test_np)/len(Y_test_np))"
   ]
  },
  {
   "cell_type": "code",
   "execution_count": 21,
   "metadata": {},
   "outputs": [
    {
     "name": "stdout",
     "output_type": "stream",
     "text": [
      "13/13 [==============================] - 14s 1s/step\n",
      "[0 0 0 0 0 0 0 0 0 0 0 0 0 0 0 0 0 0 0 0 0 0 0 0 0 0 0 0 0 0 0 0 0 0 0 0 0\n",
      " 0 0 0 0 0 0 0 0 0 0 0 0 0 0 0 0 0 0 0 0 0 0 0 0 0 0 0 0 0 0 0 0 0 0 0 0 0\n",
      " 0 0 0 0 0 0 0 0 0 0 0 0 0 0 0 0 0 0 0 0 0 0 0 0 0 0 0 0 0 0 0 0 0 0 0 0 0\n",
      " 0 0 0 0 0 0 0 0 0 0 0 0 0 0 0 0 0 0 0 0 0 0 0 0 0 0 0 0 0 0 0 0 0 0 0 0 0\n",
      " 0 0 0 0 0 0 0 0 0 0 0 0 0 0 0 0 0 0 0 0 0 0 0 0 0 0 0 0 0 0 0 0 0 0 0 0 0\n",
      " 0 0 0 0 0 0 0 0 0 0 0 0 0 0 0 1 1 1 1 1 1 1 1 1 1 1 1 1 1 1 1 1 1 1 1 1 1\n",
      " 1 1 1 1 1 1 1 1 1 1 1 1 1 1 1 1 1 1 1 1 1 1 1 1 1 1 1 1 1 1 1 1 1 1 1 1 1\n",
      " 1 1 1 1 1 1 1 1 1 1 1 1 1 1 1 1 1 1 1 1 1 1 1 1 1 1 1 1 1 1 1 1 1 1 1 1 1\n",
      " 1 1 1 1 1 1 1 1 1 1 1 1 1 1 1 1 1 1 1 1 1 1 1 1 1 1 1 1 1 1 1 1 1 1 1 1 1\n",
      " 1 1 1 1 1 1 1 1 1 1 1 1 1 1 1 1 1 1 1 1 1 1 1 1 1 1 1 1 1 1 1 1 1 1 1 1 1\n",
      " 1 1 1 1 1 1 1 1 1 1 1 1 1 1 1 1 1 1 1 1 1 1 1 1 1 1 1 1 1 1]\n"
     ]
    },
    {
     "data": {
      "image/png": "[encoded data removed]",
      "text/plain": [
       "<Figure size 640x480 with 2 Axes>"
      ]
     },
     "metadata": {},
     "output_type": "display_data"
    },
    {
     "name": "stdout",
     "output_type": "stream",
     "text": [
      "Accuracy = 1.0\n",
      "Recall = 1.0\n",
      "Precision = 1.0\n",
      "F1-score = 1.0\n"
     ]
    }
   ],
   "source": [
    "#Predict\n",
    "# y_pose_prediction = model_pose.predict(X_test_pose_np)\n",
    "y_pose_prediction = model_pose.predict(x_dev_bad)\n",
    "y_pose_prediction = np.argmax(y_pose_prediction, axis = 1)\n",
    "# print(sum(y_pose_prediction)/len(y_pose_prediction))\n",
    "print(y_pose_prediction)\n",
    "# y_pose_pred = (y_pose_prediction > 0.5) # pose\n",
    "# y_pred = (y_prediction > 0.5)\n",
    "#Create confusion matrix and normalizes it over predicted (columns)\n",
    "# result = confusion_matrix(Y_test_np, y_pose_prediction, normalize='pred')\n",
    "result = confusion_matrix(y_dev_bad, y_pose_prediction, normalize='pred')\n",
    "# print(result)\n",
    "cm_display = ConfusionMatrixDisplay(confusion_matrix = result, display_labels = [\"Non-Depressed\", \"Depressed\"])\n",
    "cm_display.plot()\n",
    "plt.show()\n",
    "tn_pose = result[0][0]\n",
    "tp_pose = result[1][1]\n",
    "fn_pose = result[1][0]\n",
    "fp_pose = result[0][1]\n",
    "accuracy = (tp_pose + tn_pose)/(tp_pose + tn_pose + fp_pose + fn_pose)\n",
    "recall = tp_pose / (tp_pose + fn_pose)\n",
    "precision = tp_pose / (tp_pose + fp_pose)\n",
    "f1_score = 2 * precision * recall / (precision + recall)\n",
    "print(\"Accuracy = \" + str(accuracy))\n",
    "print(\"Recall = \" + str(recall))\n",
    "print(\"Precision = \" + str(precision))\n",
    "print(\"F1-score = \" + str(f1_score))"
   ]
  },
  {
   "cell_type": "code",
   "execution_count": null,
   "metadata": {},
   "outputs": [],
   "source": [
    "#Predict\n",
    "y_gaze_prediction = model_gaze.predict(X_test_gaze_np)\n",
    "y_gaze_prediction = np.argmax(y_gaze_prediction, axis = 1)\n",
    "# print(sum(y_gaze_prediction)/len(y_gaze_prediction))\n",
    "# print(y_pose_gaze_prediction)\n",
    "# y_gaze_pred = (y_gaze_prediction > 0.415) # pose + gaze\n",
    "# y_pred = (y_prediction > 0.5)\n",
    "#Create confusion matrix and normalizes it over predicted (columns)\n",
    "result = confusion_matrix(Y_test_np, y_gaze_prediction, normalize='pred')\n",
    "# print(result)\n",
    "cm_display = ConfusionMatrixDisplay(confusion_matrix = result, display_labels = [False, True])\n",
    "cm_display.plot()\n",
    "plt.show()\n",
    "tn_gaze = result[0][0]\n",
    "tp_gaze = result[1][1]\n",
    "fn_gaze = result[1][0]\n",
    "fp_gaze = result[0][1]\n",
    "accuracy = (tp_gaze + tn)/(tp_gaze + tn_gaze + fp_gaze + fn_gaze)\n",
    "recall = tp_gaze / (tp_gaze + fn_gaze)\n",
    "precision = tp_gaze / (tp_gaze + fp_gaze)\n",
    "f1_score = 2 * precision * recall / (precision + recall)\n",
    "print(\"Accuracy = \" + str(accuracy))\n",
    "print(\"Recall = \" + str(recall))\n",
    "print(\"Precision = \" + str(precision))\n",
    "print(\"F1-score = \" + str(f1_score))"
   ]
  },
  {
   "cell_type": "code",
   "execution_count": 25,
   "metadata": {},
   "outputs": [
    {
     "name": "stdout",
     "output_type": "stream",
     "text": [
      "2/2 [==============================] - 3s 468ms/step\n",
      "0.5\n"
     ]
    },
    {
     "data": {
      "image/png": "[encoded data removed]",
      "text/plain": [
       "<Figure size 640x480 with 2 Axes>"
      ]
     },
     "metadata": {},
     "output_type": "display_data"
    },
    {
     "name": "stdout",
     "output_type": "stream",
     "text": [
      "Accuracy = 1.0\n",
      "Recall = 1.0\n",
      "Precision = 1.0\n",
      "F1-score = 1.0\n"
     ]
    }
   ],
   "source": [
    "#Predict\n",
    "# y_pose_gaze_prediction = model_pose_gaze.predict([X_test_pose_np, X_test_gaze_np])\n",
    "y_pose_gaze_prediction = model_pose_gaze.predict([x_dev_bad, x_dev_bad2])\n",
    "y_pose_gaze_prediction = np.argmax(y_pose_gaze_prediction, axis = 1)\n",
    "print(sum(y_pose_gaze_prediction)/len(y_pose_gaze_prediction))\n",
    "# print(y_pose_gaze_prediction)\n",
    "# y_pose_gaze_pred = (y_pose_gaze_prediction > 0.385) # pose + gaze\n",
    "# y_pred = (y_prediction > 0.5)\n",
    "#Create confusion matrix and normalizes it over predicted (columns)\n",
    "# result = confusion_matrix(Y_test_np, y_pose_gaze_prediction, normalize='pred')\n",
    "result = confusion_matrix(y_dev_bad, y_pose_gaze_prediction, normalize='pred')\n",
    "# print(result)\n",
    "cm_display = ConfusionMatrixDisplay(confusion_matrix = result, display_labels = [False, True])\n",
    "cm_display.plot()\n",
    "plt.show()\n",
    "tn_pose_gaze = result[0][0]\n",
    "tp_pose_gaze = result[1][1]\n",
    "fn_pose_gaze = result[1][0]\n",
    "fp_pose_gaze = result[0][1]\n",
    "accuracy = (tp_pose_gaze + tn_pose_gaze)/(tp_pose_gaze + tn_pose_gaze + fp_pose_gaze + fn_pose_gaze)\n",
    "recall = tp_pose_gaze / (tp_pose_gaze + fn_pose_gaze)\n",
    "precision = tp_pose_gaze / (tp_pose_gaze + fp_pose_gaze)\n",
    "f1_score = 2 * precision * recall / (precision + recall)\n",
    "print(\"Accuracy = \" + str(accuracy))\n",
    "print(\"Recall = \" + str(recall))\n",
    "print(\"Precision = \" + str(precision))\n",
    "print(\"F1-score = \" + str(f1_score))"
   ]
  },
  {
   "cell_type": "code",
   "execution_count": null,
   "metadata": {},
   "outputs": [],
   "source": [
    "# y_pred = (y_prediction > 0.3775) # pose\n",
    "# y_pred = (y_prediction > 0.67441285) # AU\n",
    "# y_pred = (y_prediction > 0.29832837) # gaze"
   ]
  },
  {
   "cell_type": "code",
   "execution_count": null,
   "metadata": {},
   "outputs": [],
   "source": [
    "print(model_pose.evaluate(x=X_test_pose_np, y=Y_test_np))\n",
    "print(model_gaze.evaluate(x=X_test_gaze_np, y=Y_test_np))\n",
    "print(model_pose_gaze.evaluate(x=[X_test_pose_np, X_test_gaze_np], y=Y_test_np))"
   ]
  },
  {
   "cell_type": "code",
   "execution_count": null,
   "metadata": {},
   "outputs": [],
   "source": [
    "model_pose.summary()"
   ]
  },
  {
   "cell_type": "code",
   "execution_count": 56,
   "metadata": {},
   "outputs": [
    {
     "name": "stderr",
     "output_type": "stream",
     "text": [
      "WARNING:absl:Found untraced functions such as _jit_compiled_convolution_op, _jit_compiled_convolution_op, _jit_compiled_convolution_op, _jit_compiled_convolution_op, _jit_compiled_convolution_op while saving (showing 5 of 35). These functions will not be directly callable after loading.\n"
     ]
    },
    {
     "name": "stdout",
     "output_type": "stream",
     "text": [
      "INFO:tensorflow:Assets written to: saved_models/discriminates_on_pose_dev\\assets\n"
     ]
    },
    {
     "name": "stderr",
     "output_type": "stream",
     "text": [
      "INFO:tensorflow:Assets written to: saved_models/discriminates_on_pose_dev\\assets\n"
     ]
    }
   ],
   "source": [
    "model_pose.save(\"saved_models/discriminates_on_pose_dev\")"
   ]
  }
 ],
 "metadata": {
  "kernelspec": {
   "display_name": "attempt2",
   "language": "python",
   "name": "python3"
  },
  "language_info": {
   "codemirror_mode": {
    "name": "ipython",
    "version": 3
   },
   "file_extension": ".py",
   "mimetype": "text/x-python",
   "name": "python",
   "nbconvert_exporter": "python",
   "pygments_lexer": "ipython3",
   "version": "3.10.11"
  },
  "orig_nbformat": 4
 },
 "nbformat": 4,
 "nbformat_minor": 2
}
