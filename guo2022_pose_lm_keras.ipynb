{
    "cells": [
        {
            "cell_type": "code",
            "execution_count": 10,
            "metadata": {},
            "outputs": [],
            "source": [
                "from pathlib import Path\n",
                "import pandas as pd\n",
                "from imblearn.over_sampling import RandomOverSampler\n",
                "from keras.models import load_model\n",
                "from keras.callbacks import ModelCheckpoint\n",
                "from keras.layers import BatchNormalization, Dense, Input, Conv1D, Add, ELU, Flatten, MaxPooling1D\n",
                "from keras.layers import GlobalAveragePooling1D, Softmax, Concatenate, Reshape, Multiply, ReLU\n",
                "from keras.optimizers import SGD\n",
                "from keras import activations\n",
                "from keras import Model\n",
                "from keras.initializers import HeNormal\n",
                "from sklearn.metrics import confusion_matrix, ConfusionMatrixDisplay\n",
                "from load_dataset import load_original_daic, load_labels\n",
                "import matplotlib.pyplot as plt\n",
                "import numpy as np\n",
                "from keras.utils.vis_utils import plot_model\n",
                "import keras_dilated_nn"
            ]
        },
        {
            "cell_type": "code",
            "execution_count": 11,
            "metadata": {},
            "outputs": [],
            "source": [
                "daic_pose_train = load_original_daic(\"original_daic/train\", \"pose\")\n",
                "daic_pose_dev = load_original_daic(\"original_daic/dev\", \"pose\")\n",
                "daic_pose_test = load_original_daic(\"original_daic/test\", \"pose\")\n",
                "\n",
                "daic_lm_train = load_original_daic(\"original_daic/train\", \"features\")\n",
                "daic_lm_dev = load_original_daic(\"original_daic/dev\", \"features\")\n",
                "daic_lm_test = load_original_daic(\"original_daic/test\", \"features\")"
            ]
        },
        {
            "cell_type": "code",
            "execution_count": 12,
            "metadata": {},
            "outputs": [],
            "source": [
                "label_path = Path(\"original_daic/labels\")\n",
                "loaded_labels = load_labels(label_path)\n",
                "y_train = np.array(loaded_labels[\"train\"])\n",
                "y_dev = np.array(loaded_labels[\"dev\"])\n",
                "y_test = np.array(loaded_labels[\"test\"])"
            ]
        },
        {
            "cell_type": "code",
            "execution_count": 13,
            "metadata": {},
            "outputs": [],
            "source": [
                "pose_train = []\n",
                "pose_dev = []\n",
                "pose_test = []\n",
                "for subject_id, subject_df in daic_pose_train.items():\n",
                "    temp = subject_df.copy().loc[1000:5999].to_numpy(dtype=\"float32\")\n",
                "    pose_train.append(temp)\n",
                "for subject_id, subject_df in daic_pose_dev.items():\n",
                "    # print(subject_id)\n",
                "    temp = subject_df.copy().loc[1000:5999].to_numpy(dtype=\"float32\")\n",
                "    pose_dev.append(temp)\n",
                "for subject_id, subject_df in daic_pose_test.items():\n",
                "    # print(subject_id)\n",
                "    temp = subject_df.copy().loc[1000:5999].to_numpy(dtype=\"float32\")\n",
                "    pose_test.append(temp)"
            ]
        },
        {
            "cell_type": "code",
            "execution_count": 14,
            "metadata": {},
            "outputs": [],
            "source": [
                "lm_train = []\n",
                "lm_dev = []\n",
                "lm_test = []\n",
                "for subject_id, subject_df in daic_lm_train.items():\n",
                "    temp = subject_df.copy().loc[1000:5999].to_numpy(dtype=\"float32\")\n",
                "    lm_train.append(temp)\n",
                "for subject_id, subject_df in daic_lm_dev.items():\n",
                "    # print(subject_id)\n",
                "    temp = subject_df.copy().loc[1000:5999].to_numpy(dtype=\"float32\")\n",
                "    lm_dev.append(temp)\n",
                "for subject_id, subject_df in daic_lm_test.items():\n",
                "    # print(subject_id)\n",
                "    temp = subject_df.copy().loc[1000:5999].to_numpy(dtype=\"float32\")\n",
                "    lm_test.append(temp)"
            ]
        },
        {
            "cell_type": "code",
            "execution_count": 15,
            "metadata": {},
            "outputs": [],
            "source": [
                "all_pose_samples = pose_train + pose_dev + pose_test\n",
                "# all_samples = np.array(pose_train + pose_dev + pose_test, dtype=object)\n",
                "all_pose_samples = np.concatenate((all_pose_samples),)\n",
                "# all_samples.shape\n",
                "pose_min_values = all_pose_samples.min(axis=0)\n",
                "pose_ptp_ranges = all_pose_samples.ptp(axis=0)\n",
                "\n",
                "all_lm_samples = lm_train + lm_dev + lm_test\n",
                "# all_samples = np.array(pose_train + pose_dev + pose_test, dtype=object)\n",
                "all_lm_samples = np.concatenate((all_lm_samples),)\n",
                "# all_samples.shape\n",
                "lm_min_values = all_lm_samples.min(axis=0)\n",
                "lm_ptp_ranges = all_lm_samples.ptp(axis=0)"
            ]
        },
        {
            "cell_type": "code",
            "execution_count": 16,
            "metadata": {},
            "outputs": [],
            "source": [
                "pose_train = np.array(pose_train)\n",
                "pose_dev = np.array(pose_dev)\n",
                "pose_test = np.array(pose_test)\n",
                "\n",
                "lm_train = np.array(lm_train)\n",
                "lm_dev = np.array(lm_dev)\n",
                "lm_test = np.array(lm_test)"
            ]
        },
        {
            "cell_type": "code",
            "execution_count": 17,
            "metadata": {},
            "outputs": [],
            "source": [
                "norm_pose_train = (pose_train - pose_min_values)/pose_ptp_ranges\n",
                "norm_pose_dev = (pose_dev - pose_min_values)/pose_ptp_ranges\n",
                "norm_pose_test = (pose_test - pose_min_values)/pose_ptp_ranges\n",
                "\n",
                "norm_lm_train = (lm_train - lm_min_values)/lm_ptp_ranges\n",
                "norm_lm_dev = (lm_dev - lm_min_values)/lm_ptp_ranges\n",
                "norm_lm_test = (lm_test - lm_min_values)/lm_ptp_ranges"
            ]
        },
        {
            "cell_type": "code",
            "execution_count": 18,
            "metadata": {},
            "outputs": [
                {
                    "name": "stdout",
                    "output_type": "stream",
                    "text": [
                        "154\n"
                    ]
                }
            ],
            "source": [
                "# depressed_only = norm_pose_train[train_depressed_idx]\n",
                "indices = range(norm_pose_train.shape[0])\n",
                "oversample = RandomOverSampler(sampling_strategy='minority')\n",
                "# oversample = RandomOverSampler(sampling_strategy=0.75)\n",
                "# print(norm_pose_train[:].shape)\n",
                "indices = np.array(indices).reshape(-1,1)\n",
                "ros_indices, over_train_y = oversample.fit_resample(indices, y_train)\n",
                "print(len(ros_indices))\n",
                "ros_norm_pose_train = np.squeeze(norm_pose_train[ros_indices])\n",
                "ros_norm_lm_train = np.squeeze(norm_lm_train[ros_indices])\n",
                "# print(ros_norm_pose_train.shape)"
            ]
        },
        {
            "cell_type": "code",
            "execution_count": 28,
            "metadata": {},
            "outputs": [],
            "source": [
                "del daic_lm_dev, daic_lm_test, daic_lm_train, daic_pose_dev, daic_pose_test, daic_pose_train\n",
                "del pose_train, pose_dev, pose_test, lm_train, lm_dev, lm_test\n",
                "del all_pose_samples, all_lm_samples"
            ]
        },
        {
            "cell_type": "code",
            "execution_count": 19,
            "metadata": {},
            "outputs": [],
            "source": [
                "input_pose = Input(shape=[5000, 6])\n",
                "tdcn_dim_pose = [128,64,256,128,64] # used in Guo's paper\n",
                "# tdcn_dim_pose = [128,128,128,128,128]\n",
                "input_lm = Input(shape=[5000, 136])\n",
                "tdcn_dim_lm = [256,256,128,64,64] # used in Guo's paper\n",
                "# tdcn_dim_lm = [256,256,256,256,256]\n",
                "bias_initializer = HeNormal(seed=0)"
            ]
        },
        {
            "cell_type": "code",
            "execution_count": 20,
            "metadata": {},
            "outputs": [],
            "source": [
                "# x_train_bad = np.concatenate((np.zeros((200, 5000, 6)), np.ones((200, 5000, 6))))\n",
                "# y_train_bad = np.concatenate((np.zeros(200), np.ones(200)))\n",
                "# x_dev_bad = np.concatenate((np.zeros((20, 5000, 6)), np.ones((20, 5000, 6))))\n",
                "# y_dev_bad = np.concatenate((np.zeros(20), np.ones(20)))\n",
                "# print(x_train_bad.shape)\n",
                "# print(y_train_bad.shape)"
            ]
        },
        {
            "cell_type": "code",
            "execution_count": 30,
            "metadata": {},
            "outputs": [
                {
                    "name": "stdout",
                    "output_type": "stream",
                    "text": [
                        "(None, 312, 128)\n",
                        "(None, 39936)\n"
                    ]
                }
            ],
            "source": [
                "# TDCN block for pose\n",
                "tdcn_pose = keras_dilated_nn.time_diluted_conv_net(\n",
                "    feature_dim = tdcn_dim_pose, \n",
                "    input_layer = input_pose, \n",
                "    pool_size = 2, \n",
                "    pool_stride = 2,\n",
                "    )\n",
                "\n",
                "# TDCN block for landmarks\n",
                "tdcn_lm = keras_dilated_nn.time_diluted_conv_net(\n",
                "    feature_dim = tdcn_dim_lm, \n",
                "    input_layer = input_lm, \n",
                "    pool_size = 2, \n",
                "    pool_stride = 2,\n",
                "    )\n",
                "\n",
                "# FWA block\n",
                "concat_layer = Concatenate()([tdcn_pose, tdcn_lm])\n",
                "# print(concat_layer.shape)\n",
                "gap_layer = GlobalAveragePooling1D(data_format=\"channels_last\")(concat_layer)\n",
                "# print(gap_layer.shape)\n",
                "\n",
                "linear_layer_1 = Dense(gap_layer.shape[1])(gap_layer)\n",
                "relu_layer = activations.relu(linear_layer_1)\n",
                "linear_layer_2 = Dense(gap_layer.shape[1])(relu_layer)\n",
                "sigmoid_layer = activations.sigmoid(linear_layer_2)\n",
                "elementwise_product = Multiply()([concat_layer, sigmoid_layer])\n",
                "print(elementwise_product.shape)\n",
                "# FC layer\n",
                "flatten = Flatten()(elementwise_product)\n",
                "print(flatten.shape)\n",
                "# FC_l1 = Dense(300, activation=\"relu\")(flatten)\n",
                "# FC_l2 = Dense(300, activation=\"relu\")(FC_l1)\n",
                "# FC_l3 = Dense(100, activation=\"relu\")(FC_l2)\n",
                "FC_l1 = Dense(32, activation=\"relu\")(flatten)\n",
                "FC_l2 = Dense(16, activation=\"relu\")(FC_l1)\n",
                "FC_l3 = Dense(8, activation=\"relu\")(FC_l2)\n",
                "last_layer = Dense(2, activation=\"relu\")(FC_l3)\n",
                "output = Softmax()(last_layer)\n",
                "# output = Dense(1, activation = \"sigmoid\")(FC_l3)"
            ]
        },
        {
            "cell_type": "code",
            "execution_count": 23,
            "metadata": {},
            "outputs": [],
            "source": [
                "batch_size = 8\n",
                "checkpoint_path = \"training_ckpts/pose_training_C2-{epoch:04d}.ckpt\"\n",
                "checkpoint_dir = Path(checkpoint_path)\n",
                "\n",
                "cp_callback = ModelCheckpoint(filepath=checkpoint_dir, save_weights_only=True, save_freq=5*batch_size, verbose=1)"
            ]
        },
        {
            "cell_type": "code",
            "execution_count": 31,
            "metadata": {},
            "outputs": [],
            "source": [
                "model_pose_lm = Model(inputs=[input_pose, input_lm], outputs=[output])"
            ]
        },
        {
            "cell_type": "code",
            "execution_count": 25,
            "metadata": {},
            "outputs": [],
            "source": [
                "# model_pose_lm = load_model()"
            ]
        },
        {
            "cell_type": "code",
            "execution_count": 32,
            "metadata": {},
            "outputs": [],
            "source": [
                "opt = SGD(learning_rate = 2e-5, momentum = 0.9)\n",
                "model_pose_lm.compile(loss = \"binary_crossentropy\", optimizer=opt, metrics=['accuracy'])\n",
                "# model_pose_lm.compile(loss=\"sparse_categorical_crossentropy\", optimizer=opt, metrics=['accuracy'])"
            ]
        },
        {
            "cell_type": "code",
            "execution_count": 33,
            "metadata": {},
            "outputs": [
                {
                    "name": "stdout",
                    "output_type": "stream",
                    "text": [
                        "Epoch 1/6\n",
                        "20/20 [==============================] - 83s 4s/step - loss: 0.7514 - accuracy: 0.4740 - val_loss: 0.6974 - val_accuracy: 0.6571\n",
                        "Epoch 2/6\n",
                        "20/20 [==============================] - 82s 4s/step - loss: 0.6963 - accuracy: 0.5000 - val_loss: 0.6951 - val_accuracy: 0.6571\n",
                        "Epoch 3/6\n",
                        "20/20 [==============================] - 80s 4s/step - loss: 0.6948 - accuracy: 0.5065 - val_loss: 0.6945 - val_accuracy: 0.6286\n",
                        "Epoch 4/6\n",
                        "20/20 [==============================] - 84s 4s/step - loss: 0.6947 - accuracy: 0.5195 - val_loss: 0.6944 - val_accuracy: 0.6571\n",
                        "Epoch 5/6\n",
                        "20/20 [==============================] - 81s 4s/step - loss: 0.6942 - accuracy: 0.5000 - val_loss: 0.6941 - val_accuracy: 0.6571\n",
                        "Epoch 6/6\n",
                        "20/20 [==============================] - 81s 4s/step - loss: 0.6939 - accuracy: 0.5000 - val_loss: 0.6937 - val_accuracy: 0.6571\n"
                    ]
                },
                {
                    "data": {
                        "text/plain": [
                            "<keras.callbacks.History at 0x20338b94490>"
                        ]
                    },
                    "execution_count": 33,
                    "metadata": {},
                    "output_type": "execute_result"
                }
            ],
            "source": [
                "# model_pose.fit(x_train_bad[:], y_train_bad[:], validation_data=(x_dev_bad[:], y_dev_bad[:]), epochs=2)\n",
                "# model_pose_lm.fit([norm_pose_train[:], norm_lm_train[:]], y_train[:], validation_data=([norm_pose_dev[:], norm_lm_dev[:]], y_dev[:]), epochs=6, batch_size=8)\n",
                "model_pose_lm.fit([ros_norm_pose_train[:], ros_norm_lm_train[:]], over_train_y[:], validation_data=([norm_pose_dev[:], norm_lm_dev[:]], y_dev[:]), epochs=6, batch_size=8)"
            ]
        },
        {
            "cell_type": "code",
            "execution_count": null,
            "metadata": {},
            "outputs": [
                {
                    "name": "stdout",
                    "output_type": "stream",
                    "text": [
                        "0.2803738317757009\n",
                        "0.34285714285714286\n",
                        "0.2978723404255319\n"
                    ]
                }
            ],
            "source": [
                "# model_pose.evaluate(x=pose_test, y=y_test)\n",
                "print(sum(y_train)/len(y_train))\n",
                "print(sum(y_dev)/len(y_dev))\n",
                "print(sum(y_test)/len(y_test))"
            ]
        },
        {
            "cell_type": "code",
            "execution_count": 36,
            "metadata": {},
            "outputs": [
                {
                    "name": "stdout",
                    "output_type": "stream",
                    "text": [
                        "4/4 [==============================] - 13s 3s/step\n",
                        "[0 0 0 0 0 0 0 0 0 0 0 0 0 0 0 0 0 0 0 0 0 0 0 0 0 0 0 0 0 0 0 0 0 0 0 0 0\n",
                        " 0 0 0 0 0 0 0 0 0 0 0 0 0 0 0 0 0 0 0 0 0 0 0 0 0 0 0 0 0 0 0 0 0 0 0 0 0\n",
                        " 0 0 0 0 0 0 0 0 0 0 0 0 0 0 0 0 0 0 0 0 0 0 0 0 0 0 0 0 0 0 0 0 0]\n",
                        "[[0.71962617 0.        ]\n",
                        " [0.28037383 0.        ]]\n"
                    ]
                },
                {
                    "data": {
                        "image/png": "[encoded data removed]",
                        "text/plain": [
                            "<Figure size 640x480 with 2 Axes>"
                        ]
                    },
                    "metadata": {},
                    "output_type": "display_data"
                },
                {
                    "name": "stdout",
                    "output_type": "stream",
                    "text": [
                        "Accuracy = 0.719626168224299\n",
                        "Recall = 0.0\n",
                        "Precision = nan\n",
                        "F1-score = nan\n"
                    ]
                },
                {
                    "name": "stderr",
                    "output_type": "stream",
                    "text": [
                        "C:\\Users\\u1737136\\AppData\\Local\\Temp\\ipykernel_14796\\2753824314.py:23: RuntimeWarning: invalid value encountered in double_scalars\n",
                        "  precision = tp_pose / (tp_pose + fp_pose)\n"
                    ]
                }
            ],
            "source": [
                "#Predict\n",
                "# x = [norm_pose_dev, norm_lm_dev]\n",
                "x = [norm_pose_train, norm_lm_train]\n",
                "y = y_train\n",
                "# x = x_dev_bad\n",
                "# y = y_dev_bad\n",
                "y_pose_lm_prediction = model_pose_lm.predict(x)\n",
                "y_pose_lm_prediction = np.argmax(y_pose_lm_prediction, axis = 1)\n",
                "# print(sum(y_pose_prediction)/len(y_pose_prediction))\n",
                "print(y_pose_lm_prediction)\n",
                "#Create confusion matrix and normalizes it over predicted (columns)\n",
                "result = confusion_matrix(y, y_pose_lm_prediction, normalize='pred')\n",
                "print(result)\n",
                "cm_display = ConfusionMatrixDisplay(confusion_matrix = result, display_labels = [\"Non-Depressed\", \"Depressed\"])\n",
                "cm_display.plot()\n",
                "plt.show()\n",
                "tn_pose = result[0][0]\n",
                "tp_pose = result[1][1]\n",
                "fn_pose = result[1][0]\n",
                "fp_pose = result[0][1]\n",
                "accuracy = (tp_pose + tn_pose)/(tp_pose + tn_pose + fp_pose + fn_pose)\n",
                "recall = tp_pose / (tp_pose + fn_pose)\n",
                "precision = tp_pose / (tp_pose + fp_pose)\n",
                "f1_score = 2 * precision * recall / (precision + recall)\n",
                "print(\"Accuracy = \" + str(accuracy))\n",
                "print(\"Recall = \" + str(recall))\n",
                "print(\"Precision = \" + str(precision))\n",
                "print(\"F1-score = \" + str(f1_score))"
            ]
        },
        {
            "cell_type": "code",
            "execution_count": null,
            "metadata": {},
            "outputs": [
                {
                    "ename": "NameError",
                    "evalue": "name 'model_pose' is not defined",
                    "output_type": "error",
                    "traceback": [
                        "\u001b[1;31m---------------------------------------------------------------------------\u001b[0m",
                        "\u001b[1;31mNameError\u001b[0m                                 Traceback (most recent call last)",
                        "Cell \u001b[1;32mIn[17], line 1\u001b[0m\n\u001b[1;32m----> 1\u001b[0m plot_model(model_pose, to_file\u001b[39m=\u001b[39m\u001b[39m'\u001b[39m\u001b[39mmodel_plot.png\u001b[39m\u001b[39m'\u001b[39m, show_shapes\u001b[39m=\u001b[39m\u001b[39mTrue\u001b[39;00m, show_layer_names\u001b[39m=\u001b[39m\u001b[39mTrue\u001b[39;00m)\n",
                        "\u001b[1;31mNameError\u001b[0m: name 'model_pose' is not defined"
                    ]
                }
            ],
            "source": [
                "# plot_model(model_pose_lm, to_file='model_plot.png', show_shapes=True, show_layer_names=True)"
            ]
        },
        {
            "cell_type": "code",
            "execution_count": null,
            "metadata": {},
            "outputs": [
                {
                    "name": "stderr",
                    "output_type": "stream",
                    "text": [
                        "WARNING:absl:Found untraced functions such as _jit_compiled_convolution_op, _jit_compiled_convolution_op, _jit_compiled_convolution_op, _jit_compiled_convolution_op, _jit_compiled_convolution_op while saving (showing 5 of 35). These functions will not be directly callable after loading.\n"
                    ]
                },
                {
                    "name": "stdout",
                    "output_type": "stream",
                    "text": [
                        "INFO:tensorflow:Assets written to: saved_models/good_pose_21_6\\assets\n"
                    ]
                },
                {
                    "name": "stderr",
                    "output_type": "stream",
                    "text": [
                        "INFO:tensorflow:Assets written to: saved_models/good_pose_21_6\\assets\n"
                    ]
                }
            ],
            "source": [
                "# model_pose.save(\"saved_models/good_pose_21_6\")"
            ]
        }
    ],
    "metadata": {
        "kernelspec": {
            "display_name": "attempt2",
            "language": "python",
            "name": "python3"
        },
        "language_info": {
            "codemirror_mode": {
                "name": "ipython",
                "version": 3
            },
            "file_extension": ".py",
            "mimetype": "text/x-python",
            "name": "python",
            "nbconvert_exporter": "python",
            "pygments_lexer": "ipython3",
            "version": "3.10.11"
        },
        "orig_nbformat": 4
    },
    "nbformat": 4,
    "nbformat_minor": 2
}
