{
 "cells": [
  {
   "cell_type": "code",
   "execution_count": 13,
   "metadata": {},
   "outputs": [],
   "source": [
    "from pathlib import Path\n",
    "import pandas as pd\n",
    "from keras.layers import BatchNormalization, Dense, Input, Conv1D, Add, ELU, Flatten, MaxPooling1D\n",
    "from keras.layers import GlobalAveragePooling1D, Softmax, Concatenate, Reshape, Multiply, ReLU\n",
    "from keras.optimizers import SGD\n",
    "from keras import activations\n",
    "from keras import Model\n",
    "from keras.initializers import HeNormal\n",
    "from sklearn.metrics import confusion_matrix, ConfusionMatrixDisplay\n",
    "from load_dataset import load_original_daic, load_labels\n",
    "import matplotlib.pyplot as plt\n",
    "import numpy as np\n",
    "from keras.utils.vis_utils import plot_model"
   ]
  },
  {
   "cell_type": "code",
   "execution_count": 14,
   "metadata": {},
   "outputs": [
    {
     "name": "stderr",
     "output_type": "stream",
     "text": [
      "c:\\Users\\u1737136\\Documents\\ADD_attempts\\DAIC_AUbased\\load_dataset.py:22: DtypeWarning: Columns (4,5,6,7,8,9,10,11,12,13,14,15,16,17,18,19,20,21,22,23,24,25,26,27,28,29,30,31,32,33,34,35,36,37,38,39,40,41,42,43,44,45,46,47,48,49,50,51,52,53,54,55,56,57,58,59,60,61,62,63,64,65,66,67,68,69,70,71,72,73,74,75,76,77,78,79,80,81,82,83,84,85,86,87,88,89,90,91,92,93,94,95,96,97,98,99,100,101,102,103,104,105,106,107,108,109,110,111,112,113,114,115,116,117,118,119,120,121,122,123,124,125,126,127,128,129,130,131,132,133,134,135,136,137,138,139) have mixed types. Specify dtype option on import or set low_memory=False.\n",
      "  participant_df = pd.read_csv(full_path, sep=\",\")\n",
      "c:\\Users\\u1737136\\Documents\\ADD_attempts\\DAIC_AUbased\\load_dataset.py:22: DtypeWarning: Columns (4,5,6,7,8,9,10,11,12,13,14,15,16,17,18,19,20,21,22,23,24,25,26,27,28,29,30,31,32,33,34,35,36,37,38,39,40,41,42,43,44,45,46,47,48,49,50,51,52,53,54,55,56,57,58,59,60,61,62,63,64,65,66,67,68,69,70,71,72,73,74,75,76,77,78,79,80,81,82,83,84,85,86,87,88,89,90,91,92,93,94,95,96,97,98,99,100,101,102,103,104,105,106,107,108,109,110,111,112,113,114,115,116,117,118,119,120,121,122,123,124,125,126,127,128,129,130,131,132,133,134,135,136,137,138,139) have mixed types. Specify dtype option on import or set low_memory=False.\n",
      "  participant_df = pd.read_csv(full_path, sep=\",\")\n",
      "c:\\Users\\u1737136\\Documents\\ADD_attempts\\DAIC_AUbased\\load_dataset.py:22: DtypeWarning: Columns (4,5,6,7,8,9,10,11,12,13,14,15,16,17,18,19,20,21,22,23,24,25,26,27,28,29,30,31,32,33,34,35,36,37,38,39,40,41,42,43,44,45,46,47,48,49,50,51,52,53,54,55,56,57,58,59,60,61,62,63,64,65,66,67,68,69,70,71,72,73,74,75,76,77,78,79,80,81,82,83,84,85,86,87,88,89,90,91,92,93,94,95,96,97,98,99,100,101,102,103,104,105,106,107,108,109,110,111,112,113,114,115,116,117,118,119,120,121,122,123,124,125,126,127,128,129,130,131,132,133,134,135,136,137,138,139) have mixed types. Specify dtype option on import or set low_memory=False.\n",
      "  participant_df = pd.read_csv(full_path, sep=\",\")\n"
     ]
    }
   ],
   "source": [
    "daic_lm_train = load_original_daic(\"original_daic/train\", \"features\")\n",
    "daic_lm_dev = load_original_daic(\"original_daic/dev\", \"features\")\n",
    "daic_lm_test = load_original_daic(\"original_daic/test\", \"features\")"
   ]
  },
  {
   "cell_type": "code",
   "execution_count": 15,
   "metadata": {},
   "outputs": [],
   "source": [
    "label_path = Path(\"original_daic/labels\")\n",
    "loaded_labels = load_labels(label_path)\n",
    "y_train = np.array(loaded_labels[\"train\"])\n",
    "y_dev = np.array(loaded_labels[\"dev\"])\n",
    "y_test = np.array(loaded_labels[\"test\"])"
   ]
  },
  {
   "cell_type": "code",
   "execution_count": 16,
   "metadata": {},
   "outputs": [],
   "source": [
    "lm_train = []\n",
    "lm_dev = []\n",
    "lm_test = []\n",
    "for subject_id, subject_df in daic_lm_train.items():\n",
    "    temp = subject_df.copy().loc[1000:5999].to_numpy(dtype=\"float32\")\n",
    "    lm_train.append(temp)\n",
    "for subject_id, subject_df in daic_lm_dev.items():\n",
    "    # print(subject_id)\n",
    "    temp = subject_df.copy().loc[1000:5999].to_numpy(dtype=\"float32\")\n",
    "    lm_dev.append(temp)\n",
    "for subject_id, subject_df in daic_lm_test.items():\n",
    "    # print(subject_id)\n",
    "    temp = subject_df.copy().loc[1000:5999].to_numpy(dtype=\"float32\")\n",
    "    lm_test.append(temp)"
   ]
  },
  {
   "cell_type": "code",
   "execution_count": 17,
   "metadata": {},
   "outputs": [],
   "source": [
    "all_samples = lm_train + lm_dev + lm_test\n",
    "# all_samples = np.array(pose_train + pose_dev + pose_test, dtype=object)\n",
    "all_samples = np.concatenate((all_samples),)\n",
    "# all_samples.shape\n",
    "min_values = all_samples.min(axis=0)\n",
    "ptp_ranges = all_samples.ptp(axis=0)"
   ]
  },
  {
   "cell_type": "code",
   "execution_count": 18,
   "metadata": {},
   "outputs": [],
   "source": [
    "lm_train = np.array(lm_train)\n",
    "lm_dev = np.array(lm_dev)\n",
    "lm_test = np.array(lm_test)"
   ]
  },
  {
   "cell_type": "code",
   "execution_count": 19,
   "metadata": {},
   "outputs": [],
   "source": [
    "norm_lm_train = (lm_train - min_values)/ptp_ranges\n",
    "norm_lm_dev = (lm_dev - min_values)/ptp_ranges\n",
    "norm_lm_test = (lm_test - min_values)/ptp_ranges"
   ]
  },
  {
   "cell_type": "code",
   "execution_count": 25,
   "metadata": {},
   "outputs": [],
   "source": [
    "input_lm = Input(shape=[5000, 136])\n",
    "tdcn_dim_lm = [256,256,128,64,64] # used in Guo's paper\n",
    "# tdcn_dim_lm = [256,256,256,256,256]\n",
    "bias_initializer = HeNormal(seed=0)"
   ]
  },
  {
   "cell_type": "code",
   "execution_count": 26,
   "metadata": {},
   "outputs": [],
   "source": [
    "# One DCB\n",
    "# first layer of the DCB\n",
    "def diluted_conv_block(inputs, feature_dim):\n",
    "    # with K.name_scope(block_name)\n",
    "    l1_p1 = Conv1D(filters=feature_dim, kernel_size=3, padding=\"same\", dilation_rate=1, use_bias=True, bias_initializer=bias_initializer)(inputs)\n",
    "    l1_p2 = Conv1D(filters=feature_dim, kernel_size=3, padding=\"same\", dilation_rate=1, use_bias=True, bias_initializer=bias_initializer)(inputs)\n",
    "    l1_add = Add()([l1_p1, l1_p2])\n",
    "    l1_ELU = ELU()(l1_add)\n",
    "    # second layer of the DCB\n",
    "    l2_p1 = Conv1D(filters=feature_dim, kernel_size=5, padding=\"same\", dilation_rate=2, use_bias=True, bias_initializer=bias_initializer)(l1_ELU)\n",
    "    l2_p2 = Conv1D(filters=feature_dim, kernel_size=5, padding=\"same\", dilation_rate=2, use_bias=True, bias_initializer=bias_initializer)(l1_ELU)\n",
    "    l2_add = Add()([l2_p1, l2_p2])\n",
    "    l2_ELU = ELU()(l2_add)\n",
    "    # third layer of the DCB\n",
    "    l3_p1 = Conv1D(filters=feature_dim, kernel_size=9, padding=\"same\", dilation_rate=4, use_bias=True, bias_initializer=bias_initializer)(l2_ELU)\n",
    "    l3_p2 = Conv1D(filters=feature_dim, kernel_size=9, padding=\"same\", dilation_rate=4, use_bias=True, bias_initializer=bias_initializer)(l2_ELU)\n",
    "    l3_add = Add()([l3_p1, l3_p2])\n",
    "    l3_ELU = ELU()(l3_add)\n",
    "\n",
    "    residual = Conv1D(filters=feature_dim, kernel_size=1, padding=\"same\")(inputs)\n",
    "    res_add = Add()([l3_ELU, residual])\n",
    "    # res_add = Add()([l1_ELU, residual])\n",
    "    # res_add = ELU()(res_add)\n",
    "    bn = BatchNormalization()(res_add)\n",
    "    return bn\n",
    "    # return residual"
   ]
  },
  {
   "cell_type": "code",
   "execution_count": 27,
   "metadata": {},
   "outputs": [
    {
     "name": "stdout",
     "output_type": "stream",
     "text": [
      "(None, 312, 64)\n",
      "(None, 19968)\n"
     ]
    }
   ],
   "source": [
    "def time_diluted_conv_net(feature_dim, input_layer, pool_size, pool_stride):\n",
    "    dcb_1 = diluted_conv_block(input_layer, feature_dim[0])\n",
    "    mp_1 = MaxPooling1D(pool_size=pool_size, strides=pool_stride, padding='valid')(dcb_1)\n",
    "    dcb_2 = diluted_conv_block(mp_1, feature_dim[1])\n",
    "    mp_2 = MaxPooling1D(pool_size=pool_size, strides=pool_stride, padding='valid')(dcb_2)\n",
    "    dcb_3 = diluted_conv_block(mp_2, feature_dim[2])\n",
    "    mp_3 = MaxPooling1D(pool_size=pool_size, strides=pool_stride, padding='valid')(dcb_3)\n",
    "    dcb_4 = diluted_conv_block(mp_3, feature_dim[3])\n",
    "    mp_4 = MaxPooling1D(pool_size=pool_size, strides=pool_stride, padding='valid')(dcb_4)\n",
    "    dcb_5 = diluted_conv_block(mp_4, feature_dim[4])\n",
    "    return dcb_5\n",
    "    # return dcb_2\n",
    "\n",
    "# TDCN block for pose\n",
    "tdcn_lm = time_diluted_conv_net(\n",
    "    feature_dim = tdcn_dim_lm, \n",
    "    input_layer = input_lm, \n",
    "    pool_size = 2, \n",
    "    pool_stride = 2,\n",
    "    )\n",
    "\n",
    "# FWA block\n",
    "concat_layer = Concatenate()([tdcn_lm])\n",
    "# print(concat_layer.shape)\n",
    "# gap_layer = GlobalAveragePooling1D(data_format=\"channels_last\")(concat_layer)\n",
    "gap_layer = GlobalAveragePooling1D(data_format=\"channels_last\")(tdcn_lm)\n",
    "# print(gap_layer.shape)\n",
    "\n",
    "linear_layer_1 = Dense(gap_layer.shape[1])(gap_layer)\n",
    "# relu_layer = Dense(128, activation = \"relu\")(linear_layer_1)\n",
    "relu_layer = activations.relu(linear_layer_1)\n",
    "# relu_layer = ReLU()(linear_layer_1)\n",
    "linear_layer_2 = Dense(gap_layer.shape[1])(relu_layer)\n",
    "# sigmoid_layer = Dense(128, activation = \"sigmoid\")(linear_layer_2)\n",
    "sigmoid_layer = activations.sigmoid(linear_layer_2)\n",
    "# reshape_layer = Reshape((312, 128),)(sigmoid_layer)\n",
    "# print(reshape_layer.output_shape)\n",
    "# elementwise_product = Multiply()([concat_layer, reshape_layer])\n",
    "# elementwise_product = Multiply()([concat_layer, sigmoid_layer])\n",
    "elementwise_product = Multiply()([tdcn_lm, sigmoid_layer])\n",
    "print(elementwise_product.shape)\n",
    "# FC layer\n",
    "flatten = Flatten()(elementwise_product)\n",
    "print(flatten.shape)\n",
    "FC_l1 = Dense(16, activation=\"relu\")(flatten)\n",
    "FC_l2 = Dense(12, activation=\"relu\")(FC_l1)\n",
    "FC_l3 = Dense(8, activation=\"relu\")(FC_l2)\n",
    "last_layer = Dense(2, activation=\"sigmoid\")(FC_l3)\n",
    "output = Softmax()(last_layer)\n",
    "# output = Dense(1, activation = \"sigmoid\")(FC_l3)"
   ]
  },
  {
   "cell_type": "code",
   "execution_count": 28,
   "metadata": {},
   "outputs": [],
   "source": [
    "model_lm = Model(inputs=[input_lm], outputs=[output])\n",
    "opt = SGD(learning_rate = 2e-5, momentum = 0.9)\n",
    "model_lm.compile(loss = \"binary_crossentropy\", optimizer=opt, metrics=['accuracy'])"
   ]
  },
  {
   "cell_type": "code",
   "execution_count": 29,
   "metadata": {},
   "outputs": [
    {
     "name": "stdout",
     "output_type": "stream",
     "text": [
      "Epoch 1/5\n",
      "4/4 [==============================] - 58s 11s/step - loss: 0.6937 - accuracy: 0.5607 - val_loss: 0.7530 - val_accuracy: 0.4857\n",
      "Epoch 2/5\n",
      "4/4 [==============================] - 42s 10s/step - loss: 0.6937 - accuracy: 0.5607 - val_loss: 0.7421 - val_accuracy: 0.4571\n",
      "Epoch 3/5\n",
      "4/4 [==============================] - 42s 10s/step - loss: 0.6937 - accuracy: 0.5607 - val_loss: 0.7305 - val_accuracy: 0.3714\n",
      "Epoch 4/5\n",
      "4/4 [==============================] - 41s 10s/step - loss: 0.6938 - accuracy: 0.5421 - val_loss: 0.7249 - val_accuracy: 0.3714\n",
      "Epoch 5/5\n",
      "4/4 [==============================] - 42s 10s/step - loss: 0.6937 - accuracy: 0.5047 - val_loss: 0.7175 - val_accuracy: 0.3143\n"
     ]
    },
    {
     "data": {
      "text/plain": [
       "<keras.callbacks.History at 0x147c1478ca0>"
      ]
     },
     "execution_count": 29,
     "metadata": {},
     "output_type": "execute_result"
    }
   ],
   "source": [
    "model_lm.fit(lm_train[:], y_train[:], validation_data=(lm_dev[:], y_dev[:]), epochs=5)"
   ]
  },
  {
   "cell_type": "code",
   "execution_count": null,
   "metadata": {},
   "outputs": [],
   "source": [
    "#Predict\n",
    "x = lm_test\n",
    "y = y_test\n",
    "# x = x_dev_bad\n",
    "# y = y_dev_bad\n",
    "y_lm_prediction = model_lm.predict(x)\n",
    "y_lm_prediction = np.argmax(y_lm_prediction, axis = 1)\n",
    "# print(sum(y_pose_prediction)/len(y_pose_prediction))\n",
    "print(y_lm_prediction)\n",
    "#Create confusion matrix and normalizes it over predicted (columns)\n",
    "result = confusion_matrix(y, y_lm_prediction, normalize='pred')\n",
    "print(result)\n",
    "cm_display = ConfusionMatrixDisplay(confusion_matrix = result, display_labels = [\"Non-Depressed\", \"Depressed\"])\n",
    "cm_display.plot()\n",
    "plt.show()\n",
    "tn_pose = result[0][0]\n",
    "tp_pose = result[1][1]\n",
    "fn_pose = result[1][0]\n",
    "fp_pose = result[0][1]\n",
    "accuracy = (tp_pose + tn_pose)/(tp_pose + tn_pose + fp_pose + fn_pose)\n",
    "recall = tp_pose / (tp_pose + fn_pose)\n",
    "precision = tp_pose / (tp_pose + fp_pose)\n",
    "f1_score = 2 * precision * recall / (precision + recall)\n",
    "print(\"Accuracy = \" + str(accuracy))\n",
    "print(\"Recall = \" + str(recall))\n",
    "print(\"Precision = \" + str(precision))\n",
    "print(\"F1-score = \" + str(f1_score))"
   ]
  }
 ],
 "metadata": {
  "kernelspec": {
   "display_name": "attempt2",
   "language": "python",
   "name": "python3"
  },
  "language_info": {
   "codemirror_mode": {
    "name": "ipython",
    "version": 3
   },
   "file_extension": ".py",
   "mimetype": "text/x-python",
   "name": "python",
   "nbconvert_exporter": "python",
   "pygments_lexer": "ipython3",
   "version": "3.10.11"
  },
  "orig_nbformat": 4
 },
 "nbformat": 4,
 "nbformat_minor": 2
}
