{
 "cells": [
  {
   "cell_type": "code",
   "execution_count": 1,
   "metadata": {},
   "outputs": [],
   "source": [
    "from pathlib import Path\n",
    "import pandas as pd\n",
    "from imblearn.over_sampling import RandomOverSampler\n",
    "from keras.layers import BatchNormalization, Dense, Input, Conv1D, Add, ELU, Flatten, MaxPooling1D\n",
    "from keras.layers import GlobalAveragePooling1D, Softmax, Concatenate, Reshape, Multiply, ReLU\n",
    "from keras.optimizers import SGD\n",
    "from keras import activations\n",
    "from keras import Model\n",
    "from keras.initializers import HeNormal\n",
    "from sklearn.metrics import confusion_matrix, ConfusionMatrixDisplay\n",
    "from load_dataset import load_original_daic, load_labels\n",
    "import matplotlib.pyplot as plt\n",
    "import numpy as np\n",
    "from keras.utils.vis_utils import plot_model"
   ]
  },
  {
   "cell_type": "code",
   "execution_count": 2,
   "metadata": {},
   "outputs": [],
   "source": [
    "input_pose = Input(shape=[5000, 6])\n",
    "tdcn_dim_pose = [128,64,256,128,64] # used in Guo's paper\n",
    "# tdcn_dim_pose = [128,128,128,128,128]\n",
    "bias_initializer = HeNormal(seed=0)"
   ]
  },
  {
   "cell_type": "code",
   "execution_count": 30,
   "metadata": {},
   "outputs": [
    {
     "name": "stdout",
     "output_type": "stream",
     "text": [
      "(400, 5000, 6)\n",
      "(400,)\n"
     ]
    }
   ],
   "source": [
    "x_train_bad = np.concatenate((np.zeros((200, 5000, 6)), np.ones((200, 5000, 6))))\n",
    "y_train_bad = np.concatenate((np.zeros(200), np.ones(200)))\n",
    "x_dev_bad = np.concatenate((np.zeros((20, 5000, 6)), np.ones((20, 5000, 6))))\n",
    "y_dev_bad = np.concatenate((np.zeros(20), np.ones(20)))\n",
    "rng = np.random.default_rng(12345)\n",
    "order = np.arange(0,400)\n",
    "rng.shuffle(order)\n",
    "x_train_bad = x_train_bad[order]\n",
    "y_train_bad = y_train_bad[order]\n",
    "print(x_train_bad.shape)\n",
    "print(y_train_bad.shape)"
   ]
  },
  {
   "cell_type": "code",
   "execution_count": 64,
   "metadata": {},
   "outputs": [],
   "source": [
    "# One DCB\n",
    "# first layer of the DCB\n",
    "def diluted_conv_block(inputs, feature_dim):\n",
    "    # with K.name_scope(block_name)\n",
    "    l1_p1 = Conv1D(filters=feature_dim, kernel_size=3, padding=\"same\", dilation_rate=1, use_bias=True, bias_initializer=bias_initializer)(inputs)\n",
    "    l1_p2 = Conv1D(filters=feature_dim, kernel_size=3, padding=\"same\", dilation_rate=1, use_bias=True, bias_initializer=bias_initializer)(inputs)\n",
    "    l1_add = Add()([l1_p1, l1_p2])\n",
    "    l1_ELU = ELU()(l1_add)\n",
    "    # second layer of the DCB\n",
    "    l2_p1 = Conv1D(filters=feature_dim, kernel_size=3, padding=\"same\", dilation_rate=2, use_bias=True, bias_initializer=bias_initializer)(l1_ELU)\n",
    "    l2_p2 = Conv1D(filters=feature_dim, kernel_size=3, padding=\"same\", dilation_rate=2, use_bias=True, bias_initializer=bias_initializer)(l1_ELU)\n",
    "    l2_add = Add()([l2_p1, l2_p2])\n",
    "    l2_ELU = ELU()(l2_add)\n",
    "    # third layer of the DCB\n",
    "    l3_p1 = Conv1D(filters=feature_dim, kernel_size=3, padding=\"same\", dilation_rate=4, use_bias=True, bias_initializer=bias_initializer)(l2_ELU)\n",
    "    l3_p2 = Conv1D(filters=feature_dim, kernel_size=3, padding=\"same\", dilation_rate=4, use_bias=True, bias_initializer=bias_initializer)(l2_ELU)\n",
    "    l3_add = Add()([l3_p1, l3_p2])\n",
    "    l3_ELU = ELU()(l3_add)\n",
    "\n",
    "    residual = Conv1D(filters=feature_dim, kernel_size=1, padding=\"same\")(inputs)\n",
    "    res_add = Add()([l3_ELU, residual])\n",
    "    # res_add = Add()([l1_ELU, residual])\n",
    "    # res_add = ELU()(res_add)\n",
    "    # bn = BatchNormalization()(res_add)\n",
    "    # return bn\n",
    "    return res_add"
   ]
  },
  {
   "cell_type": "code",
   "execution_count": 78,
   "metadata": {},
   "outputs": [
    {
     "name": "stdout",
     "output_type": "stream",
     "text": [
      "(None, 312, 64)\n",
      "(None, 19968)\n"
     ]
    }
   ],
   "source": [
    "def time_diluted_conv_net(feature_dim, input_layer, pool_size, pool_stride):\n",
    "    dcb_1 = diluted_conv_block(input_layer, feature_dim[0])\n",
    "    mp_1 = MaxPooling1D(pool_size=pool_size, strides=pool_stride, padding='valid')(dcb_1)\n",
    "    dcb_2 = diluted_conv_block(mp_1, feature_dim[1])\n",
    "    mp_2 = MaxPooling1D(pool_size=pool_size, strides=pool_stride, padding='valid')(dcb_2)\n",
    "    dcb_3 = diluted_conv_block(mp_2, feature_dim[2])\n",
    "    mp_3 = MaxPooling1D(pool_size=pool_size, strides=pool_stride, padding='valid')(dcb_3)\n",
    "    dcb_4 = diluted_conv_block(mp_3, feature_dim[3])\n",
    "    mp_4 = MaxPooling1D(pool_size=pool_size, strides=pool_stride, padding='valid')(dcb_4)\n",
    "    dcb_5 = diluted_conv_block(mp_4, feature_dim[4])\n",
    "    return dcb_5\n",
    "    # return dcb_2\n",
    "\n",
    "# TDCN block for pose\n",
    "tdcn_pose = time_diluted_conv_net(\n",
    "    feature_dim = tdcn_dim_pose, \n",
    "    input_layer = input_pose, \n",
    "    pool_size = 2, \n",
    "    pool_stride = 2,\n",
    "    )\n",
    "\n",
    "# FWA block\n",
    "concat_layer = Concatenate()([tdcn_pose])\n",
    "# print(concat_layer.shape)\n",
    "# gap_layer = GlobalAveragePooling1D(data_format=\"channels_last\")(concat_layer)\n",
    "gap_layer = GlobalAveragePooling1D(data_format=\"channels_last\")(tdcn_pose)\n",
    "# print(gap_layer.shape)\n",
    "\n",
    "linear_layer_1 = Dense(gap_layer.shape[1])(gap_layer)\n",
    "# relu_layer = Dense(128, activation = \"relu\")(linear_layer_1)\n",
    "relu_layer = activations.relu(linear_layer_1)\n",
    "# relu_layer = ReLU()(linear_layer_1)\n",
    "linear_layer_2 = Dense(gap_layer.shape[1])(relu_layer)\n",
    "# sigmoid_layer = Dense(128, activation = \"sigmoid\")(linear_layer_2)\n",
    "sigmoid_layer = activations.sigmoid(linear_layer_2)\n",
    "# reshape_layer = Reshape((312, 128),)(sigmoid_layer)\n",
    "# print(reshape_layer.output_shape)\n",
    "# elementwise_product = Multiply()([concat_layer, reshape_layer])\n",
    "# elementwise_product = Multiply()([concat_layer, sigmoid_layer])\n",
    "elementwise_product = Multiply()([tdcn_pose, sigmoid_layer])\n",
    "print(elementwise_product.shape)\n",
    "# FC layer\n",
    "flatten = Flatten()(elementwise_product)\n",
    "print(flatten.shape)\n",
    "# FC_l1 = Dense(16, activation=\"relu\")(flatten)\n",
    "# FC_l2 = Dense(16, activation=\"relu\")(FC_l1)\n",
    "# FC_l3 = Dense(8, activation=\"relu\")(FC_l2)\n",
    "# last_layer = Dense(2, activation=\"sigmoid\")(FC_l3)\n",
    "FC_l1 = Dense(120, activation=\"relu\")(flatten)\n",
    "FC_l2 = Dense(80, activation=\"relu\")(FC_l1)\n",
    "FC_l3 = Dense(32, activation=\"relu\")(FC_l2)\n",
    "last_layer = Dense(2, activation=\"relu\")(FC_l3)\n",
    "\n",
    "output = Softmax()(last_layer)\n",
    "# output = Dense(1, activation = \"sigmoid\")(FC_l3)"
   ]
  },
  {
   "cell_type": "code",
   "execution_count": 79,
   "metadata": {},
   "outputs": [],
   "source": [
    "model_pose = Model(inputs=[input_pose], outputs=[output])"
   ]
  },
  {
   "cell_type": "code",
   "execution_count": 87,
   "metadata": {},
   "outputs": [],
   "source": [
    "# opt = SGD(learning_rate = 2e-5, momentum = 0.9, nesterov=True)\n",
    "opt = SGD(learning_rate = 2e-6, momentum = 0.2)\n",
    "model_pose.compile(loss = \"binary_crossentropy\", optimizer=opt, metrics=['accuracy'])\n",
    "# model_pose.compile(loss=\"sparse_categorical_crossentropy\", optimizer=opt, metrics=['accuracy'])"
   ]
  },
  {
   "cell_type": "code",
   "execution_count": 88,
   "metadata": {},
   "outputs": [
    {
     "name": "stdout",
     "output_type": "stream",
     "text": [
      "Epoch 1/4\n",
      "13/13 [==============================] - 39s 3s/step - loss: 0.6931 - accuracy: 0.9625 - val_loss: 0.6931 - val_accuracy: 0.9000\n",
      "Epoch 2/4\n",
      "13/13 [==============================] - 35s 3s/step - loss: 0.6931 - accuracy: 0.9675 - val_loss: 0.6931 - val_accuracy: 0.9000\n",
      "Epoch 3/4\n",
      "13/13 [==============================] - 35s 3s/step - loss: 0.6931 - accuracy: 0.9725 - val_loss: 0.6931 - val_accuracy: 0.9000\n",
      "Epoch 4/4\n",
      "13/13 [==============================] - 36s 3s/step - loss: 0.6931 - accuracy: 0.9750 - val_loss: 0.6931 - val_accuracy: 0.9000\n"
     ]
    },
    {
     "data": {
      "text/plain": [
       "<keras.callbacks.History at 0x2b7a440fd60>"
      ]
     },
     "execution_count": 88,
     "metadata": {},
     "output_type": "execute_result"
    }
   ],
   "source": [
    "model_pose.fit(x_train_bad[:], y_train_bad[:], validation_data=(x_dev_bad[:], y_dev_bad[:]), epochs=4)"
   ]
  },
  {
   "cell_type": "code",
   "execution_count": 89,
   "metadata": {},
   "outputs": [
    {
     "name": "stdout",
     "output_type": "stream",
     "text": [
      "2/2 [==============================] - 2s 259ms/step\n",
      "[0 0 0 0 0 0 0 0 0 0 0 0 0 0 0 0 0 0 0 0 1 1 1 1 1 1 1 1 1 1 0 0 1 1 1 1 1\n",
      " 1 0 0]\n",
      "[[0.83333333 0.        ]\n",
      " [0.16666667 1.        ]]\n"
     ]
    },
    {
     "data": {
      "image/png": "[encoded data removed]",
      "text/plain": [
       "<Figure size 640x480 with 2 Axes>"
      ]
     },
     "metadata": {},
     "output_type": "display_data"
    },
    {
     "name": "stdout",
     "output_type": "stream",
     "text": [
      "Accuracy = 0.9166666666666667\n",
      "Recall = 0.8571428571428571\n",
      "Precision = 1.0\n",
      "F1-score = 0.923076923076923\n"
     ]
    }
   ],
   "source": [
    "#Predict\n",
    "x = x_dev_bad\n",
    "y = y_dev_bad\n",
    "y_pose_prediction = model_pose.predict(x)\n",
    "y_pose_prediction = np.argmax(y_pose_prediction, axis = 1)\n",
    "\n",
    "# where_0 = np.where(y_pose_prediction == 0)\n",
    "# where_1 = np.where(y_pose_prediction == 1)\n",
    "\n",
    "# y_pose_prediction[where_0] = 1\n",
    "# y_pose_prediction[where_1] = 0\n",
    "\n",
    "# print(sum(y_pose_prediction)/len(y_pose_prediction))\n",
    "print(y_pose_prediction)\n",
    "#Create confusion matrix and normalizes it over predicted (columns)\n",
    "result = confusion_matrix(y, y_pose_prediction, normalize='pred')\n",
    "print(result)\n",
    "cm_display = ConfusionMatrixDisplay(confusion_matrix = result, display_labels = [\"Non-Depressed\", \"Depressed\"])\n",
    "cm_display.plot()\n",
    "plt.show()\n",
    "tn_pose = result[0][0]\n",
    "tp_pose = result[1][1]\n",
    "fn_pose = result[1][0]\n",
    "fp_pose = result[0][1]\n",
    "accuracy = (tp_pose + tn_pose)/(tp_pose + tn_pose + fp_pose + fn_pose)\n",
    "recall = tp_pose / (tp_pose + fn_pose)\n",
    "precision = tp_pose / (tp_pose + fp_pose)\n",
    "f1_score = 2 * precision * recall / (precision + recall)\n",
    "print(\"Accuracy = \" + str(accuracy))\n",
    "print(\"Recall = \" + str(recall))\n",
    "print(\"Precision = \" + str(precision))\n",
    "print(\"F1-score = \" + str(f1_score))"
   ]
  },
  {
   "cell_type": "code",
   "execution_count": 10,
   "metadata": {},
   "outputs": [],
   "source": [
    "# model_pose.save(\"saved_models/made_up_works\")"
   ]
  }
 ],
 "metadata": {
  "kernelspec": {
   "display_name": "ADD2",
   "language": "python",
   "name": "python3"
  },
  "language_info": {
   "codemirror_mode": {
    "name": "ipython",
    "version": 3
   },
   "file_extension": ".py",
   "mimetype": "text/x-python",
   "name": "python",
   "nbconvert_exporter": "python",
   "pygments_lexer": "ipython3",
   "version": "3.10.11"
  },
  "orig_nbformat": 4
 },
 "nbformat": 4,
 "nbformat_minor": 2
}
