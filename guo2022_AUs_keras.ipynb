{
    "cells": [
        {
            "cell_type": "code",
            "execution_count": 1,
            "metadata": {},
            "outputs": [],
            "source": [
                "from pathlib import Path\n",
                "import pandas as pd\n",
                "from keras.layers import BatchNormalization, Dense, Input, Conv1D, Add, ELU, Flatten, MaxPooling1D\n",
                "from keras.layers import GlobalAveragePooling1D, Softmax, Concatenate, Reshape, Multiply, ReLU\n",
                "from keras.optimizers import SGD\n",
                "from keras import activations\n",
                "from keras import Model\n",
                "from keras.initializers import HeNormal\n",
                "from sklearn.metrics import confusion_matrix, ConfusionMatrixDisplay\n",
                "from load_dataset import load_original_daic, load_labels\n",
                "import matplotlib.pyplot as plt\n",
                "import numpy as np\n",
                "from keras.utils.vis_utils import plot_model\n",
                "import keras_dilated_nn"
            ]
        },
        {
            "cell_type": "code",
            "execution_count": 2,
            "metadata": {},
            "outputs": [],
            "source": [
                "daic_AUs_train = load_original_daic(\"original_daic/train\", \"AUs\")\n",
                "daic_AUs_dev = load_original_daic(\"original_daic/dev\", \"AUs\")\n",
                "daic_AUs_test = load_original_daic(\"original_daic/test\", \"AUs\")"
            ]
        },
        {
            "cell_type": "code",
            "execution_count": 3,
            "metadata": {},
            "outputs": [],
            "source": [
                "# daic_AUs_dev[\"432\"].loc[0:4999]\n",
                "for i in range(5000):\n",
                "    try:\n",
                "        temp = daic_AUs_test[\"432\"].loc[i].to_numpy(dtype=\"float32\")\n",
                "    except Exception:\n",
                "        print(i)"
            ]
        },
        {
            "cell_type": "code",
            "execution_count": 4,
            "metadata": {},
            "outputs": [],
            "source": [
                "label_path = Path(\"original_daic/labels\")\n",
                "loaded_labels = load_labels(label_path)\n",
                "y_train = np.array(loaded_labels[\"train\"])\n",
                "y_dev = np.array(loaded_labels[\"dev\"])\n",
                "y_test = np.array(loaded_labels[\"test\"])\n"
            ]
        },
        {
            "cell_type": "code",
            "execution_count": 5,
            "metadata": {},
            "outputs": [],
            "source": [
                "AUs_train = []\n",
                "AUs_dev = []\n",
                "AUs_test = []\n",
                "for subject_id, subject_df in daic_AUs_train.items():\n",
                "    temp = subject_df.copy().loc[1000:5999].to_numpy(dtype=\"float32\")\n",
                "    AUs_train.append(temp)\n",
                "for subject_id, subject_df in daic_AUs_dev.items():\n",
                "    # print(subject_id)\n",
                "    temp = subject_df.copy().loc[1000:5999].to_numpy(dtype=\"float32\")\n",
                "    AUs_dev.append(temp)\n",
                "for subject_id, subject_df in daic_AUs_test.items():\n",
                "    # print(subject_id)\n",
                "    temp = subject_df.copy().loc[1000:5999].to_numpy(dtype=\"float32\")\n",
                "    AUs_test.append(temp)"
            ]
        },
        {
            "cell_type": "code",
            "execution_count": 6,
            "metadata": {},
            "outputs": [],
            "source": [
                "# list1 = [np.array([12,1]), np.array([2,3])]\n",
                "# list2 = [np.array([4,5]), np.array([6,7])]\n",
                "# list3 = [np.array([8,9]), np.array([10,11])]\n",
                "# all_lists = np.array(list1 + list2 + list3)\n",
                "# print(all_lists.min(0))\n",
                "# print(all_lists.ptp(0))\n",
                "all_samples = AUs_train + AUs_dev + AUs_test\n",
                "# all_samples = np.array(AUs_train + AUs_dev + AUs_test, dtype=object)\n",
                "all_samples = np.concatenate((all_samples),)\n",
                "# all_samples.shape\n",
                "min_values = all_samples.min(axis=0)\n",
                "ptp_ranges = all_samples.ptp(axis=0)"
            ]
        },
        {
            "cell_type": "code",
            "execution_count": 7,
            "metadata": {},
            "outputs": [],
            "source": [
                "AUs_train = np.array(AUs_train)\n",
                "AUs_dev = np.array(AUs_dev)\n",
                "AUs_test = np.array(AUs_test)"
            ]
        },
        {
            "cell_type": "code",
            "execution_count": 8,
            "metadata": {},
            "outputs": [],
            "source": [
                "norm_AUs_train = (AUs_train - min_values)/ptp_ranges\n",
                "norm_AUs_dev = (AUs_dev - min_values)/ptp_ranges\n",
                "norm_AUs_test = (AUs_test - min_values)/ptp_ranges"
            ]
        },
        {
            "cell_type": "code",
            "execution_count": 9,
            "metadata": {},
            "outputs": [],
            "source": [
                "input_AUs = Input(shape=[5000, 20])\n",
                "tdcn_dim_AUs = [128,64,256,128,64] # used in Guo's paper\n",
                "# tdcn_dim_AUs = [128,128,128,128,128]\n",
                "bias_initializer = HeNormal(seed=0)"
            ]
        },
        {
            "cell_type": "code",
            "execution_count": 11,
            "metadata": {},
            "outputs": [
                {
                    "name": "stdout",
                    "output_type": "stream",
                    "text": [
                        "(None, 312, 64)\n",
                        "(None, 19968)\n"
                    ]
                }
            ],
            "source": [
                "# TDCN block for AUs\n",
                "tdcn_AUs = keras_dilated_nn.time_diluted_conv_net(\n",
                "    feature_dim = tdcn_dim_AUs, \n",
                "    input_layer = input_AUs, \n",
                "    pool_size = 2, \n",
                "    pool_stride = 2,\n",
                "    )\n",
                "\n",
                "# FWA block\n",
                "concat_layer = Concatenate()([tdcn_AUs])\n",
                "# print(concat_layer.shape)\n",
                "# gap_layer = GlobalAveragePooling1D(data_format=\"channels_last\")(concat_layer)\n",
                "gap_layer = GlobalAveragePooling1D(data_format=\"channels_last\")(tdcn_AUs)\n",
                "# print(gap_layer.shape)\n",
                "\n",
                "linear_layer_1 = Dense(gap_layer.shape[1])(gap_layer)\n",
                "# relu_layer = Dense(128, activation = \"relu\")(linear_layer_1)\n",
                "relu_layer = activations.relu(linear_layer_1)\n",
                "# relu_layer = ReLU()(linear_layer_1)\n",
                "linear_layer_2 = Dense(gap_layer.shape[1])(relu_layer)\n",
                "# sigmoid_layer = Dense(128, activation = \"sigmoid\")(linear_layer_2)\n",
                "sigmoid_layer = activations.sigmoid(linear_layer_2)\n",
                "# reshape_layer = Reshape((312, 128),)(sigmoid_layer)\n",
                "# print(reshape_layer.output_shape)\n",
                "# elementwise_product = Multiply()([concat_layer, reshape_layer])\n",
                "# elementwise_product = Multiply()([concat_layer, sigmoid_layer])\n",
                "elementwise_product = Multiply()([tdcn_AUs, sigmoid_layer])\n",
                "print(elementwise_product.shape)\n",
                "# FC layer\n",
                "flatten = Flatten()(elementwise_product)\n",
                "print(flatten.shape)\n",
                "FC_l1 = Dense(16, activation=\"relu\")(flatten)\n",
                "FC_l2 = Dense(12, activation=\"relu\")(FC_l1)\n",
                "FC_l3 = Dense(8, activation=\"relu\")(FC_l2)\n",
                "last_layer = Dense(2, activation=\"sigmoid\")(FC_l3)\n",
                "output = Softmax()(last_layer)\n",
                "# output = Dense(1, activation = \"sigmoid\")(FC_l3)"
            ]
        },
        {
            "cell_type": "code",
            "execution_count": 12,
            "metadata": {},
            "outputs": [],
            "source": [
                "model_AUs = Model(inputs=[input_AUs], outputs=[output])\n",
                "opt = SGD(learning_rate = 2e-5, momentum = 0.9)\n",
                "# model_AUs.compile(loss = \"binary_crossentropy\", optimizer=opt, metrics=['accuracy'])\n",
                "model_AUs.compile(loss=\"sparse_categorical_crossentropy\", optimizer=opt, metrics=['accuracy'])"
            ]
        },
        {
            "cell_type": "code",
            "execution_count": 13,
            "metadata": {},
            "outputs": [
                {
                    "name": "stdout",
                    "output_type": "stream",
                    "text": [
                        "Epoch 1/5\n",
                        "4/4 [==============================] - 21s 5s/step - loss: 0.7001 - accuracy: 0.4486 - val_loss: 0.6893 - val_accuracy: 0.4000\n",
                        "Epoch 2/5\n",
                        "4/4 [==============================] - 19s 4s/step - loss: 0.6997 - accuracy: 0.4766 - val_loss: 0.6966 - val_accuracy: 0.5429\n",
                        "Epoch 3/5\n",
                        "4/4 [==============================] - 18s 4s/step - loss: 0.6980 - accuracy: 0.4953 - val_loss: 0.6982 - val_accuracy: 0.5714\n",
                        "Epoch 4/5\n",
                        "4/4 [==============================] - 18s 4s/step - loss: 0.6991 - accuracy: 0.4579 - val_loss: 0.6936 - val_accuracy: 0.5714\n",
                        "Epoch 5/5\n",
                        "4/4 [==============================] - 19s 5s/step - loss: 0.6981 - accuracy: 0.4860 - val_loss: 0.6884 - val_accuracy: 0.6000\n"
                    ]
                },
                {
                    "data": {
                        "text/plain": [
                            "<keras.callbacks.History at 0x15481d73c70>"
                        ]
                    },
                    "execution_count": 13,
                    "metadata": {},
                    "output_type": "execute_result"
                }
            ],
            "source": [
                "# model_AUs.fit(x_train_bad[:], y_train_bad[:], validation_data=(x_dev_bad[:], y_dev_bad[:]), epochs=2)\n",
                "model_AUs.fit(AUs_train[:], y_train[:], validation_data=(AUs_dev[:], y_dev[:]), epochs=5)"
            ]
        },
        {
            "cell_type": "code",
            "execution_count": 14,
            "metadata": {},
            "outputs": [
                {
                    "name": "stdout",
                    "output_type": "stream",
                    "text": [
                        "0.2803738317757009\n",
                        "0.34285714285714286\n",
                        "0.2978723404255319\n"
                    ]
                }
            ],
            "source": [
                "# model_AUs.evaluate(x=AUs_test, y=y_test)\n",
                "print(sum(y_train)/len(y_train))\n",
                "print(sum(y_dev)/len(y_dev))\n",
                "print(sum(y_test)/len(y_test))"
            ]
        },
        {
            "cell_type": "code",
            "execution_count": 15,
            "metadata": {},
            "outputs": [
                {
                    "name": "stdout",
                    "output_type": "stream",
                    "text": [
                        "2/2 [==============================] - 2s 628ms/step\n",
                        "[0 0 1 1 1 1 1 0 0 1 1 1 0 0 1 0 0 1 1 0 0 0 0 1 1 1 0 1 0 1 1 1 1 0 1 1 1\n",
                        " 0 1 1 1 1 1 1 1 0 0]\n",
                        "[[0.66666667 0.72413793]\n",
                        " [0.33333333 0.27586207]]\n"
                    ]
                },
                {
                    "data": {
                        "image/png": "[encoded data removed]",
                        "text/plain": [
                            "<Figure size 640x480 with 2 Axes>"
                        ]
                    },
                    "metadata": {},
                    "output_type": "display_data"
                },
                {
                    "name": "stdout",
                    "output_type": "stream",
                    "text": [
                        "Accuracy = 0.471264367816092\n",
                        "Recall = 0.45283018867924524\n",
                        "Precision = 0.27586206896551724\n",
                        "F1-score = 0.3428571428571428\n"
                    ]
                }
            ],
            "source": [
                "#Predict\n",
                "x = AUs_test\n",
                "y = y_test\n",
                "# x = x_dev_bad\n",
                "# y = y_dev_bad\n",
                "y_AUs_prediction = model_AUs.predict(x)\n",
                "y_AUs_prediction = np.argmax(y_AUs_prediction, axis = 1)\n",
                "# print(sum(y_AUs_prediction)/len(y_AUs_prediction))\n",
                "print(y_AUs_prediction)\n",
                "#Create confusion matrix and normalizes it over predicted (columns)\n",
                "result = confusion_matrix(y, y_AUs_prediction, normalize='pred')\n",
                "print(result)\n",
                "cm_display = ConfusionMatrixDisplay(confusion_matrix = result, display_labels = [\"Non-Depressed\", \"Depressed\"])\n",
                "cm_display.plot()\n",
                "plt.show()\n",
                "tn_AUs = result[0][0]\n",
                "tp_AUs = result[1][1]\n",
                "fn_AUs = result[1][0]\n",
                "fp_AUs = result[0][1]\n",
                "accuracy = (tp_AUs + tn_AUs)/(tp_AUs + tn_AUs + fp_AUs + fn_AUs)\n",
                "recall = tp_AUs / (tp_AUs + fn_AUs)\n",
                "precision = tp_AUs / (tp_AUs + fp_AUs)\n",
                "f1_score = 2 * precision * recall / (precision + recall)\n",
                "print(\"Accuracy = \" + str(accuracy))\n",
                "print(\"Recall = \" + str(recall))\n",
                "print(\"Precision = \" + str(precision))\n",
                "print(\"F1-score = \" + str(f1_score))"
            ]
        },
        {
            "cell_type": "code",
            "execution_count": 16,
            "metadata": {},
            "outputs": [
                {
                    "name": "stdout",
                    "output_type": "stream",
                    "text": [
                        "You must install pydot (`pip install pydot`) and install graphviz (see instructions at https://graphviz.gitlab.io/download/) for plot_model to work.\n"
                    ]
                }
            ],
            "source": [
                "plot_model(model_AUs, to_file='model_plot.png', show_shapes=True, show_layer_names=True)"
            ]
        },
        {
            "cell_type": "code",
            "execution_count": 17,
            "metadata": {},
            "outputs": [],
            "source": [
                "# model_AUs.save(\"saved_models/good_AUs_21_6\")"
            ]
        }
    ],
    "metadata": {
        "kernelspec": {
            "display_name": "attempt2",
            "language": "python",
            "name": "python3"
        },
        "language_info": {
            "codemirror_mode": {
                "name": "ipython",
                "version": 3
            },
            "file_extension": ".py",
            "mimetype": "text/x-python",
            "name": "python",
            "nbconvert_exporter": "python",
            "pygments_lexer": "ipython3",
            "version": "3.10.11"
        },
        "orig_nbformat": 4
    },
    "nbformat": 4,
    "nbformat_minor": 2
}
